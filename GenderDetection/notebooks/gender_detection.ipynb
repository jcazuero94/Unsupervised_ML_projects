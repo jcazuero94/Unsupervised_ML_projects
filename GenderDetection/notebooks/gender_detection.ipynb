{
 "cells": [
  {
   "cell_type": "code",
   "execution_count": 1,
   "metadata": {},
   "outputs": [],
   "source": [
    "import pandas as pd\n",
    "import numpy as np\n",
    "import os\n",
    "import matplotlib.pyplot as plt\n",
    "from tensorflow import keras\n",
    "from tensorflow.keras import layers\n",
    "from sklearn.metrics import accuracy_score, roc_auc_score"
   ]
  },
  {
   "cell_type": "code",
   "execution_count": 2,
   "metadata": {},
   "outputs": [],
   "source": [
    "os.environ['TF_CPP_MIN_LOG_LEVEL'] = '3' "
   ]
  },
  {
   "cell_type": "code",
   "execution_count": 3,
   "metadata": {},
   "outputs": [],
   "source": [
    "train = pd.read_parquet('../data/04_model_input/train_gd')\n",
    "cv = pd.read_parquet('../data/04_model_input/cv_gd')"
   ]
  },
  {
   "cell_type": "code",
   "execution_count": 4,
   "metadata": {},
   "outputs": [],
   "source": [
    "X_train = train.iloc[:,1:].values\n",
    "y_train = train['gender'].apply(lambda x: int(x=='M')).values\n",
    "X_cv = cv.iloc[:,1:].values\n",
    "y_cv = cv['gender'].apply(lambda x: int(x=='M')).values"
   ]
  },
  {
   "cell_type": "code",
   "execution_count": 5,
   "metadata": {},
   "outputs": [],
   "source": [
    "test = pd.read_parquet('../data/04_model_input/test_gd')\n",
    "X_test = test.iloc[:,1:].values\n",
    "y_test = test['gender'].apply(lambda x: int(x=='M')).values"
   ]
  },
  {
   "cell_type": "code",
   "execution_count": 6,
   "metadata": {},
   "outputs": [],
   "source": [
    "del train, cv, test"
   ]
  },
  {
   "cell_type": "code",
   "execution_count": 7,
   "metadata": {},
   "outputs": [
    {
     "name": "stdout",
     "output_type": "stream",
     "text": [
      "Metal device set to: Apple M1\n",
      "\n",
      "systemMemory: 8.00 GB\n",
      "maxCacheSize: 2.67 GB\n",
      "\n"
     ]
    }
   ],
   "source": [
    "input_faces = keras.Input(shape = (X_train.shape[1]))\n",
    "dense_1 = layers.Dense(70, activation='relu')(input_faces)\n",
    "dropout_1 = layers.Dropout(0.3)(dense_1)\n",
    "dense_2 = layers.Dense(50, activation='relu')(dropout_1)\n",
    "dropout_2 = layers.Dropout(0.3)(dense_2)\n",
    "dense_3 = layers.Dense(30, activation='relu')(dropout_2)\n",
    "predictions = layers.Dense(1, activation='sigmoid')(dense_3)"
   ]
  },
  {
   "cell_type": "code",
   "execution_count": 8,
   "metadata": {},
   "outputs": [],
   "source": [
    "model = keras.Model(inputs=input_faces, outputs=predictions)"
   ]
  },
  {
   "cell_type": "code",
   "execution_count": 9,
   "metadata": {},
   "outputs": [],
   "source": [
    "\n",
    "opt = keras.optimizers.Adam()"
   ]
  },
  {
   "cell_type": "code",
   "execution_count": 10,
   "metadata": {},
   "outputs": [],
   "source": [
    "model.compile(\n",
    "  opt,\n",
    "  loss='binary_crossentropy',\n",
    "  metrics=['accuracy'],\n",
    ")"
   ]
  },
  {
   "cell_type": "code",
   "execution_count": 11,
   "metadata": {},
   "outputs": [
    {
     "name": "stdout",
     "output_type": "stream",
     "text": [
      "Model: \"model\"\n",
      "_________________________________________________________________\n",
      " Layer (type)                Output Shape              Param #   \n",
      "=================================================================\n",
      " input_1 (InputLayer)        [(None, 4096)]            0         \n",
      "                                                                 \n",
      " dense (Dense)               (None, 70)                286790    \n",
      "                                                                 \n",
      " dropout (Dropout)           (None, 70)                0         \n",
      "                                                                 \n",
      " dense_1 (Dense)             (None, 50)                3550      \n",
      "                                                                 \n",
      " dropout_1 (Dropout)         (None, 50)                0         \n",
      "                                                                 \n",
      " dense_2 (Dense)             (None, 30)                1530      \n",
      "                                                                 \n",
      " dense_3 (Dense)             (None, 1)                 31        \n",
      "                                                                 \n",
      "=================================================================\n",
      "Total params: 291,901\n",
      "Trainable params: 291,901\n",
      "Non-trainable params: 0\n",
      "_________________________________________________________________\n"
     ]
    }
   ],
   "source": [
    "model.summary()"
   ]
  },
  {
   "cell_type": "code",
   "execution_count": 12,
   "metadata": {},
   "outputs": [],
   "source": [
    "loss_train = []\n",
    "loss_cv = []\n",
    "acc_train = []\n",
    "acc_cv = []"
   ]
  },
  {
   "cell_type": "code",
   "execution_count": 14,
   "metadata": {},
   "outputs": [],
   "source": [
    "model_best = None\n",
    "best_loss = np.inf\n",
    "for i in range(30):\n",
    "    model_fit = model.fit(\n",
    "        x = X_train,\n",
    "        y = y_train,\n",
    "        validation_data=(X_cv, y_cv),\n",
    "        use_multiprocessing=True,\n",
    "        verbose=False,\n",
    "    )\n",
    "    loss_train += model_fit.history[\"loss\"]\n",
    "    loss_cv += model_fit.history[\"val_loss\"]\n",
    "    acc_train += model_fit.history['accuracy']\n",
    "    acc_cv += model_fit.history['val_accuracy']\n",
    "    if loss_cv[-1] < best_loss:\n",
    "        best_loss = loss_cv[-1]\n",
    "        model_best = keras.models.clone_model(model)\n",
    "        model_best.build((None, X_train.shape[1]))\n",
    "        model_best.compile(\n",
    "            opt,\n",
    "            loss='binary_crossentropy',\n",
    "            metrics=['accuracy'],\n",
    "        )\n",
    "        model_best.set_weights(model.get_weights())"
   ]
  },
  {
   "cell_type": "code",
   "execution_count": 15,
   "metadata": {},
   "outputs": [
    {
     "data": {
      "text/plain": [
       "[<matplotlib.lines.Line2D at 0x16d0fe2f0>]"
      ]
     },
     "execution_count": 15,
     "metadata": {},
     "output_type": "execute_result"
    },
    {
     "data": {
      "image/png": "[encoded data removed]",
      "text/plain": [
       "<Figure size 432x288 with 1 Axes>"
      ]
     },
     "metadata": {
      "needs_background": "light"
     },
     "output_type": "display_data"
    }
   ],
   "source": [
    "fig, ax = plt.subplots()\n",
    "ax.plot(loss_train)\n",
    "ax.plot(loss_cv)"
   ]
  },
  {
   "cell_type": "code",
   "execution_count": 16,
   "metadata": {},
   "outputs": [
    {
     "data": {
      "text/plain": [
       "[<matplotlib.lines.Line2D at 0x1508691e0>]"
      ]
     },
     "execution_count": 16,
     "metadata": {},
     "output_type": "execute_result"
    },
    {
     "data": {
      "image/png": "[encoded data removed]",
      "text/plain": [
       "<Figure size 432x288 with 1 Axes>"
      ]
     },
     "metadata": {
      "needs_background": "light"
     },
     "output_type": "display_data"
    }
   ],
   "source": [
    "fig, ax = plt.subplots()\n",
    "ax.plot(acc_train)\n",
    "ax.plot(acc_cv)"
   ]
  },
  {
   "cell_type": "code",
   "execution_count": 17,
   "metadata": {},
   "outputs": [
    {
     "name": "stdout",
     "output_type": "stream",
     "text": [
      "51/51 [==============================] - 0s 2ms/step\n"
     ]
    }
   ],
   "source": [
    "test_pred = model_best.predict(X_test)"
   ]
  },
  {
   "cell_type": "code",
   "execution_count": 20,
   "metadata": {},
   "outputs": [
    {
     "data": {
      "text/plain": [
       "0.7807569568211807"
      ]
     },
     "execution_count": 20,
     "metadata": {},
     "output_type": "execute_result"
    }
   ],
   "source": [
    "roc_auc_score(y_test, test_pred)"
   ]
  },
  {
   "cell_type": "code",
   "execution_count": 21,
   "metadata": {},
   "outputs": [
    {
     "data": {
      "text/plain": [
       "0.8534641324340895"
      ]
     },
     "execution_count": 21,
     "metadata": {},
     "output_type": "execute_result"
    }
   ],
   "source": [
    "accuracy_score(y_test,(test_pred>0.5).astype(int))"
   ]
  },
  {
   "cell_type": "code",
   "execution_count": null,
   "metadata": {},
   "outputs": [],
   "source": []
  }
 ],
 "metadata": {
  "kernelspec": {
   "display_name": "Python 3.10.4 ('face_pairing')",
   "language": "python",
   "name": "python3"
  },
  "language_info": {
   "codemirror_mode": {
    "name": "ipython",
    "version": 3
   },
   "file_extension": ".py",
   "mimetype": "text/x-python",
   "name": "python",
   "nbconvert_exporter": "python",
   "pygments_lexer": "ipython3",
   "version": "3.10.4"
  },
  "orig_nbformat": 4,
  "vscode": {
   "interpreter": {
    "hash": "eb485eb93012e960878854d191db210d51070cc2a4ece918ba1b04a770e88192"
   }
  }
 },
 "nbformat": 4,
 "nbformat_minor": 2
}
