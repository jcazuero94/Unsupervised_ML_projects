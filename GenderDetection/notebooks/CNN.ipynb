{
 "cells": [
  {
   "cell_type": "code",
   "execution_count": 2,
   "id": "0846dd1e",
   "metadata": {},
   "outputs": [],
   "source": [
    "import pandas as pd\n",
    "import numpy as np\n",
    "import datetime"
   ]
  },
  {
   "cell_type": "code",
   "execution_count": 3,
   "id": "b5321fb7",
   "metadata": {},
   "outputs": [
    {
     "data": {
      "application/javascript": "\n            setTimeout(function() {\n                var nbb_cell_id = 3;\n                var nbb_unformatted_code = \"%load_ext nb_black\";\n                var nbb_formatted_code = \"%load_ext nb_black\";\n                var nbb_cells = Jupyter.notebook.get_cells();\n                for (var i = 0; i < nbb_cells.length; ++i) {\n                    if (nbb_cells[i].input_prompt_number == nbb_cell_id) {\n                        if (nbb_cells[i].get_text() == nbb_unformatted_code) {\n                             nbb_cells[i].set_text(nbb_formatted_code);\n                        }\n                        break;\n                    }\n                }\n            }, 500);\n            ",
      "text/plain": [
       "<IPython.core.display.Javascript object>"
      ]
     },
     "metadata": {},
     "output_type": "display_data"
    }
   ],
   "source": [
    "%load_ext nb_black"
   ]
  },
  {
   "cell_type": "code",
   "execution_count": 5,
   "id": "89824b51",
   "metadata": {},
   "outputs": [
    {
     "data": {
      "application/javascript": "\n            setTimeout(function() {\n                var nbb_cell_id = 5;\n                var nbb_unformatted_code = \"faces_df = pd.read_parquet(\\\"../data/02_intermediate/faces_dir\\\")\";\n                var nbb_formatted_code = \"faces_df = pd.read_parquet(\\\"../data/02_intermediate/faces_dir\\\")\";\n                var nbb_cells = Jupyter.notebook.get_cells();\n                for (var i = 0; i < nbb_cells.length; ++i) {\n                    if (nbb_cells[i].input_prompt_number == nbb_cell_id) {\n                        if (nbb_cells[i].get_text() == nbb_unformatted_code) {\n                             nbb_cells[i].set_text(nbb_formatted_code);\n                        }\n                        break;\n                    }\n                }\n            }, 500);\n            ",
      "text/plain": [
       "<IPython.core.display.Javascript object>"
      ]
     },
     "metadata": {},
     "output_type": "display_data"
    }
   ],
   "source": [
    "faces_df = pd.read_parquet(\"../data/02_intermediate/faces_dir\")"
   ]
  },
  {
   "cell_type": "code",
   "execution_count": 3,
   "id": "53f7ead7",
   "metadata": {},
   "outputs": [
    {
     "data": {
      "application/javascript": "\n            setTimeout(function() {\n                var nbb_cell_id = 3;\n                var nbb_unformatted_code = \"FACES_DIR = '../Data/01_raw/Faces'\\nfaces = os.listdir(FACES_DIR)\\nfaces_df = pd.DataFrame(columns=['address'],data = faces)\\nfaces_df['number'] = faces_df['address'].apply(lambda x: int(x.split('_')[-1].split('.')[0]))\\nfaces_df['name'] = faces_df['address'].apply(lambda x: ' '.join(x.split('_')[:-1]))\\nfaces_value_counts = faces_df['name'].value_counts()\\nfaces_df['train_set'] = faces_df['name'].isin(\\n    np.random.permutation(faces_value_counts.index)[:int(0.7*len(faces_value_counts))]\\n)\\ndf_input = faces_df[faces_df['train_set']].drop('train_set', axis=1)\\ndf_validation = faces_df[~faces_df['train_set']].drop('train_set', axis=1)\";\n                var nbb_formatted_code = \"FACES_DIR = \\\"../Data/01_raw/Faces\\\"\\nfaces = os.listdir(FACES_DIR)\\nfaces_df = pd.DataFrame(columns=[\\\"address\\\"], data=faces)\\nfaces_df[\\\"number\\\"] = faces_df[\\\"address\\\"].apply(\\n    lambda x: int(x.split(\\\"_\\\")[-1].split(\\\".\\\")[0])\\n)\\nfaces_df[\\\"name\\\"] = faces_df[\\\"address\\\"].apply(lambda x: \\\" \\\".join(x.split(\\\"_\\\")[:-1]))\\nfaces_value_counts = faces_df[\\\"name\\\"].value_counts()\\nfaces_df[\\\"train_set\\\"] = faces_df[\\\"name\\\"].isin(\\n    np.random.permutation(faces_value_counts.index)[\\n        : int(0.7 * len(faces_value_counts))\\n    ]\\n)\\ndf_input = faces_df[faces_df[\\\"train_set\\\"]].drop(\\\"train_set\\\", axis=1)\\ndf_validation = faces_df[~faces_df[\\\"train_set\\\"]].drop(\\\"train_set\\\", axis=1)\";\n                var nbb_cells = Jupyter.notebook.get_cells();\n                for (var i = 0; i < nbb_cells.length; ++i) {\n                    if (nbb_cells[i].input_prompt_number == nbb_cell_id) {\n                        if (nbb_cells[i].get_text() == nbb_unformatted_code) {\n                             nbb_cells[i].set_text(nbb_formatted_code);\n                        }\n                        break;\n                    }\n                }\n            }, 500);\n            ",
      "text/plain": [
       "<IPython.core.display.Javascript object>"
      ]
     },
     "metadata": {},
     "output_type": "display_data"
    }
   ],
   "source": [
    "\n",
    "faces_value_counts = faces_df[\"name\"].value_counts()\n",
    "faces_df[\"train_set\"] = faces_df[\"name\"].isin(\n",
    "    np.random.permutation(faces_value_counts.index)[\n",
    "        : int(0.7 * len(faces_value_counts))\n",
    "    ]\n",
    ")\n",
    "df_input = faces_df[faces_df[\"train_set\"]].drop(\"train_set\", axis=1)\n",
    "df_validation = faces_df[~faces_df[\"train_set\"]].drop(\"train_set\", axis=1)"
   ]
  },
  {
   "cell_type": "code",
   "execution_count": 4,
   "id": "20a2aabd",
   "metadata": {},
   "outputs": [
    {
     "data": {
      "application/javascript": "\n            setTimeout(function() {\n                var nbb_cell_id = 4;\n                var nbb_unformatted_code = \"def generate_data(df=df_input, n_sample=100, prop_same=0.5):\\n    n_same = int(prop_same * n_sample)\\n    n_dif = n_sample - n_same\\n    val_counts = df[\\\"name\\\"].value_counts()\\n    val_counts_rep = val_counts[val_counts > 1]\\n    sample_same = np.random.randint((val_counts_rep).sum(), size=n_same)\\n    sample_ser_cum = val_counts_rep.cumsum().apply(\\n        lambda x: sum([x >= y for y in sample_same])\\n    )\\n    sample_ser = sample_ser_cum - ([0] + list(sample_ser_cum.values)[:-1])\\n    while True:\\n        result_df = pd.DataFrame(columns=[\\\"arr_1\\\", \\\"arr_2\\\", \\\"same\\\"])\\n        cont = 0\\n        for ind, n in sample_ser[sample_ser > 0].iteritems():\\n            for i in range(n):\\n                sample_inds = np.random.choice(\\n                    df[df[\\\"name\\\"] == ind][\\\"address\\\"].values, 2\\n                )\\n                result_df.loc[cont] = [\\n                    (imread(FACES_DIR + \\\"/\\\" + sample_inds[0]) - 255) / 123,\\n                    (imread(FACES_DIR + \\\"/\\\" + sample_inds[1]) - 255) / 123,\\n                    True,\\n                ]\\n                cont += 1\\n        for i in range(n_dif):\\n            ind_1, ind_2 = tuple(np.random.choice(df.index, 2))\\n            while df.loc[ind_1, \\\"name\\\"] == df.loc[ind_2, \\\"name\\\"]:\\n                ind_1, ind_2 = tuple(np.random.choice(df.index, 2))\\n            result_df.loc[cont] = [\\n                (imread(FACES_DIR + \\\"/\\\" + df.loc[ind_1][\\\"address\\\"]) - 255) / 123,\\n                (imread(FACES_DIR + \\\"/\\\" + df.loc[ind_2][\\\"address\\\"]) - 255) / 123,\\n                False,\\n            ]\\n            cont += 1\\n        yield (\\n            [\\n                np.concatenate(result_df[\\\"arr_1\\\"].apply(lambda x: x[None, :])),\\n                np.concatenate(result_df[\\\"arr_2\\\"].apply(lambda x: x[None, :])),\\n            ],\\n            result_df[\\\"same\\\"].astype(int).values,\\n        )\";\n                var nbb_formatted_code = \"def generate_data(df=df_input, n_sample=100, prop_same=0.5):\\n    n_same = int(prop_same * n_sample)\\n    n_dif = n_sample - n_same\\n    val_counts = df[\\\"name\\\"].value_counts()\\n    val_counts_rep = val_counts[val_counts > 1]\\n    sample_same = np.random.randint((val_counts_rep).sum(), size=n_same)\\n    sample_ser_cum = val_counts_rep.cumsum().apply(\\n        lambda x: sum([x >= y for y in sample_same])\\n    )\\n    sample_ser = sample_ser_cum - ([0] + list(sample_ser_cum.values)[:-1])\\n    while True:\\n        result_df = pd.DataFrame(columns=[\\\"arr_1\\\", \\\"arr_2\\\", \\\"same\\\"])\\n        cont = 0\\n        for ind, n in sample_ser[sample_ser > 0].iteritems():\\n            for i in range(n):\\n                sample_inds = np.random.choice(\\n                    df[df[\\\"name\\\"] == ind][\\\"address\\\"].values, 2\\n                )\\n                result_df.loc[cont] = [\\n                    (imread(FACES_DIR + \\\"/\\\" + sample_inds[0]) - 255) / 123,\\n                    (imread(FACES_DIR + \\\"/\\\" + sample_inds[1]) - 255) / 123,\\n                    True,\\n                ]\\n                cont += 1\\n        for i in range(n_dif):\\n            ind_1, ind_2 = tuple(np.random.choice(df.index, 2))\\n            while df.loc[ind_1, \\\"name\\\"] == df.loc[ind_2, \\\"name\\\"]:\\n                ind_1, ind_2 = tuple(np.random.choice(df.index, 2))\\n            result_df.loc[cont] = [\\n                (imread(FACES_DIR + \\\"/\\\" + df.loc[ind_1][\\\"address\\\"]) - 255) / 123,\\n                (imread(FACES_DIR + \\\"/\\\" + df.loc[ind_2][\\\"address\\\"]) - 255) / 123,\\n                False,\\n            ]\\n            cont += 1\\n        yield (\\n            [\\n                np.concatenate(result_df[\\\"arr_1\\\"].apply(lambda x: x[None, :])),\\n                np.concatenate(result_df[\\\"arr_2\\\"].apply(lambda x: x[None, :])),\\n            ],\\n            result_df[\\\"same\\\"].astype(int).values,\\n        )\";\n                var nbb_cells = Jupyter.notebook.get_cells();\n                for (var i = 0; i < nbb_cells.length; ++i) {\n                    if (nbb_cells[i].input_prompt_number == nbb_cell_id) {\n                        if (nbb_cells[i].get_text() == nbb_unformatted_code) {\n                             nbb_cells[i].set_text(nbb_formatted_code);\n                        }\n                        break;\n                    }\n                }\n            }, 500);\n            ",
      "text/plain": [
       "<IPython.core.display.Javascript object>"
      ]
     },
     "metadata": {},
     "output_type": "display_data"
    }
   ],
   "source": [
    "def generate_data(df=df_input, n_sample=100, prop_same=0.5):\n",
    "    n_same = int(prop_same * n_sample)\n",
    "    n_dif = n_sample - n_same\n",
    "    val_counts = df[\"name\"].value_counts()\n",
    "    val_counts_rep = val_counts[val_counts > 1]\n",
    "    sample_same = np.random.randint((val_counts_rep).sum(), size=n_same)\n",
    "    sample_ser_cum = val_counts_rep.cumsum().apply(\n",
    "        lambda x: sum([x >= y for y in sample_same])\n",
    "    )\n",
    "    sample_ser = sample_ser_cum - ([0] + list(sample_ser_cum.values)[:-1])\n",
    "    while True:\n",
    "        result_df = pd.DataFrame(columns=[\"arr_1\", \"arr_2\", \"same\"])\n",
    "        cont = 0\n",
    "        for ind, n in sample_ser[sample_ser > 0].iteritems():\n",
    "            for i in range(n):\n",
    "                sample_inds = np.random.choice(\n",
    "                    df[df[\"name\"] == ind][\"address\"].values, 2\n",
    "                )\n",
    "                result_df.loc[cont] = [\n",
    "                    (imread(FACES_DIR + \"/\" + sample_inds[0]) - 255) / 123,\n",
    "                    (imread(FACES_DIR + \"/\" + sample_inds[1]) - 255) / 123,\n",
    "                    True,\n",
    "                ]\n",
    "                cont += 1\n",
    "        for i in range(n_dif):\n",
    "            ind_1, ind_2 = tuple(np.random.choice(df.index, 2))\n",
    "            while df.loc[ind_1, \"name\"] == df.loc[ind_2, \"name\"]:\n",
    "                ind_1, ind_2 = tuple(np.random.choice(df.index, 2))\n",
    "            result_df.loc[cont] = [\n",
    "                (imread(FACES_DIR + \"/\" + df.loc[ind_1][\"address\"]) - 255) / 123,\n",
    "                (imread(FACES_DIR + \"/\" + df.loc[ind_2][\"address\"]) - 255) / 123,\n",
    "                False,\n",
    "            ]\n",
    "            cont += 1\n",
    "        yield (\n",
    "            [\n",
    "                np.concatenate(result_df[\"arr_1\"].apply(lambda x: x[None, :])),\n",
    "                np.concatenate(result_df[\"arr_2\"].apply(lambda x: x[None, :])),\n",
    "            ],\n",
    "            result_df[\"same\"].astype(int).values,\n",
    "        )"
   ]
  },
  {
   "cell_type": "code",
   "execution_count": 5,
   "id": "aabc7f23",
   "metadata": {},
   "outputs": [
    {
     "data": {
      "application/javascript": "\n            setTimeout(function() {\n                var nbb_cell_id = 5;\n                var nbb_unformatted_code = \"x, y = next(generate_data(df_input, n_sample=3))\";\n                var nbb_formatted_code = \"x, y = next(generate_data(df_input, n_sample=3))\";\n                var nbb_cells = Jupyter.notebook.get_cells();\n                for (var i = 0; i < nbb_cells.length; ++i) {\n                    if (nbb_cells[i].input_prompt_number == nbb_cell_id) {\n                        if (nbb_cells[i].get_text() == nbb_unformatted_code) {\n                             nbb_cells[i].set_text(nbb_formatted_code);\n                        }\n                        break;\n                    }\n                }\n            }, 500);\n            ",
      "text/plain": [
       "<IPython.core.display.Javascript object>"
      ]
     },
     "metadata": {},
     "output_type": "display_data"
    }
   ],
   "source": [
    "x, y = next(generate_data(df_input, n_sample=3))"
   ]
  },
  {
   "cell_type": "code",
   "execution_count": 6,
   "id": "9a075c60",
   "metadata": {},
   "outputs": [
    {
     "data": {
      "application/javascript": "\n            setTimeout(function() {\n                var nbb_cell_id = 6;\n                var nbb_unformatted_code = \"shape_arr = x[0].shape[1:]\\ninput_face_1 = keras.Input(shape=(shape_arr))\\ninput_face_2 = keras.Input(shape=(shape_arr))\";\n                var nbb_formatted_code = \"shape_arr = x[0].shape[1:]\\ninput_face_1 = keras.Input(shape=(shape_arr))\\ninput_face_2 = keras.Input(shape=(shape_arr))\";\n                var nbb_cells = Jupyter.notebook.get_cells();\n                for (var i = 0; i < nbb_cells.length; ++i) {\n                    if (nbb_cells[i].input_prompt_number == nbb_cell_id) {\n                        if (nbb_cells[i].get_text() == nbb_unformatted_code) {\n                             nbb_cells[i].set_text(nbb_formatted_code);\n                        }\n                        break;\n                    }\n                }\n            }, 500);\n            ",
      "text/plain": [
       "<IPython.core.display.Javascript object>"
      ]
     },
     "metadata": {},
     "output_type": "display_data"
    }
   ],
   "source": [
    "shape_arr = x[0].shape[1:]\n",
    "input_face_1 = keras.Input(shape=(shape_arr))\n",
    "input_face_2 = keras.Input(shape=(shape_arr))"
   ]
  },
  {
   "cell_type": "code",
   "execution_count": 7,
   "id": "467a5bc8",
   "metadata": {},
   "outputs": [
    {
     "data": {
      "application/javascript": "\n            setTimeout(function() {\n                var nbb_cell_id = 7;\n                var nbb_unformatted_code = \"conv_1 = layers.Conv2D(filters=5, kernel_size=10, strides=(3, 3), activation=\\\"relu\\\")\\nmax_pool_1 = layers.MaxPooling2D()\\nconv_2 = layers.Conv2D(filters=10, kernel_size=4, activation=\\\"relu\\\")\\nmax_pool_2 = layers.MaxPooling2D()\\nconv_3 = layers.Conv2D(filters=15, kernel_size=4, activation=\\\"relu\\\")\\nmax_pool_3 = layers.MaxPooling2D()\\nconv_4 = layers.Conv2D(filters=30, kernel_size=4, activation=\\\"relu\\\")\\nmax_pool_4 = layers.MaxPooling2D(pool_size=(4, 4))\";\n                var nbb_formatted_code = \"conv_1 = layers.Conv2D(filters=5, kernel_size=10, strides=(3, 3), activation=\\\"relu\\\")\\nmax_pool_1 = layers.MaxPooling2D()\\nconv_2 = layers.Conv2D(filters=10, kernel_size=4, activation=\\\"relu\\\")\\nmax_pool_2 = layers.MaxPooling2D()\\nconv_3 = layers.Conv2D(filters=15, kernel_size=4, activation=\\\"relu\\\")\\nmax_pool_3 = layers.MaxPooling2D()\\nconv_4 = layers.Conv2D(filters=30, kernel_size=4, activation=\\\"relu\\\")\\nmax_pool_4 = layers.MaxPooling2D(pool_size=(4, 4))\";\n                var nbb_cells = Jupyter.notebook.get_cells();\n                for (var i = 0; i < nbb_cells.length; ++i) {\n                    if (nbb_cells[i].input_prompt_number == nbb_cell_id) {\n                        if (nbb_cells[i].get_text() == nbb_unformatted_code) {\n                             nbb_cells[i].set_text(nbb_formatted_code);\n                        }\n                        break;\n                    }\n                }\n            }, 500);\n            ",
      "text/plain": [
       "<IPython.core.display.Javascript object>"
      ]
     },
     "metadata": {},
     "output_type": "display_data"
    }
   ],
   "source": [
    "conv_1 = layers.Conv2D(filters=5, kernel_size=10, strides=(3, 3), activation=\"relu\")\n",
    "max_pool_1 = layers.MaxPooling2D()\n",
    "conv_2 = layers.Conv2D(filters=10, kernel_size=4, activation=\"relu\")\n",
    "max_pool_2 = layers.MaxPooling2D()\n",
    "conv_3 = layers.Conv2D(filters=15, kernel_size=4, activation=\"relu\")\n",
    "max_pool_3 = layers.MaxPooling2D()\n",
    "conv_4 = layers.Conv2D(filters=30, kernel_size=4, activation=\"relu\")\n",
    "max_pool_4 = layers.MaxPooling2D(pool_size=(4, 4))"
   ]
  },
  {
   "cell_type": "code",
   "execution_count": 8,
   "id": "f53ecb57",
   "metadata": {},
   "outputs": [
    {
     "name": "stdout",
     "output_type": "stream",
     "text": [
      "Metal device set to: Apple M1\n"
     ]
    },
    {
     "name": "stderr",
     "output_type": "stream",
     "text": [
      "2022-06-12 22:55:48.857665: I tensorflow/core/common_runtime/pluggable_device/pluggable_device_factory.cc:305] Could not identify NUMA node of platform GPU ID 0, defaulting to 0. Your kernel may not have been built with NUMA support.\n",
      "2022-06-12 22:55:48.857909: I tensorflow/core/common_runtime/pluggable_device/pluggable_device_factory.cc:271] Created TensorFlow device (/job:localhost/replica:0/task:0/device:GPU:0 with 0 MB memory) -> physical PluggableDevice (device: 0, name: METAL, pci bus id: <undefined>)\n"
     ]
    },
    {
     "data": {
      "application/javascript": "\n            setTimeout(function() {\n                var nbb_cell_id = 8;\n                var nbb_unformatted_code = \"face_1_conv = conv_1(input_face_1)\\nface_2_conv = conv_1(input_face_2)\\n\\nface_1_conv = max_pool_1(face_1_conv)\\nface_2_conv = max_pool_1(face_2_conv)\\n\\nface_1_conv = conv_2(face_1_conv)\\nface_2_conv = conv_2(face_2_conv)\\n\\nface_1_conv = max_pool_2(face_1_conv)\\nface_2_conv = max_pool_2(face_2_conv)\\n\\n\\nface_1_conv = conv_3(face_1_conv)\\nface_2_conv = conv_3(face_2_conv)\\n\\nface_1_conv = max_pool_3(face_1_conv)\\nface_2_conv = max_pool_3(face_2_conv)\\n\\n\\nface_1_conv = conv_4(face_1_conv)\\nface_2_conv = conv_4(face_2_conv)\\n\\nface_1_conv = max_pool_4(face_1_conv)\\nface_2_conv = max_pool_4(face_2_conv)\\n\\n\\nmerge_layer = layers.Concatenate()([face_1_conv, face_2_conv])\\ndense_input = layers.Flatten()(merge_layer)\";\n                var nbb_formatted_code = \"face_1_conv = conv_1(input_face_1)\\nface_2_conv = conv_1(input_face_2)\\n\\nface_1_conv = max_pool_1(face_1_conv)\\nface_2_conv = max_pool_1(face_2_conv)\\n\\nface_1_conv = conv_2(face_1_conv)\\nface_2_conv = conv_2(face_2_conv)\\n\\nface_1_conv = max_pool_2(face_1_conv)\\nface_2_conv = max_pool_2(face_2_conv)\\n\\n\\nface_1_conv = conv_3(face_1_conv)\\nface_2_conv = conv_3(face_2_conv)\\n\\nface_1_conv = max_pool_3(face_1_conv)\\nface_2_conv = max_pool_3(face_2_conv)\\n\\n\\nface_1_conv = conv_4(face_1_conv)\\nface_2_conv = conv_4(face_2_conv)\\n\\nface_1_conv = max_pool_4(face_1_conv)\\nface_2_conv = max_pool_4(face_2_conv)\\n\\n\\nmerge_layer = layers.Concatenate()([face_1_conv, face_2_conv])\\ndense_input = layers.Flatten()(merge_layer)\";\n                var nbb_cells = Jupyter.notebook.get_cells();\n                for (var i = 0; i < nbb_cells.length; ++i) {\n                    if (nbb_cells[i].input_prompt_number == nbb_cell_id) {\n                        if (nbb_cells[i].get_text() == nbb_unformatted_code) {\n                             nbb_cells[i].set_text(nbb_formatted_code);\n                        }\n                        break;\n                    }\n                }\n            }, 500);\n            ",
      "text/plain": [
       "<IPython.core.display.Javascript object>"
      ]
     },
     "metadata": {},
     "output_type": "display_data"
    }
   ],
   "source": [
    "face_1_conv = conv_1(input_face_1)\n",
    "face_2_conv = conv_1(input_face_2)\n",
    "\n",
    "face_1_conv = max_pool_1(face_1_conv)\n",
    "face_2_conv = max_pool_1(face_2_conv)\n",
    "\n",
    "face_1_conv = conv_2(face_1_conv)\n",
    "face_2_conv = conv_2(face_2_conv)\n",
    "\n",
    "face_1_conv = max_pool_2(face_1_conv)\n",
    "face_2_conv = max_pool_2(face_2_conv)\n",
    "\n",
    "\n",
    "face_1_conv = conv_3(face_1_conv)\n",
    "face_2_conv = conv_3(face_2_conv)\n",
    "\n",
    "face_1_conv = max_pool_3(face_1_conv)\n",
    "face_2_conv = max_pool_3(face_2_conv)\n",
    "\n",
    "\n",
    "face_1_conv = conv_4(face_1_conv)\n",
    "face_2_conv = conv_4(face_2_conv)\n",
    "\n",
    "face_1_conv = max_pool_4(face_1_conv)\n",
    "face_2_conv = max_pool_4(face_2_conv)\n",
    "\n",
    "\n",
    "merge_layer = layers.Concatenate()([face_1_conv, face_2_conv])\n",
    "dense_input = layers.Flatten()(merge_layer)"
   ]
  },
  {
   "cell_type": "code",
   "execution_count": 9,
   "id": "8d58021d",
   "metadata": {},
   "outputs": [
    {
     "data": {
      "application/javascript": "\n            setTimeout(function() {\n                var nbb_cell_id = 9;\n                var nbb_unformatted_code = \"dense_1 = layers.Dense(10, activation=\\\"relu\\\")(dense_input)\\npredictions = layers.Dense(1, activation=\\\"sigmoid\\\")(dense_1)\";\n                var nbb_formatted_code = \"dense_1 = layers.Dense(10, activation=\\\"relu\\\")(dense_input)\\npredictions = layers.Dense(1, activation=\\\"sigmoid\\\")(dense_1)\";\n                var nbb_cells = Jupyter.notebook.get_cells();\n                for (var i = 0; i < nbb_cells.length; ++i) {\n                    if (nbb_cells[i].input_prompt_number == nbb_cell_id) {\n                        if (nbb_cells[i].get_text() == nbb_unformatted_code) {\n                             nbb_cells[i].set_text(nbb_formatted_code);\n                        }\n                        break;\n                    }\n                }\n            }, 500);\n            ",
      "text/plain": [
       "<IPython.core.display.Javascript object>"
      ]
     },
     "metadata": {},
     "output_type": "display_data"
    }
   ],
   "source": [
    "dense_1 = layers.Dense(10, activation=\"relu\")(dense_input)\n",
    "predictions = layers.Dense(1, activation=\"sigmoid\")(dense_1)"
   ]
  },
  {
   "cell_type": "code",
   "execution_count": 10,
   "id": "e34c5ba2",
   "metadata": {},
   "outputs": [
    {
     "data": {
      "application/javascript": "\n            setTimeout(function() {\n                var nbb_cell_id = 10;\n                var nbb_unformatted_code = \"model = keras.Model(inputs=[input_face_1, input_face_2], outputs=predictions)\";\n                var nbb_formatted_code = \"model = keras.Model(inputs=[input_face_1, input_face_2], outputs=predictions)\";\n                var nbb_cells = Jupyter.notebook.get_cells();\n                for (var i = 0; i < nbb_cells.length; ++i) {\n                    if (nbb_cells[i].input_prompt_number == nbb_cell_id) {\n                        if (nbb_cells[i].get_text() == nbb_unformatted_code) {\n                             nbb_cells[i].set_text(nbb_formatted_code);\n                        }\n                        break;\n                    }\n                }\n            }, 500);\n            ",
      "text/plain": [
       "<IPython.core.display.Javascript object>"
      ]
     },
     "metadata": {},
     "output_type": "display_data"
    }
   ],
   "source": [
    "model = keras.Model(inputs=[input_face_1, input_face_2], outputs=predictions)"
   ]
  },
  {
   "cell_type": "code",
   "execution_count": 11,
   "id": "8ebe02be",
   "metadata": {},
   "outputs": [
    {
     "data": {
      "application/javascript": "\n            setTimeout(function() {\n                var nbb_cell_id = 11;\n                var nbb_unformatted_code = \"model.compile(\\n    \\\"adam\\\",\\n    loss=\\\"binary_crossentropy\\\",\\n    metrics=[\\\"accuracy\\\"],\\n)\";\n                var nbb_formatted_code = \"model.compile(\\n    \\\"adam\\\",\\n    loss=\\\"binary_crossentropy\\\",\\n    metrics=[\\\"accuracy\\\"],\\n)\";\n                var nbb_cells = Jupyter.notebook.get_cells();\n                for (var i = 0; i < nbb_cells.length; ++i) {\n                    if (nbb_cells[i].input_prompt_number == nbb_cell_id) {\n                        if (nbb_cells[i].get_text() == nbb_unformatted_code) {\n                             nbb_cells[i].set_text(nbb_formatted_code);\n                        }\n                        break;\n                    }\n                }\n            }, 500);\n            ",
      "text/plain": [
       "<IPython.core.display.Javascript object>"
      ]
     },
     "metadata": {},
     "output_type": "display_data"
    }
   ],
   "source": [
    "model.compile(\n",
    "    \"adam\",\n",
    "    loss=\"binary_crossentropy\",\n",
    "    metrics=[\"accuracy\"],\n",
    ")"
   ]
  },
  {
   "cell_type": "code",
   "execution_count": 12,
   "id": "da50ea08",
   "metadata": {
    "scrolled": true
   },
   "outputs": [
    {
     "name": "stdout",
     "output_type": "stream",
     "text": [
      "Model: \"model\"\n",
      "__________________________________________________________________________________________________\n",
      " Layer (type)                   Output Shape         Param #     Connected to                     \n",
      "==================================================================================================\n",
      " input_1 (InputLayer)           [(None, 250, 250, 3  0           []                               \n",
      "                                )]                                                                \n",
      "                                                                                                  \n",
      " input_2 (InputLayer)           [(None, 250, 250, 3  0           []                               \n",
      "                                )]                                                                \n",
      "                                                                                                  \n",
      " conv2d (Conv2D)                (None, 81, 81, 5)    1505        ['input_1[0][0]',                \n",
      "                                                                  'input_2[0][0]']                \n",
      "                                                                                                  \n",
      " max_pooling2d (MaxPooling2D)   (None, 40, 40, 5)    0           ['conv2d[0][0]',                 \n",
      "                                                                  'conv2d[1][0]']                 \n",
      "                                                                                                  \n",
      " conv2d_1 (Conv2D)              (None, 37, 37, 10)   810         ['max_pooling2d[0][0]',          \n",
      "                                                                  'max_pooling2d[1][0]']          \n",
      "                                                                                                  \n",
      " max_pooling2d_1 (MaxPooling2D)  (None, 18, 18, 10)  0           ['conv2d_1[0][0]',               \n",
      "                                                                  'conv2d_1[1][0]']               \n",
      "                                                                                                  \n",
      " conv2d_2 (Conv2D)              (None, 15, 15, 15)   2415        ['max_pooling2d_1[0][0]',        \n",
      "                                                                  'max_pooling2d_1[1][0]']        \n",
      "                                                                                                  \n",
      " max_pooling2d_2 (MaxPooling2D)  (None, 7, 7, 15)    0           ['conv2d_2[0][0]',               \n",
      "                                                                  'conv2d_2[1][0]']               \n",
      "                                                                                                  \n",
      " conv2d_3 (Conv2D)              (None, 4, 4, 30)     7230        ['max_pooling2d_2[0][0]',        \n",
      "                                                                  'max_pooling2d_2[1][0]']        \n",
      "                                                                                                  \n",
      " max_pooling2d_3 (MaxPooling2D)  (None, 1, 1, 30)    0           ['conv2d_3[0][0]',               \n",
      "                                                                  'conv2d_3[1][0]']               \n",
      "                                                                                                  \n",
      " concatenate (Concatenate)      (None, 1, 1, 60)     0           ['max_pooling2d_3[0][0]',        \n",
      "                                                                  'max_pooling2d_3[1][0]']        \n",
      "                                                                                                  \n",
      " flatten (Flatten)              (None, 60)           0           ['concatenate[0][0]']            \n",
      "                                                                                                  \n",
      " dense (Dense)                  (None, 10)           610         ['flatten[0][0]']                \n",
      "                                                                                                  \n",
      " dense_1 (Dense)                (None, 1)            11          ['dense[0][0]']                  \n",
      "                                                                                                  \n",
      "==================================================================================================\n",
      "Total params: 12,581\n",
      "Trainable params: 12,581\n",
      "Non-trainable params: 0\n",
      "__________________________________________________________________________________________________\n"
     ]
    },
    {
     "data": {
      "application/javascript": "\n            setTimeout(function() {\n                var nbb_cell_id = 12;\n                var nbb_unformatted_code = \"model.summary()\";\n                var nbb_formatted_code = \"model.summary()\";\n                var nbb_cells = Jupyter.notebook.get_cells();\n                for (var i = 0; i < nbb_cells.length; ++i) {\n                    if (nbb_cells[i].input_prompt_number == nbb_cell_id) {\n                        if (nbb_cells[i].get_text() == nbb_unformatted_code) {\n                             nbb_cells[i].set_text(nbb_formatted_code);\n                        }\n                        break;\n                    }\n                }\n            }, 500);\n            ",
      "text/plain": [
       "<IPython.core.display.Javascript object>"
      ]
     },
     "metadata": {},
     "output_type": "display_data"
    }
   ],
   "source": [
    "model.summary()"
   ]
  },
  {
   "cell_type": "code",
   "execution_count": 13,
   "id": "6230acf4",
   "metadata": {},
   "outputs": [
    {
     "data": {
      "application/javascript": "\n            setTimeout(function() {\n                var nbb_cell_id = 13;\n                var nbb_unformatted_code = \"data_generator = generate_data(n_sample=100)\\nval_generator = generate_data(df_validation, n_sample=100)\";\n                var nbb_formatted_code = \"data_generator = generate_data(n_sample=100)\\nval_generator = generate_data(df_validation, n_sample=100)\";\n                var nbb_cells = Jupyter.notebook.get_cells();\n                for (var i = 0; i < nbb_cells.length; ++i) {\n                    if (nbb_cells[i].input_prompt_number == nbb_cell_id) {\n                        if (nbb_cells[i].get_text() == nbb_unformatted_code) {\n                             nbb_cells[i].set_text(nbb_formatted_code);\n                        }\n                        break;\n                    }\n                }\n            }, 500);\n            ",
      "text/plain": [
       "<IPython.core.display.Javascript object>"
      ]
     },
     "metadata": {},
     "output_type": "display_data"
    }
   ],
   "source": [
    "data_generator = generate_data(n_sample=100)\n",
    "val_generator = generate_data(df_validation, n_sample=100)"
   ]
  },
  {
   "cell_type": "code",
   "execution_count": 15,
   "id": "cb7f7543",
   "metadata": {},
   "outputs": [
    {
     "data": {
      "text/plain": [
       "<keras.engine.functional.Functional at 0x16ba19450>"
      ]
     },
     "execution_count": 15,
     "metadata": {},
     "output_type": "execute_result"
    },
    {
     "data": {
      "application/javascript": "\n            setTimeout(function() {\n                var nbb_cell_id = 15;\n                var nbb_unformatted_code = \"model\";\n                var nbb_formatted_code = \"model\";\n                var nbb_cells = Jupyter.notebook.get_cells();\n                for (var i = 0; i < nbb_cells.length; ++i) {\n                    if (nbb_cells[i].input_prompt_number == nbb_cell_id) {\n                        if (nbb_cells[i].get_text() == nbb_unformatted_code) {\n                             nbb_cells[i].set_text(nbb_formatted_code);\n                        }\n                        break;\n                    }\n                }\n            }, 500);\n            ",
      "text/plain": [
       "<IPython.core.display.Javascript object>"
      ]
     },
     "metadata": {},
     "output_type": "display_data"
    }
   ],
   "source": [
    "model.predict()"
   ]
  },
  {
   "cell_type": "code",
   "execution_count": 25,
   "id": "50f9360f",
   "metadata": {},
   "outputs": [
    {
     "data": {
      "application/javascript": "\n            setTimeout(function() {\n                var nbb_cell_id = 25;\n                var nbb_unformatted_code = \"loss_train = []\\nloss_cv = []\";\n                var nbb_formatted_code = \"loss_train = []\\nloss_cv = []\";\n                var nbb_cells = Jupyter.notebook.get_cells();\n                for (var i = 0; i < nbb_cells.length; ++i) {\n                    if (nbb_cells[i].input_prompt_number == nbb_cell_id) {\n                        if (nbb_cells[i].get_text() == nbb_unformatted_code) {\n                             nbb_cells[i].set_text(nbb_formatted_code);\n                        }\n                        break;\n                    }\n                }\n            }, 500);\n            ",
      "text/plain": [
       "<IPython.core.display.Javascript object>"
      ]
     },
     "metadata": {},
     "output_type": "display_data"
    }
   ],
   "source": [
    "loss_train = []\n",
    "loss_cv = []"
   ]
  },
  {
   "cell_type": "code",
   "execution_count": 28,
   "id": "3b515e6c",
   "metadata": {},
   "outputs": [
    {
     "name": "stdout",
     "output_type": "stream",
     "text": [
      "Iteration: 0 - time: 23:07:07\n",
      "4/4 [==============================] - 1s 157ms/step - loss: 0.6922 - accuracy: 0.5000 - val_loss: 0.6915 - val_accuracy: 0.4900\n",
      "Iteration: 50 - time: 23:08:22\n",
      "4/4 [==============================] - 1s 166ms/step - loss: 0.7010 - accuracy: 0.5900 - val_loss: 0.7276 - val_accuracy: 0.4900\n",
      "Iteration: 100 - time: 23:09:54\n",
      "4/4 [==============================] - 1s 163ms/step - loss: 0.6687 - accuracy: 0.6100 - val_loss: 0.6947 - val_accuracy: 0.5300\n",
      "Iteration: 150 - time: 23:11:12\n",
      "4/4 [==============================] - 1s 157ms/step - loss: 0.6747 - accuracy: 0.5900 - val_loss: 0.7017 - val_accuracy: 0.5600\n"
     ]
    },
    {
     "data": {
      "application/javascript": "\n            setTimeout(function() {\n                var nbb_cell_id = 28;\n                var nbb_unformatted_code = \"for i in range(200):\\n    if i % 50 == 0:\\n        print(f'Iteration: {i} - time: {datetime.datetime.now().strftime(\\\"%H:%M:%S\\\")}')\\n    x, y = next(data_generator)\\n    val_data = next(val_generator)\\n    model_fit = model.fit(\\n        x=x,\\n        y=y,\\n        use_multiprocessing=True,\\n        verbose=i % 50 == 0,\\n        validation_data=val_data,\\n    )\\n    loss_train += model_fit.history[\\\"loss\\\"]\\n    loss_cv += model_fit.history[\\\"val_loss\\\"]\";\n                var nbb_formatted_code = \"for i in range(200):\\n    if i % 50 == 0:\\n        print(f'Iteration: {i} - time: {datetime.datetime.now().strftime(\\\"%H:%M:%S\\\")}')\\n    x, y = next(data_generator)\\n    val_data = next(val_generator)\\n    model_fit = model.fit(\\n        x=x,\\n        y=y,\\n        use_multiprocessing=True,\\n        verbose=i % 50 == 0,\\n        validation_data=val_data,\\n    )\\n    loss_train += model_fit.history[\\\"loss\\\"]\\n    loss_cv += model_fit.history[\\\"val_loss\\\"]\";\n                var nbb_cells = Jupyter.notebook.get_cells();\n                for (var i = 0; i < nbb_cells.length; ++i) {\n                    if (nbb_cells[i].input_prompt_number == nbb_cell_id) {\n                        if (nbb_cells[i].get_text() == nbb_unformatted_code) {\n                             nbb_cells[i].set_text(nbb_formatted_code);\n                        }\n                        break;\n                    }\n                }\n            }, 500);\n            ",
      "text/plain": [
       "<IPython.core.display.Javascript object>"
      ]
     },
     "metadata": {},
     "output_type": "display_data"
    }
   ],
   "source": [
    "for i in range(200):\n",
    "    if i % 50 == 0:\n",
    "        print(f'Iteration: {i} - time: {datetime.datetime.now().strftime(\"%H:%M:%S\")}')\n",
    "    x, y = next(data_generator)\n",
    "    val_data = next(val_generator)\n",
    "    model_fit = model.fit(\n",
    "        x=x,\n",
    "        y=y,\n",
    "        use_multiprocessing=True,\n",
    "        verbose=i % 50 == 0,\n",
    "        validation_data=val_data,\n",
    "    )\n",
    "    loss_train += model_fit.history[\"loss\"]\n",
    "    loss_cv += model_fit.history[\"val_loss\"]"
   ]
  },
  {
   "cell_type": "code",
   "execution_count": 29,
   "id": "4e1e6892",
   "metadata": {},
   "outputs": [
    {
     "data": {
      "text/plain": [
       "[<matplotlib.lines.Line2D at 0x281b32590>]"
      ]
     },
     "execution_count": 29,
     "metadata": {},
     "output_type": "execute_result"
    },
    {
     "data": {
      "image/png": "[encoded data removed]",
      "text/plain": [
       "<Figure size 432x288 with 1 Axes>"
      ]
     },
     "metadata": {
      "needs_background": "light"
     },
     "output_type": "display_data"
    },
    {
     "data": {
      "application/javascript": "\n            setTimeout(function() {\n                var nbb_cell_id = 29;\n                var nbb_unformatted_code = \"fig, ax = plt.subplots()\\nax.plot(loss_train)\\nax.plot(loss_cv)\";\n                var nbb_formatted_code = \"fig, ax = plt.subplots()\\nax.plot(loss_train)\\nax.plot(loss_cv)\";\n                var nbb_cells = Jupyter.notebook.get_cells();\n                for (var i = 0; i < nbb_cells.length; ++i) {\n                    if (nbb_cells[i].input_prompt_number == nbb_cell_id) {\n                        if (nbb_cells[i].get_text() == nbb_unformatted_code) {\n                             nbb_cells[i].set_text(nbb_formatted_code);\n                        }\n                        break;\n                    }\n                }\n            }, 500);\n            ",
      "text/plain": [
       "<IPython.core.display.Javascript object>"
      ]
     },
     "metadata": {},
     "output_type": "display_data"
    }
   ],
   "source": [
    "fig, ax = plt.subplots()\n",
    "ax.plot(loss_train)\n",
    "ax.plot(loss_cv)"
   ]
  },
  {
   "cell_type": "code",
   "execution_count": null,
   "id": "6d7b64e5",
   "metadata": {},
   "outputs": [],
   "source": []
  }
 ],
 "metadata": {
  "kernelspec": {
   "display_name": "Python 3.10.4 ('face_pairing')",
   "language": "python",
   "name": "python3"
  },
  "language_info": {
   "codemirror_mode": {
    "name": "ipython",
    "version": 3
   },
   "file_extension": ".py",
   "mimetype": "text/x-python",
   "name": "python",
   "nbconvert_exporter": "python",
   "pygments_lexer": "ipython3",
   "version": "3.10.4"
  },
  "vscode": {
   "interpreter": {
    "hash": "eb485eb93012e960878854d191db210d51070cc2a4ece918ba1b04a770e88192"
   }
  }
 },
 "nbformat": 4,
 "nbformat_minor": 5
}
