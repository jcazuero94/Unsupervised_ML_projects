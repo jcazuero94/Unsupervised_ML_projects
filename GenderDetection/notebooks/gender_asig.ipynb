{
 "cells": [
  {
   "cell_type": "code",
   "execution_count": 1,
   "metadata": {},
   "outputs": [],
   "source": [
    "import pandas as pd\n",
    "from ..gender_detection.names import names_f, names_m"
   ]
  },
  {
   "cell_type": "code",
   "execution_count": 2,
   "id": "370b2f98",
   "metadata": {},
   "outputs": [],
   "source": [
    "faces_dir = pd.read_parquet('../data/02_intermediate/faces_dir')"
   ]
  },
  {
   "cell_type": "code",
   "execution_count": 8,
   "metadata": {},
   "outputs": [],
   "source": []
  },
  {
   "cell_type": "code",
   "execution_count": 9,
   "metadata": {},
   "outputs": [],
   "source": [
    "faces_dir['gender'] = faces_dir['name'].apply(\n",
    "    lambda x: 'M' if sum([n in x.split(' ') for n in names_m]) > 0 else ('F' if sum([n in x.split(' ') for n in names_f]) > 0 else 'N') \n",
    ")"
   ]
  },
  {
   "cell_type": "code",
   "execution_count": 12,
   "metadata": {},
   "outputs": [],
   "source": [
    "faces_dir[faces_dir['gender'] != 'N'].to_parquet('../data/03_primary/faces_dir_gender')"
   ]
  },
  {
   "cell_type": "code",
   "execution_count": 13,
   "metadata": {},
   "outputs": [],
   "source": [
    "faces_vgg = pd.read_parquet('../data/03_primary/faces_vgg_2')"
   ]
  },
  {
   "cell_type": "code",
   "execution_count": 17,
   "metadata": {},
   "outputs": [],
   "source": [
    "faces_vgg = pd.merge(faces_dir[['gender']],faces_vgg, how='left',left_index=True, right_index=True)"
   ]
  },
  {
   "cell_type": "code",
   "execution_count": 22,
   "metadata": {},
   "outputs": [],
   "source": [
    "faces_vgg = faces_vgg[faces_vgg['gender']!='N']"
   ]
  },
  {
   "cell_type": "code",
   "execution_count": 24,
   "metadata": {},
   "outputs": [],
   "source": [
    "names = faces_vgg['name'].unique()"
   ]
  },
  {
   "cell_type": "code",
   "execution_count": 26,
   "metadata": {},
   "outputs": [],
   "source": [
    "import numpy as np"
   ]
  },
  {
   "cell_type": "code",
   "execution_count": 28,
   "metadata": {},
   "outputs": [],
   "source": [
    "names = np.random.permutation(names)"
   ]
  },
  {
   "cell_type": "code",
   "execution_count": 31,
   "metadata": {},
   "outputs": [],
   "source": [
    "train_names = names[:int(0.6*len(names))]\n",
    "cv_names = names[int(0.6*len(names)):int(0.8*len(names))]\n",
    "test_names = names[int(0.8*len(names)):]"
   ]
  },
  {
   "cell_type": "code",
   "execution_count": 36,
   "metadata": {},
   "outputs": [],
   "source": [
    "faces_vgg[faces_vgg['name'].isin(train_names)].drop(['address','number','name'],axis=1).to_parquet('../data/04_model_input/train_gd')\n",
    "faces_vgg[faces_vgg['name'].isin(cv_names)].drop(['address','number','name'],axis=1).to_parquet('../data/04_model_input/cv_gd')\n",
    "faces_vgg[faces_vgg['name'].isin(test_names)].drop(['address','number','name'],axis=1).to_parquet('../data/04_model_input/test_gd')"
   ]
  },
  {
   "cell_type": "code",
   "execution_count": null,
   "metadata": {},
   "outputs": [],
   "source": []
  }
 ],
 "metadata": {
  "kernelspec": {
   "display_name": "Python 3.10.4 ('face_pairing')",
   "language": "python",
   "name": "python3"
  },
  "language_info": {
   "codemirror_mode": {
    "name": "ipython",
    "version": 3
   },
   "file_extension": ".py",
   "mimetype": "text/x-python",
   "name": "python",
   "nbconvert_exporter": "python",
   "pygments_lexer": "ipython3",
   "version": "3.10.4"
  },
  "orig_nbformat": 4,
  "vscode": {
   "interpreter": {
    "hash": "eb485eb93012e960878854d191db210d51070cc2a4ece918ba1b04a770e88192"
   }
  }
 },
 "nbformat": 4,
 "nbformat_minor": 2
}
