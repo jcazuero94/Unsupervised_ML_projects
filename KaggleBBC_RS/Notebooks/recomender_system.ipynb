{
 "cells": [
  {
   "cell_type": "markdown",
   "id": "2a4c6e76",
   "metadata": {},
   "source": [
    "# Recomender system"
   ]
  },
  {
   "cell_type": "code",
   "execution_count": 1,
   "id": "9c742594",
   "metadata": {},
   "outputs": [],
   "source": [
    "import pandas as pd\n",
    "import matplotlib.pyplot as plt\n",
    "import numpy as np\n",
    "import time\n",
    "from scipy.sparse import csr_matrix\n",
    "from sklearn.decomposition import TruncatedSVD"
   ]
  },
  {
   "cell_type": "code",
   "execution_count": 2,
   "id": "ff10bc4e",
   "metadata": {},
   "outputs": [
    {
     "data": {
      "application/javascript": [
       "\n",
       "            setTimeout(function() {\n",
       "                var nbb_cell_id = 2;\n",
       "                var nbb_unformatted_code = \"%load_ext nb_black\";\n",
       "                var nbb_formatted_code = \"%load_ext nb_black\";\n",
       "                var nbb_cells = Jupyter.notebook.get_cells();\n",
       "                for (var i = 0; i < nbb_cells.length; ++i) {\n",
       "                    if (nbb_cells[i].input_prompt_number == nbb_cell_id) {\n",
       "                        if (nbb_cells[i].get_text() == nbb_unformatted_code) {\n",
       "                             nbb_cells[i].set_text(nbb_formatted_code);\n",
       "                        }\n",
       "                        break;\n",
       "                    }\n",
       "                }\n",
       "            }, 500);\n",
       "            "
      ],
      "text/plain": [
       "<IPython.core.display.Javascript object>"
      ]
     },
     "metadata": {},
     "output_type": "display_data"
    }
   ],
   "source": [
    "%load_ext nb_black"
   ]
  },
  {
   "cell_type": "markdown",
   "id": "913671e8",
   "metadata": {},
   "source": [
    "Part 1)"
   ]
  },
  {
   "cell_type": "markdown",
   "id": "75872b30",
   "metadata": {},
   "source": [
    "Aux functions"
   ]
  },
  {
   "cell_type": "code",
   "execution_count": 22,
   "id": "76e66747",
   "metadata": {},
   "outputs": [
    {
     "data": {
      "application/javascript": [
       "\n",
       "            setTimeout(function() {\n",
       "                var nbb_cell_id = 22;\n",
       "                var nbb_unformatted_code = \"def rmse_mat_mat(mat_true, mat_pred):\\n    mat_true_na = mat_true.replace(0,np.nan)\\n    sum_err = (mat_true_na - mat_pred).apply(lambda x: x ** 2).sum().sum()\\n    count_err = mat_true_na.notna().sum().sum()\\n    return (sum_err/count_err)**0.5\";\n",
       "                var nbb_formatted_code = \"def rmse_mat_mat(mat_true, mat_pred):\\n    mat_true_na = mat_true.replace(0, np.nan)\\n    sum_err = (mat_true_na - mat_pred).apply(lambda x: x ** 2).sum().sum()\\n    count_err = mat_true_na.notna().sum().sum()\\n    return (sum_err / count_err) ** 0.5\";\n",
       "                var nbb_cells = Jupyter.notebook.get_cells();\n",
       "                for (var i = 0; i < nbb_cells.length; ++i) {\n",
       "                    if (nbb_cells[i].input_prompt_number == nbb_cell_id) {\n",
       "                        if (nbb_cells[i].get_text() == nbb_unformatted_code) {\n",
       "                             nbb_cells[i].set_text(nbb_formatted_code);\n",
       "                        }\n",
       "                        break;\n",
       "                    }\n",
       "                }\n",
       "            }, 500);\n",
       "            "
      ],
      "text/plain": [
       "<IPython.core.display.Javascript object>"
      ]
     },
     "metadata": {},
     "output_type": "display_data"
    }
   ],
   "source": [
    "def rmse_mat_mat(mat_true, mat_pred):\n",
    "    mat_true_na = mat_true.replace(0, np.nan)\n",
    "    sum_err = (mat_true_na - mat_pred).apply(lambda x: x ** 2).sum().sum()\n",
    "    count_err = mat_true_na.notna().sum().sum()\n",
    "    return (sum_err / count_err) ** 0.5"
   ]
  },
  {
   "cell_type": "markdown",
   "id": "9d676b72",
   "metadata": {},
   "source": [
    "Data ingestion"
   ]
  },
  {
   "cell_type": "code",
   "execution_count": 3,
   "id": "075ad3f1",
   "metadata": {},
   "outputs": [
    {
     "data": {
      "application/javascript": [
       "\n",
       "            setTimeout(function() {\n",
       "                var nbb_cell_id = 3;\n",
       "                var nbb_unformatted_code = \"MV_users = pd.read_csv(\\\"../Data/users.csv\\\")\\nMV_movies = pd.read_csv(\\\"../Data/movies.csv\\\")\\ntrain = pd.read_csv(\\\"../Data/train.csv\\\")\\ntest = pd.read_csv(\\\"../Data/test.csv\\\")\";\n",
       "                var nbb_formatted_code = \"MV_users = pd.read_csv(\\\"../Data/users.csv\\\")\\nMV_movies = pd.read_csv(\\\"../Data/movies.csv\\\")\\ntrain = pd.read_csv(\\\"../Data/train.csv\\\")\\ntest = pd.read_csv(\\\"../Data/test.csv\\\")\";\n",
       "                var nbb_cells = Jupyter.notebook.get_cells();\n",
       "                for (var i = 0; i < nbb_cells.length; ++i) {\n",
       "                    if (nbb_cells[i].input_prompt_number == nbb_cell_id) {\n",
       "                        if (nbb_cells[i].get_text() == nbb_unformatted_code) {\n",
       "                             nbb_cells[i].set_text(nbb_formatted_code);\n",
       "                        }\n",
       "                        break;\n",
       "                    }\n",
       "                }\n",
       "            }, 500);\n",
       "            "
      ],
      "text/plain": [
       "<IPython.core.display.Javascript object>"
      ]
     },
     "metadata": {},
     "output_type": "display_data"
    }
   ],
   "source": [
    "MV_users = pd.read_csv(\"../Data/users.csv\")\n",
    "MV_movies = pd.read_csv(\"../Data/movies.csv\")\n",
    "train = pd.read_csv(\"../Data/train.csv\")\n",
    "test = pd.read_csv(\"../Data/test.csv\")"
   ]
  },
  {
   "cell_type": "markdown",
   "id": "12f4daea",
   "metadata": {},
   "source": [
    "Data preparation"
   ]
  },
  {
   "cell_type": "code",
   "execution_count": 4,
   "id": "4cf3f26e",
   "metadata": {},
   "outputs": [
    {
     "data": {
      "application/javascript": [
       "\n",
       "            setTimeout(function() {\n",
       "                var nbb_cell_id = 4;\n",
       "                var nbb_unformatted_code = \"train_pivoted = train.pivot(index=\\\"uID\\\", columns=\\\"mID\\\", values=\\\"rating\\\").fillna(0)\\ntrain_csr = csr_matrix(train_pivoted.values)\";\n",
       "                var nbb_formatted_code = \"train_pivoted = train.pivot(index=\\\"uID\\\", columns=\\\"mID\\\", values=\\\"rating\\\").fillna(0)\\ntrain_csr = csr_matrix(train_pivoted.values)\";\n",
       "                var nbb_cells = Jupyter.notebook.get_cells();\n",
       "                for (var i = 0; i < nbb_cells.length; ++i) {\n",
       "                    if (nbb_cells[i].input_prompt_number == nbb_cell_id) {\n",
       "                        if (nbb_cells[i].get_text() == nbb_unformatted_code) {\n",
       "                             nbb_cells[i].set_text(nbb_formatted_code);\n",
       "                        }\n",
       "                        break;\n",
       "                    }\n",
       "                }\n",
       "            }, 500);\n",
       "            "
      ],
      "text/plain": [
       "<IPython.core.display.Javascript object>"
      ]
     },
     "metadata": {},
     "output_type": "display_data"
    }
   ],
   "source": [
    "train_pivoted = train.pivot(index=\"uID\", columns=\"mID\", values=\"rating\").fillna(0)\n",
    "train_csr = csr_matrix(train_pivoted.values)"
   ]
  },
  {
   "cell_type": "code",
   "execution_count": 24,
   "id": "654af338",
   "metadata": {},
   "outputs": [
    {
     "data": {
      "application/javascript": [
       "\n",
       "            setTimeout(function() {\n",
       "                var nbb_cell_id = 24;\n",
       "                var nbb_unformatted_code = \"test_pivoted = test.pivot(index=\\\"uID\\\", columns=\\\"mID\\\", values=\\\"rating\\\").fillna(0)\";\n",
       "                var nbb_formatted_code = \"test_pivoted = test.pivot(index=\\\"uID\\\", columns=\\\"mID\\\", values=\\\"rating\\\").fillna(0)\";\n",
       "                var nbb_cells = Jupyter.notebook.get_cells();\n",
       "                for (var i = 0; i < nbb_cells.length; ++i) {\n",
       "                    if (nbb_cells[i].input_prompt_number == nbb_cell_id) {\n",
       "                        if (nbb_cells[i].get_text() == nbb_unformatted_code) {\n",
       "                             nbb_cells[i].set_text(nbb_formatted_code);\n",
       "                        }\n",
       "                        break;\n",
       "                    }\n",
       "                }\n",
       "            }, 500);\n",
       "            "
      ],
      "text/plain": [
       "<IPython.core.display.Javascript object>"
      ]
     },
     "metadata": {},
     "output_type": "display_data"
    }
   ],
   "source": [
    "test_pivoted = test.pivot(index=\"uID\", columns=\"mID\", values=\"rating\").fillna(0)"
   ]
  },
  {
   "cell_type": "markdown",
   "id": "9183d3c0",
   "metadata": {},
   "source": [
    "First model"
   ]
  },
  {
   "cell_type": "code",
   "execution_count": 84,
   "id": "dd6d2f92",
   "metadata": {},
   "outputs": [
    {
     "data": {
      "application/javascript": [
       "\n",
       "            setTimeout(function() {\n",
       "                var nbb_cell_id = 84;\n",
       "                var nbb_unformatted_code = \"n_comp = 5\";\n",
       "                var nbb_formatted_code = \"n_comp = 5\";\n",
       "                var nbb_cells = Jupyter.notebook.get_cells();\n",
       "                for (var i = 0; i < nbb_cells.length; ++i) {\n",
       "                    if (nbb_cells[i].input_prompt_number == nbb_cell_id) {\n",
       "                        if (nbb_cells[i].get_text() == nbb_unformatted_code) {\n",
       "                             nbb_cells[i].set_text(nbb_formatted_code);\n",
       "                        }\n",
       "                        break;\n",
       "                    }\n",
       "                }\n",
       "            }, 500);\n",
       "            "
      ],
      "text/plain": [
       "<IPython.core.display.Javascript object>"
      ]
     },
     "metadata": {},
     "output_type": "display_data"
    }
   ],
   "source": [
    "n_comp = 5"
   ]
  },
  {
   "cell_type": "code",
   "execution_count": 6,
   "id": "60f170e0",
   "metadata": {},
   "outputs": [
    {
     "data": {
      "application/javascript": [
       "\n",
       "            setTimeout(function() {\n",
       "                var nbb_cell_id = 6;\n",
       "                var nbb_unformatted_code = \"svd = TruncatedSVD(n_components=n_comp)\";\n",
       "                var nbb_formatted_code = \"svd = TruncatedSVD(n_components=n_comp)\";\n",
       "                var nbb_cells = Jupyter.notebook.get_cells();\n",
       "                for (var i = 0; i < nbb_cells.length; ++i) {\n",
       "                    if (nbb_cells[i].input_prompt_number == nbb_cell_id) {\n",
       "                        if (nbb_cells[i].get_text() == nbb_unformatted_code) {\n",
       "                             nbb_cells[i].set_text(nbb_formatted_code);\n",
       "                        }\n",
       "                        break;\n",
       "                    }\n",
       "                }\n",
       "            }, 500);\n",
       "            "
      ],
      "text/plain": [
       "<IPython.core.display.Javascript object>"
      ]
     },
     "metadata": {},
     "output_type": "display_data"
    }
   ],
   "source": [
    "svd = TruncatedSVD(n_components=n_comp)"
   ]
  },
  {
   "cell_type": "code",
   "execution_count": 7,
   "id": "d99ca764",
   "metadata": {},
   "outputs": [
    {
     "data": {
      "text/plain": [
       "TruncatedSVD(n_components=5)"
      ]
     },
     "execution_count": 7,
     "metadata": {},
     "output_type": "execute_result"
    },
    {
     "data": {
      "application/javascript": [
       "\n",
       "            setTimeout(function() {\n",
       "                var nbb_cell_id = 7;\n",
       "                var nbb_unformatted_code = \"svd.fit(train_csr,)\";\n",
       "                var nbb_formatted_code = \"svd.fit(train_csr,)\";\n",
       "                var nbb_cells = Jupyter.notebook.get_cells();\n",
       "                for (var i = 0; i < nbb_cells.length; ++i) {\n",
       "                    if (nbb_cells[i].input_prompt_number == nbb_cell_id) {\n",
       "                        if (nbb_cells[i].get_text() == nbb_unformatted_code) {\n",
       "                             nbb_cells[i].set_text(nbb_formatted_code);\n",
       "                        }\n",
       "                        break;\n",
       "                    }\n",
       "                }\n",
       "            }, 500);\n",
       "            "
      ],
      "text/plain": [
       "<IPython.core.display.Javascript object>"
      ]
     },
     "metadata": {},
     "output_type": "display_data"
    }
   ],
   "source": [
    "svd.fit(train_csr,)"
   ]
  },
  {
   "cell_type": "code",
   "execution_count": 8,
   "id": "118bfb72",
   "metadata": {},
   "outputs": [
    {
     "data": {
      "application/javascript": [
       "\n",
       "            setTimeout(function() {\n",
       "                var nbb_cell_id = 8;\n",
       "                var nbb_unformatted_code = \"trained_user_preferences = svd.transform(train_pivoted)\";\n",
       "                var nbb_formatted_code = \"trained_user_preferences = svd.transform(train_pivoted)\";\n",
       "                var nbb_cells = Jupyter.notebook.get_cells();\n",
       "                for (var i = 0; i < nbb_cells.length; ++i) {\n",
       "                    if (nbb_cells[i].input_prompt_number == nbb_cell_id) {\n",
       "                        if (nbb_cells[i].get_text() == nbb_unformatted_code) {\n",
       "                             nbb_cells[i].set_text(nbb_formatted_code);\n",
       "                        }\n",
       "                        break;\n",
       "                    }\n",
       "                }\n",
       "            }, 500);\n",
       "            "
      ],
      "text/plain": [
       "<IPython.core.display.Javascript object>"
      ]
     },
     "metadata": {},
     "output_type": "display_data"
    }
   ],
   "source": [
    "trained_user_preferences = svd.transform(train_pivoted)"
   ]
  },
  {
   "cell_type": "code",
   "execution_count": 9,
   "id": "8de9591c",
   "metadata": {},
   "outputs": [
    {
     "data": {
      "application/javascript": [
       "\n",
       "            setTimeout(function() {\n",
       "                var nbb_cell_id = 9;\n",
       "                var nbb_unformatted_code = \"trained_movie_features = svd.components_\";\n",
       "                var nbb_formatted_code = \"trained_movie_features = svd.components_\";\n",
       "                var nbb_cells = Jupyter.notebook.get_cells();\n",
       "                for (var i = 0; i < nbb_cells.length; ++i) {\n",
       "                    if (nbb_cells[i].input_prompt_number == nbb_cell_id) {\n",
       "                        if (nbb_cells[i].get_text() == nbb_unformatted_code) {\n",
       "                             nbb_cells[i].set_text(nbb_formatted_code);\n",
       "                        }\n",
       "                        break;\n",
       "                    }\n",
       "                }\n",
       "            }, 500);\n",
       "            "
      ],
      "text/plain": [
       "<IPython.core.display.Javascript object>"
      ]
     },
     "metadata": {},
     "output_type": "display_data"
    }
   ],
   "source": [
    "trained_movie_features = svd.components_"
   ]
  },
  {
   "cell_type": "code",
   "execution_count": 10,
   "id": "e05cc16c",
   "metadata": {},
   "outputs": [
    {
     "data": {
      "application/javascript": [
       "\n",
       "            setTimeout(function() {\n",
       "                var nbb_cell_id = 10;\n",
       "                var nbb_unformatted_code = \"trained_ratings = pd.DataFrame(\\n    data=np.dot(trained_user_preferences, trained_movie_features),\\n    index=train_pivoted.index,\\n    columns=train_pivoted.columns,\\n)\";\n",
       "                var nbb_formatted_code = \"trained_ratings = pd.DataFrame(\\n    data=np.dot(trained_user_preferences, trained_movie_features),\\n    index=train_pivoted.index,\\n    columns=train_pivoted.columns,\\n)\";\n",
       "                var nbb_cells = Jupyter.notebook.get_cells();\n",
       "                for (var i = 0; i < nbb_cells.length; ++i) {\n",
       "                    if (nbb_cells[i].input_prompt_number == nbb_cell_id) {\n",
       "                        if (nbb_cells[i].get_text() == nbb_unformatted_code) {\n",
       "                             nbb_cells[i].set_text(nbb_formatted_code);\n",
       "                        }\n",
       "                        break;\n",
       "                    }\n",
       "                }\n",
       "            }, 500);\n",
       "            "
      ],
      "text/plain": [
       "<IPython.core.display.Javascript object>"
      ]
     },
     "metadata": {},
     "output_type": "display_data"
    }
   ],
   "source": [
    "trained_ratings = pd.DataFrame(\n",
    "    data=np.dot(trained_user_preferences, trained_movie_features),\n",
    "    index=train_pivoted.index,\n",
    "    columns=train_pivoted.columns,\n",
    ")"
   ]
  },
  {
   "cell_type": "markdown",
   "id": "0b89fb10",
   "metadata": {},
   "source": [
    "Metrics first model"
   ]
  },
  {
   "cell_type": "code",
   "execution_count": 23,
   "id": "40c92d6d",
   "metadata": {},
   "outputs": [
    {
     "data": {
      "text/plain": [
       "2.941013241453"
      ]
     },
     "execution_count": 23,
     "metadata": {},
     "output_type": "execute_result"
    },
    {
     "data": {
      "application/javascript": [
       "\n",
       "            setTimeout(function() {\n",
       "                var nbb_cell_id = 23;\n",
       "                var nbb_unformatted_code = \"rmse_mat_mat(train_pivoted, trained_ratings)\";\n",
       "                var nbb_formatted_code = \"rmse_mat_mat(train_pivoted, trained_ratings)\";\n",
       "                var nbb_cells = Jupyter.notebook.get_cells();\n",
       "                for (var i = 0; i < nbb_cells.length; ++i) {\n",
       "                    if (nbb_cells[i].input_prompt_number == nbb_cell_id) {\n",
       "                        if (nbb_cells[i].get_text() == nbb_unformatted_code) {\n",
       "                             nbb_cells[i].set_text(nbb_formatted_code);\n",
       "                        }\n",
       "                        break;\n",
       "                    }\n",
       "                }\n",
       "            }, 500);\n",
       "            "
      ],
      "text/plain": [
       "<IPython.core.display.Javascript object>"
      ]
     },
     "metadata": {},
     "output_type": "display_data"
    }
   ],
   "source": [
    "rmse_mat_mat(train_pivoted, trained_ratings)"
   ]
  },
  {
   "cell_type": "code",
   "execution_count": 25,
   "id": "e3bdbbf8",
   "metadata": {},
   "outputs": [
    {
     "data": {
      "text/plain": [
       "2.9677125998039307"
      ]
     },
     "execution_count": 25,
     "metadata": {},
     "output_type": "execute_result"
    },
    {
     "data": {
      "application/javascript": [
       "\n",
       "            setTimeout(function() {\n",
       "                var nbb_cell_id = 25;\n",
       "                var nbb_unformatted_code = \"rmse_mat_mat(test_pivoted, trained_ratings)\";\n",
       "                var nbb_formatted_code = \"rmse_mat_mat(test_pivoted, trained_ratings)\";\n",
       "                var nbb_cells = Jupyter.notebook.get_cells();\n",
       "                for (var i = 0; i < nbb_cells.length; ++i) {\n",
       "                    if (nbb_cells[i].input_prompt_number == nbb_cell_id) {\n",
       "                        if (nbb_cells[i].get_text() == nbb_unformatted_code) {\n",
       "                             nbb_cells[i].set_text(nbb_formatted_code);\n",
       "                        }\n",
       "                        break;\n",
       "                    }\n",
       "                }\n",
       "            }, 500);\n",
       "            "
      ],
      "text/plain": [
       "<IPython.core.display.Javascript object>"
      ]
     },
     "metadata": {},
     "output_type": "display_data"
    }
   ],
   "source": [
    "rmse_mat_mat(test_pivoted, trained_ratings)"
   ]
  },
  {
   "cell_type": "markdown",
   "id": "20687e62",
   "metadata": {},
   "source": [
    "Second model substracting mean rating of the training set."
   ]
  },
  {
   "cell_type": "code",
   "execution_count": 26,
   "id": "e307aec4",
   "metadata": {},
   "outputs": [
    {
     "data": {
      "application/javascript": [
       "\n",
       "            setTimeout(function() {\n",
       "                var nbb_cell_id = 26;\n",
       "                var nbb_unformatted_code = \"mean_train = train['rating'].mean()\";\n",
       "                var nbb_formatted_code = \"mean_train = train[\\\"rating\\\"].mean()\";\n",
       "                var nbb_cells = Jupyter.notebook.get_cells();\n",
       "                for (var i = 0; i < nbb_cells.length; ++i) {\n",
       "                    if (nbb_cells[i].input_prompt_number == nbb_cell_id) {\n",
       "                        if (nbb_cells[i].get_text() == nbb_unformatted_code) {\n",
       "                             nbb_cells[i].set_text(nbb_formatted_code);\n",
       "                        }\n",
       "                        break;\n",
       "                    }\n",
       "                }\n",
       "            }, 500);\n",
       "            "
      ],
      "text/plain": [
       "<IPython.core.display.Javascript object>"
      ]
     },
     "metadata": {},
     "output_type": "display_data"
    }
   ],
   "source": [
    "mean_train = train[\"rating\"].mean()"
   ]
  },
  {
   "cell_type": "code",
   "execution_count": 49,
   "id": "46890ae5",
   "metadata": {},
   "outputs": [
    {
     "data": {
      "application/javascript": [
       "\n",
       "            setTimeout(function() {\n",
       "                var nbb_cell_id = 49;\n",
       "                var nbb_unformatted_code = \"train['rating_mean'] = train['rating']-mean_train\";\n",
       "                var nbb_formatted_code = \"train[\\\"rating_mean\\\"] = train[\\\"rating\\\"] - mean_train\";\n",
       "                var nbb_cells = Jupyter.notebook.get_cells();\n",
       "                for (var i = 0; i < nbb_cells.length; ++i) {\n",
       "                    if (nbb_cells[i].input_prompt_number == nbb_cell_id) {\n",
       "                        if (nbb_cells[i].get_text() == nbb_unformatted_code) {\n",
       "                             nbb_cells[i].set_text(nbb_formatted_code);\n",
       "                        }\n",
       "                        break;\n",
       "                    }\n",
       "                }\n",
       "            }, 500);\n",
       "            "
      ],
      "text/plain": [
       "<IPython.core.display.Javascript object>"
      ]
     },
     "metadata": {},
     "output_type": "display_data"
    }
   ],
   "source": [
    "train[\"rating_mean\"] = train[\"rating\"] - mean_train"
   ]
  },
  {
   "cell_type": "code",
   "execution_count": 50,
   "id": "b8990f6d",
   "metadata": {},
   "outputs": [
    {
     "data": {
      "application/javascript": [
       "\n",
       "            setTimeout(function() {\n",
       "                var nbb_cell_id = 50;\n",
       "                var nbb_unformatted_code = \"test[\\\"rating_mean\\\"] = test[\\\"rating\\\"] - mean_train\";\n",
       "                var nbb_formatted_code = \"test[\\\"rating_mean\\\"] = test[\\\"rating\\\"] - mean_train\";\n",
       "                var nbb_cells = Jupyter.notebook.get_cells();\n",
       "                for (var i = 0; i < nbb_cells.length; ++i) {\n",
       "                    if (nbb_cells[i].input_prompt_number == nbb_cell_id) {\n",
       "                        if (nbb_cells[i].get_text() == nbb_unformatted_code) {\n",
       "                             nbb_cells[i].set_text(nbb_formatted_code);\n",
       "                        }\n",
       "                        break;\n",
       "                    }\n",
       "                }\n",
       "            }, 500);\n",
       "            "
      ],
      "text/plain": [
       "<IPython.core.display.Javascript object>"
      ]
     },
     "metadata": {},
     "output_type": "display_data"
    }
   ],
   "source": [
    "test[\"rating_mean\"] = test[\"rating\"] - mean_train"
   ]
  },
  {
   "cell_type": "code",
   "execution_count": 54,
   "id": "adc5b07f",
   "metadata": {},
   "outputs": [
    {
     "data": {
      "application/javascript": [
       "\n",
       "            setTimeout(function() {\n",
       "                var nbb_cell_id = 54;\n",
       "                var nbb_unformatted_code = \"train_pivoted_2 = (\\n    train.drop([\\\"rating\\\"], axis=1)\\n    .pivot(index=\\\"uID\\\", columns=\\\"mID\\\", values=\\\"rating_mean\\\")\\n    .fillna(0)\\n)\\ntrain_csr_2 = csr_matrix(train_pivoted_2.values)\";\n",
       "                var nbb_formatted_code = \"train_pivoted_2 = (\\n    train.drop([\\\"rating\\\"], axis=1)\\n    .pivot(index=\\\"uID\\\", columns=\\\"mID\\\", values=\\\"rating_mean\\\")\\n    .fillna(0)\\n)\\ntrain_csr_2 = csr_matrix(train_pivoted_2.values)\";\n",
       "                var nbb_cells = Jupyter.notebook.get_cells();\n",
       "                for (var i = 0; i < nbb_cells.length; ++i) {\n",
       "                    if (nbb_cells[i].input_prompt_number == nbb_cell_id) {\n",
       "                        if (nbb_cells[i].get_text() == nbb_unformatted_code) {\n",
       "                             nbb_cells[i].set_text(nbb_formatted_code);\n",
       "                        }\n",
       "                        break;\n",
       "                    }\n",
       "                }\n",
       "            }, 500);\n",
       "            "
      ],
      "text/plain": [
       "<IPython.core.display.Javascript object>"
      ]
     },
     "metadata": {},
     "output_type": "display_data"
    }
   ],
   "source": [
    "train_pivoted_2 = (\n",
    "    train.drop([\"rating\"], axis=1)\n",
    "    .pivot(index=\"uID\", columns=\"mID\", values=\"rating_mean\")\n",
    "    .fillna(0)\n",
    ")\n",
    "train_csr_2 = csr_matrix(train_pivoted_2.values)"
   ]
  },
  {
   "cell_type": "code",
   "execution_count": 63,
   "id": "366d4fee",
   "metadata": {},
   "outputs": [
    {
     "data": {
      "application/javascript": [
       "\n",
       "            setTimeout(function() {\n",
       "                var nbb_cell_id = 63;\n",
       "                var nbb_unformatted_code = \"test_pivoted_2 = (\\n    test.drop([\\\"rating\\\"], axis=1)\\n    .pivot(index=\\\"uID\\\", columns=\\\"mID\\\", values=\\\"rating_mean\\\")\\n    .fillna(0)\\n)\";\n",
       "                var nbb_formatted_code = \"test_pivoted_2 = (\\n    test.drop([\\\"rating\\\"], axis=1)\\n    .pivot(index=\\\"uID\\\", columns=\\\"mID\\\", values=\\\"rating_mean\\\")\\n    .fillna(0)\\n)\";\n",
       "                var nbb_cells = Jupyter.notebook.get_cells();\n",
       "                for (var i = 0; i < nbb_cells.length; ++i) {\n",
       "                    if (nbb_cells[i].input_prompt_number == nbb_cell_id) {\n",
       "                        if (nbb_cells[i].get_text() == nbb_unformatted_code) {\n",
       "                             nbb_cells[i].set_text(nbb_formatted_code);\n",
       "                        }\n",
       "                        break;\n",
       "                    }\n",
       "                }\n",
       "            }, 500);\n",
       "            "
      ],
      "text/plain": [
       "<IPython.core.display.Javascript object>"
      ]
     },
     "metadata": {},
     "output_type": "display_data"
    }
   ],
   "source": [
    "test_pivoted_2 = (\n",
    "    test.drop([\"rating\"], axis=1)\n",
    "    .pivot(index=\"uID\", columns=\"mID\", values=\"rating_mean\")\n",
    "    .fillna(0)\n",
    ")"
   ]
  },
  {
   "cell_type": "code",
   "execution_count": 85,
   "id": "f96b92c5",
   "metadata": {},
   "outputs": [
    {
     "data": {
      "application/javascript": [
       "\n",
       "            setTimeout(function() {\n",
       "                var nbb_cell_id = 85;\n",
       "                var nbb_unformatted_code = \"svd = TruncatedSVD(n_components=n_comp)\";\n",
       "                var nbb_formatted_code = \"svd = TruncatedSVD(n_components=n_comp)\";\n",
       "                var nbb_cells = Jupyter.notebook.get_cells();\n",
       "                for (var i = 0; i < nbb_cells.length; ++i) {\n",
       "                    if (nbb_cells[i].input_prompt_number == nbb_cell_id) {\n",
       "                        if (nbb_cells[i].get_text() == nbb_unformatted_code) {\n",
       "                             nbb_cells[i].set_text(nbb_formatted_code);\n",
       "                        }\n",
       "                        break;\n",
       "                    }\n",
       "                }\n",
       "            }, 500);\n",
       "            "
      ],
      "text/plain": [
       "<IPython.core.display.Javascript object>"
      ]
     },
     "metadata": {},
     "output_type": "display_data"
    }
   ],
   "source": [
    "svd = TruncatedSVD(n_components=n_comp)"
   ]
  },
  {
   "cell_type": "code",
   "execution_count": 86,
   "id": "f5688d41",
   "metadata": {},
   "outputs": [
    {
     "data": {
      "text/plain": [
       "TruncatedSVD(n_components=5)"
      ]
     },
     "execution_count": 86,
     "metadata": {},
     "output_type": "execute_result"
    },
    {
     "data": {
      "application/javascript": [
       "\n",
       "            setTimeout(function() {\n",
       "                var nbb_cell_id = 86;\n",
       "                var nbb_unformatted_code = \"svd.fit(train_csr_2,)\";\n",
       "                var nbb_formatted_code = \"svd.fit(train_csr_2,)\";\n",
       "                var nbb_cells = Jupyter.notebook.get_cells();\n",
       "                for (var i = 0; i < nbb_cells.length; ++i) {\n",
       "                    if (nbb_cells[i].input_prompt_number == nbb_cell_id) {\n",
       "                        if (nbb_cells[i].get_text() == nbb_unformatted_code) {\n",
       "                             nbb_cells[i].set_text(nbb_formatted_code);\n",
       "                        }\n",
       "                        break;\n",
       "                    }\n",
       "                }\n",
       "            }, 500);\n",
       "            "
      ],
      "text/plain": [
       "<IPython.core.display.Javascript object>"
      ]
     },
     "metadata": {},
     "output_type": "display_data"
    }
   ],
   "source": [
    "svd.fit(train_csr_2,)"
   ]
  },
  {
   "cell_type": "code",
   "execution_count": 87,
   "id": "6000d9d4",
   "metadata": {},
   "outputs": [
    {
     "data": {
      "application/javascript": [
       "\n",
       "            setTimeout(function() {\n",
       "                var nbb_cell_id = 87;\n",
       "                var nbb_unformatted_code = \"trained_user_preferences_2 = svd.transform(train_pivoted_2.values)\";\n",
       "                var nbb_formatted_code = \"trained_user_preferences_2 = svd.transform(train_pivoted_2.values)\";\n",
       "                var nbb_cells = Jupyter.notebook.get_cells();\n",
       "                for (var i = 0; i < nbb_cells.length; ++i) {\n",
       "                    if (nbb_cells[i].input_prompt_number == nbb_cell_id) {\n",
       "                        if (nbb_cells[i].get_text() == nbb_unformatted_code) {\n",
       "                             nbb_cells[i].set_text(nbb_formatted_code);\n",
       "                        }\n",
       "                        break;\n",
       "                    }\n",
       "                }\n",
       "            }, 500);\n",
       "            "
      ],
      "text/plain": [
       "<IPython.core.display.Javascript object>"
      ]
     },
     "metadata": {},
     "output_type": "display_data"
    }
   ],
   "source": [
    "trained_user_preferences_2 = svd.transform(train_pivoted_2.values)"
   ]
  },
  {
   "cell_type": "code",
   "execution_count": 88,
   "id": "deb024b6",
   "metadata": {},
   "outputs": [
    {
     "data": {
      "application/javascript": [
       "\n",
       "            setTimeout(function() {\n",
       "                var nbb_cell_id = 88;\n",
       "                var nbb_unformatted_code = \"trained_movie_features_2 = svd.components_\";\n",
       "                var nbb_formatted_code = \"trained_movie_features_2 = svd.components_\";\n",
       "                var nbb_cells = Jupyter.notebook.get_cells();\n",
       "                for (var i = 0; i < nbb_cells.length; ++i) {\n",
       "                    if (nbb_cells[i].input_prompt_number == nbb_cell_id) {\n",
       "                        if (nbb_cells[i].get_text() == nbb_unformatted_code) {\n",
       "                             nbb_cells[i].set_text(nbb_formatted_code);\n",
       "                        }\n",
       "                        break;\n",
       "                    }\n",
       "                }\n",
       "            }, 500);\n",
       "            "
      ],
      "text/plain": [
       "<IPython.core.display.Javascript object>"
      ]
     },
     "metadata": {},
     "output_type": "display_data"
    }
   ],
   "source": [
    "trained_movie_features_2 = svd.components_"
   ]
  },
  {
   "cell_type": "code",
   "execution_count": 89,
   "id": "5b07813c",
   "metadata": {},
   "outputs": [
    {
     "data": {
      "application/javascript": [
       "\n",
       "            setTimeout(function() {\n",
       "                var nbb_cell_id = 89;\n",
       "                var nbb_unformatted_code = \"trained_ratings_2 = pd.DataFrame(\\n    data=np.dot(trained_user_preferences_2, trained_movie_features_2),\\n    index=train_pivoted_2.index,\\n    columns=train_pivoted_2.columns,\\n)\";\n",
       "                var nbb_formatted_code = \"trained_ratings_2 = pd.DataFrame(\\n    data=np.dot(trained_user_preferences_2, trained_movie_features_2),\\n    index=train_pivoted_2.index,\\n    columns=train_pivoted_2.columns,\\n)\";\n",
       "                var nbb_cells = Jupyter.notebook.get_cells();\n",
       "                for (var i = 0; i < nbb_cells.length; ++i) {\n",
       "                    if (nbb_cells[i].input_prompt_number == nbb_cell_id) {\n",
       "                        if (nbb_cells[i].get_text() == nbb_unformatted_code) {\n",
       "                             nbb_cells[i].set_text(nbb_formatted_code);\n",
       "                        }\n",
       "                        break;\n",
       "                    }\n",
       "                }\n",
       "            }, 500);\n",
       "            "
      ],
      "text/plain": [
       "<IPython.core.display.Javascript object>"
      ]
     },
     "metadata": {},
     "output_type": "display_data"
    }
   ],
   "source": [
    "trained_ratings_2 = pd.DataFrame(\n",
    "    data=np.dot(trained_user_preferences_2, trained_movie_features_2),\n",
    "    index=train_pivoted_2.index,\n",
    "    columns=train_pivoted_2.columns,\n",
    ")"
   ]
  },
  {
   "cell_type": "markdown",
   "id": "d6249ed4",
   "metadata": {},
   "source": [
    "Second model metrics"
   ]
  },
  {
   "cell_type": "code",
   "execution_count": 90,
   "id": "930ab77a",
   "metadata": {},
   "outputs": [
    {
     "data": {
      "text/plain": [
       "1.0309791197260456"
      ]
     },
     "execution_count": 90,
     "metadata": {},
     "output_type": "execute_result"
    },
    {
     "data": {
      "application/javascript": [
       "\n",
       "            setTimeout(function() {\n",
       "                var nbb_cell_id = 90;\n",
       "                var nbb_unformatted_code = \"rmse_mat_mat(train_pivoted_2, trained_ratings_2)\";\n",
       "                var nbb_formatted_code = \"rmse_mat_mat(train_pivoted_2, trained_ratings_2)\";\n",
       "                var nbb_cells = Jupyter.notebook.get_cells();\n",
       "                for (var i = 0; i < nbb_cells.length; ++i) {\n",
       "                    if (nbb_cells[i].input_prompt_number == nbb_cell_id) {\n",
       "                        if (nbb_cells[i].get_text() == nbb_unformatted_code) {\n",
       "                             nbb_cells[i].set_text(nbb_formatted_code);\n",
       "                        }\n",
       "                        break;\n",
       "                    }\n",
       "                }\n",
       "            }, 500);\n",
       "            "
      ],
      "text/plain": [
       "<IPython.core.display.Javascript object>"
      ]
     },
     "metadata": {},
     "output_type": "display_data"
    }
   ],
   "source": [
    "rmse_mat_mat(train_pivoted_2, trained_ratings_2)"
   ]
  },
  {
   "cell_type": "code",
   "execution_count": 91,
   "id": "3bd1a992",
   "metadata": {},
   "outputs": [
    {
     "data": {
      "text/plain": [
       "1.0385018859507167"
      ]
     },
     "execution_count": 91,
     "metadata": {},
     "output_type": "execute_result"
    },
    {
     "data": {
      "application/javascript": [
       "\n",
       "            setTimeout(function() {\n",
       "                var nbb_cell_id = 91;\n",
       "                var nbb_unformatted_code = \"rmse_mat_mat(test_pivoted_2, trained_ratings_2)\";\n",
       "                var nbb_formatted_code = \"rmse_mat_mat(test_pivoted_2, trained_ratings_2)\";\n",
       "                var nbb_cells = Jupyter.notebook.get_cells();\n",
       "                for (var i = 0; i < nbb_cells.length; ++i) {\n",
       "                    if (nbb_cells[i].input_prompt_number == nbb_cell_id) {\n",
       "                        if (nbb_cells[i].get_text() == nbb_unformatted_code) {\n",
       "                             nbb_cells[i].set_text(nbb_formatted_code);\n",
       "                        }\n",
       "                        break;\n",
       "                    }\n",
       "                }\n",
       "            }, 500);\n",
       "            "
      ],
      "text/plain": [
       "<IPython.core.display.Javascript object>"
      ]
     },
     "metadata": {},
     "output_type": "display_data"
    }
   ],
   "source": [
    "rmse_mat_mat(test_pivoted_2, trained_ratings_2)"
   ]
  },
  {
   "cell_type": "markdown",
   "id": "c852bc26",
   "metadata": {},
   "source": [
    "The transformation done improved results a lot because the SVD algorithm treats NaNs as zeros, so centering the data is important.<br>\n",
    "Now let's do cross validation to see the effect of the number of components in the resulting metrics."
   ]
  },
  {
   "cell_type": "code",
   "execution_count": 92,
   "id": "4b1ed02e",
   "metadata": {},
   "outputs": [
    {
     "data": {
      "application/javascript": [
       "\n",
       "            setTimeout(function() {\n",
       "                var nbb_cell_id = 92;\n",
       "                var nbb_unformatted_code = \"res_table = pd.DataFrame(columns=['rmse_train','rmse_test'])\\nfor n_comp in [2,3,5,7,10,13,16,20,25,30,40,50,70,100]:\\n    svd = TruncatedSVD(n_components=n_comp)\\n    svd.fit(train_csr_2,)\\n    trained_user_preferences_2 = svd.transform(train_pivoted_2.values)\\n    trained_movie_features_2 = svd.components_\\n    trained_ratings_2 = pd.DataFrame(\\n        data=np.dot(trained_user_preferences_2, trained_movie_features_2),\\n        index=train_pivoted_2.index,\\n        columns=train_pivoted_2.columns,\\n    )\\n    res_table.loc[n_comp] = [\\n        rmse_mat_mat(train_pivoted_2, trained_ratings_2),\\n        rmse_mat_mat(test_pivoted_2, trained_ratings_2)\\n    ]\";\n",
       "                var nbb_formatted_code = \"res_table = pd.DataFrame(columns=[\\\"rmse_train\\\", \\\"rmse_test\\\"])\\nfor n_comp in [2, 3, 5, 7, 10, 13, 16, 20, 25, 30, 40, 50, 70, 100]:\\n    svd = TruncatedSVD(n_components=n_comp)\\n    svd.fit(train_csr_2,)\\n    trained_user_preferences_2 = svd.transform(train_pivoted_2.values)\\n    trained_movie_features_2 = svd.components_\\n    trained_ratings_2 = pd.DataFrame(\\n        data=np.dot(trained_user_preferences_2, trained_movie_features_2),\\n        index=train_pivoted_2.index,\\n        columns=train_pivoted_2.columns,\\n    )\\n    res_table.loc[n_comp] = [\\n        rmse_mat_mat(train_pivoted_2, trained_ratings_2),\\n        rmse_mat_mat(test_pivoted_2, trained_ratings_2),\\n    ]\";\n",
       "                var nbb_cells = Jupyter.notebook.get_cells();\n",
       "                for (var i = 0; i < nbb_cells.length; ++i) {\n",
       "                    if (nbb_cells[i].input_prompt_number == nbb_cell_id) {\n",
       "                        if (nbb_cells[i].get_text() == nbb_unformatted_code) {\n",
       "                             nbb_cells[i].set_text(nbb_formatted_code);\n",
       "                        }\n",
       "                        break;\n",
       "                    }\n",
       "                }\n",
       "            }, 500);\n",
       "            "
      ],
      "text/plain": [
       "<IPython.core.display.Javascript object>"
      ]
     },
     "metadata": {},
     "output_type": "display_data"
    }
   ],
   "source": [
    "res_table = pd.DataFrame(columns=[\"rmse_train\", \"rmse_test\"])\n",
    "for n_comp in [2, 3, 5, 7, 10, 13, 16, 20, 25, 30, 40, 50, 70, 100]:\n",
    "    svd = TruncatedSVD(n_components=n_comp)\n",
    "    svd.fit(train_csr_2,)\n",
    "    trained_user_preferences_2 = svd.transform(train_pivoted_2.values)\n",
    "    trained_movie_features_2 = svd.components_\n",
    "    trained_ratings_2 = pd.DataFrame(\n",
    "        data=np.dot(trained_user_preferences_2, trained_movie_features_2),\n",
    "        index=train_pivoted_2.index,\n",
    "        columns=train_pivoted_2.columns,\n",
    "    )\n",
    "    res_table.loc[n_comp] = [\n",
    "        rmse_mat_mat(train_pivoted_2, trained_ratings_2),\n",
    "        rmse_mat_mat(test_pivoted_2, trained_ratings_2),\n",
    "    ]"
   ]
  },
  {
   "cell_type": "code",
   "execution_count": 93,
   "id": "80a9c8c8",
   "metadata": {},
   "outputs": [
    {
     "data": {
      "application/javascript": [
       "\n",
       "            setTimeout(function() {\n",
       "                var nbb_cell_id = 93;\n",
       "                var nbb_unformatted_code = \"def line_plots(df, cols_to_plot, title=\\\"\\\", x_label=\\\"Sample\\\"):\\n    fig, ax = plt.subplots()\\n    ax.plot(df[cols_to_plot])\\n    ax.legend(cols_to_plot)\\n    ax.set_title(title)\\n    ax.set_xlabel(x_label)\\n    return fig\";\n",
       "                var nbb_formatted_code = \"def line_plots(df, cols_to_plot, title=\\\"\\\", x_label=\\\"Sample\\\"):\\n    fig, ax = plt.subplots()\\n    ax.plot(df[cols_to_plot])\\n    ax.legend(cols_to_plot)\\n    ax.set_title(title)\\n    ax.set_xlabel(x_label)\\n    return fig\";\n",
       "                var nbb_cells = Jupyter.notebook.get_cells();\n",
       "                for (var i = 0; i < nbb_cells.length; ++i) {\n",
       "                    if (nbb_cells[i].input_prompt_number == nbb_cell_id) {\n",
       "                        if (nbb_cells[i].get_text() == nbb_unformatted_code) {\n",
       "                             nbb_cells[i].set_text(nbb_formatted_code);\n",
       "                        }\n",
       "                        break;\n",
       "                    }\n",
       "                }\n",
       "            }, 500);\n",
       "            "
      ],
      "text/plain": [
       "<IPython.core.display.Javascript object>"
      ]
     },
     "metadata": {},
     "output_type": "display_data"
    }
   ],
   "source": [
    "def line_plots(df, cols_to_plot, title=\"\", x_label=\"Sample\"):\n",
    "    fig, ax = plt.subplots()\n",
    "    ax.plot(df[cols_to_plot])\n",
    "    ax.legend(cols_to_plot)\n",
    "    ax.set_title(title)\n",
    "    ax.set_xlabel(x_label)\n",
    "    return fig"
   ]
  },
  {
   "cell_type": "code",
   "execution_count": 96,
   "id": "80d340c0",
   "metadata": {},
   "outputs": [
    {
     "data": {
      "text/html": [
       "<div>\n",
       "<style scoped>\n",
       "    .dataframe tbody tr th:only-of-type {\n",
       "        vertical-align: middle;\n",
       "    }\n",
       "\n",
       "    .dataframe tbody tr th {\n",
       "        vertical-align: top;\n",
       "    }\n",
       "\n",
       "    .dataframe thead th {\n",
       "        text-align: right;\n",
       "    }\n",
       "</style>\n",
       "<table border=\"1\" class=\"dataframe\">\n",
       "  <thead>\n",
       "    <tr style=\"text-align: right;\">\n",
       "      <th></th>\n",
       "      <th>rmse_train</th>\n",
       "      <th>rmse_test</th>\n",
       "    </tr>\n",
       "  </thead>\n",
       "  <tbody>\n",
       "    <tr>\n",
       "      <th>2</th>\n",
       "      <td>1.052644</td>\n",
       "      <td>1.054849</td>\n",
       "    </tr>\n",
       "    <tr>\n",
       "      <th>3</th>\n",
       "      <td>1.042844</td>\n",
       "      <td>1.046740</td>\n",
       "    </tr>\n",
       "    <tr>\n",
       "      <th>5</th>\n",
       "      <td>1.030954</td>\n",
       "      <td>1.038457</td>\n",
       "    </tr>\n",
       "    <tr>\n",
       "      <th>7</th>\n",
       "      <td>1.020794</td>\n",
       "      <td>1.032051</td>\n",
       "    </tr>\n",
       "    <tr>\n",
       "      <th>10</th>\n",
       "      <td>1.007975</td>\n",
       "      <td>1.024491</td>\n",
       "    </tr>\n",
       "    <tr>\n",
       "      <th>13</th>\n",
       "      <td>0.997764</td>\n",
       "      <td>1.020064</td>\n",
       "    </tr>\n",
       "    <tr>\n",
       "      <th>16</th>\n",
       "      <td>0.989997</td>\n",
       "      <td>1.019062</td>\n",
       "    </tr>\n",
       "    <tr>\n",
       "      <th>20</th>\n",
       "      <td>0.980080</td>\n",
       "      <td>1.017852</td>\n",
       "    </tr>\n",
       "    <tr>\n",
       "      <th>25</th>\n",
       "      <td>0.968765</td>\n",
       "      <td>1.017513</td>\n",
       "    </tr>\n",
       "    <tr>\n",
       "      <th>30</th>\n",
       "      <td>0.958494</td>\n",
       "      <td>1.017866</td>\n",
       "    </tr>\n",
       "    <tr>\n",
       "      <th>40</th>\n",
       "      <td>0.939620</td>\n",
       "      <td>1.020534</td>\n",
       "    </tr>\n",
       "    <tr>\n",
       "      <th>50</th>\n",
       "      <td>0.922270</td>\n",
       "      <td>1.022728</td>\n",
       "    </tr>\n",
       "    <tr>\n",
       "      <th>70</th>\n",
       "      <td>0.890076</td>\n",
       "      <td>1.028827</td>\n",
       "    </tr>\n",
       "    <tr>\n",
       "      <th>100</th>\n",
       "      <td>0.846619</td>\n",
       "      <td>1.036772</td>\n",
       "    </tr>\n",
       "  </tbody>\n",
       "</table>\n",
       "</div>"
      ],
      "text/plain": [
       "     rmse_train  rmse_test\n",
       "2      1.052644   1.054849\n",
       "3      1.042844   1.046740\n",
       "5      1.030954   1.038457\n",
       "7      1.020794   1.032051\n",
       "10     1.007975   1.024491\n",
       "13     0.997764   1.020064\n",
       "16     0.989997   1.019062\n",
       "20     0.980080   1.017852\n",
       "25     0.968765   1.017513\n",
       "30     0.958494   1.017866\n",
       "40     0.939620   1.020534\n",
       "50     0.922270   1.022728\n",
       "70     0.890076   1.028827\n",
       "100    0.846619   1.036772"
      ]
     },
     "execution_count": 96,
     "metadata": {},
     "output_type": "execute_result"
    },
    {
     "data": {
      "application/javascript": [
       "\n",
       "            setTimeout(function() {\n",
       "                var nbb_cell_id = 96;\n",
       "                var nbb_unformatted_code = \"res_table\";\n",
       "                var nbb_formatted_code = \"res_table\";\n",
       "                var nbb_cells = Jupyter.notebook.get_cells();\n",
       "                for (var i = 0; i < nbb_cells.length; ++i) {\n",
       "                    if (nbb_cells[i].input_prompt_number == nbb_cell_id) {\n",
       "                        if (nbb_cells[i].get_text() == nbb_unformatted_code) {\n",
       "                             nbb_cells[i].set_text(nbb_formatted_code);\n",
       "                        }\n",
       "                        break;\n",
       "                    }\n",
       "                }\n",
       "            }, 500);\n",
       "            "
      ],
      "text/plain": [
       "<IPython.core.display.Javascript object>"
      ]
     },
     "metadata": {},
     "output_type": "display_data"
    }
   ],
   "source": [
    "res_table"
   ]
  },
  {
   "cell_type": "code",
   "execution_count": 95,
   "id": "644529eb",
   "metadata": {},
   "outputs": [
    {
     "data": {
      "image/png": "[encoded data removed]",
      "text/plain": [
       "<Figure size 432x288 with 1 Axes>"
      ]
     },
     "metadata": {
      "needs_background": "light"
     },
     "output_type": "display_data"
    },
    {
     "data": {
      "application/javascript": [
       "\n",
       "            setTimeout(function() {\n",
       "                var nbb_cell_id = 95;\n",
       "                var nbb_unformatted_code = \"plot_rmse = line_plots(\\n    res_table,\\n    [\\\"rmse_train\\\", \\\"rmse_test\\\"],\\n    \\\"RMSE - Number of components\\\",\\n    \\\"Number of components\\\",\\n)\";\n",
       "                var nbb_formatted_code = \"plot_rmse = line_plots(\\n    res_table,\\n    [\\\"rmse_train\\\", \\\"rmse_test\\\"],\\n    \\\"RMSE - Number of components\\\",\\n    \\\"Number of components\\\",\\n)\";\n",
       "                var nbb_cells = Jupyter.notebook.get_cells();\n",
       "                for (var i = 0; i < nbb_cells.length; ++i) {\n",
       "                    if (nbb_cells[i].input_prompt_number == nbb_cell_id) {\n",
       "                        if (nbb_cells[i].get_text() == nbb_unformatted_code) {\n",
       "                             nbb_cells[i].set_text(nbb_formatted_code);\n",
       "                        }\n",
       "                        break;\n",
       "                    }\n",
       "                }\n",
       "            }, 500);\n",
       "            "
      ],
      "text/plain": [
       "<IPython.core.display.Javascript object>"
      ]
     },
     "metadata": {},
     "output_type": "display_data"
    }
   ],
   "source": [
    "plot_rmse = line_plots(\n",
    "    res_table,\n",
    "    [\"rmse_train\", \"rmse_test\"],\n",
    "    \"RMSE - Number of components\",\n",
    "    \"Number of components\",\n",
    ")"
   ]
  },
  {
   "cell_type": "markdown",
   "id": "5df379d5",
   "metadata": {},
   "source": [
    "Increasing the amount of components increases the flexibility of the model, so the training set RMSE goes down. The testing set RMSE also goes down until 25 components and then start to rise due to overfitting."
   ]
  },
  {
   "cell_type": "markdown",
   "id": "0e4117b3",
   "metadata": {},
   "source": [
    "Part 2)"
   ]
  },
  {
   "cell_type": "markdown",
   "id": "65819495",
   "metadata": {},
   "source": [
    "The rmse on the test set is a very little improvement from the baseline of predicting the users average rating. This situation is the consequence of the sparcity of the training matrix and of the way Sklearn cast NaNs to 0. I believe that this model can be considerably improved by using a implementation of matrix factorization that exclude NaN values from the estimation of the coefficients. Implementing a gradient descent algorithm that excludes NaNs is not very complex because of how matrix multiplication is just the combination of many dot products which have a easly diferentiable form."
   ]
  },
  {
   "cell_type": "code",
   "execution_count": null,
   "id": "31900554",
   "metadata": {},
   "outputs": [],
   "source": []
  }
 ],
 "metadata": {
  "kernelspec": {
   "display_name": "Python 3 (ipykernel)",
   "language": "python",
   "name": "python3"
  },
  "language_info": {
   "codemirror_mode": {
    "name": "ipython",
    "version": 3
   },
   "file_extension": ".py",
   "mimetype": "text/x-python",
   "name": "python",
   "nbconvert_exporter": "python",
   "pygments_lexer": "ipython3",
   "version": "3.9.0"
  }
 },
 "nbformat": 4,
 "nbformat_minor": 5
}
