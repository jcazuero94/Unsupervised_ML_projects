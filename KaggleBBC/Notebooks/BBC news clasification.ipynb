{
 "cells": [
  {
   "cell_type": "markdown",
   "id": "402eb0f1",
   "metadata": {},
   "source": [
    "# BBC news clasification"
   ]
  },
  {
   "cell_type": "markdown",
   "id": "214ca2dd",
   "metadata": {},
   "source": [
    "## Matrix factorization"
   ]
  },
  {
   "cell_type": "markdown",
   "id": "c48a5ae7",
   "metadata": {},
   "source": [
    "### Project of the course Unsupervised Algorithms in Machine Learning"
   ]
  },
  {
   "cell_type": "markdown",
   "id": "539b5578",
   "metadata": {},
   "source": [
    "#### Imports"
   ]
  },
  {
   "cell_type": "code",
   "execution_count": 1,
   "id": "ad77f891",
   "metadata": {},
   "outputs": [],
   "source": [
    "import pandas as pd\n",
    "import numpy as np\n",
    "import matplotlib.pyplot as plt\n",
    "import seaborn as sns\n",
    "import nltk\n",
    "import string\n",
    "from sklearn.feature_extraction.text import TfidfVectorizer\n",
    "from sklearn.decomposition import TruncatedSVD\n",
    "from sklearn.model_selection import train_test_split\n",
    "from sklearn.neighbors import KNeighborsClassifier\n",
    "from sklearn.model_selection import GridSearchCV\n",
    "from itertools import permutations\n",
    "from sklearn.metrics import accuracy_score, roc_auc_score, roc_curve\n",
    "import time"
   ]
  },
  {
   "cell_type": "code",
   "execution_count": 3,
   "id": "c8ee2d77",
   "metadata": {},
   "outputs": [],
   "source": [
    "train = pd.read_csv(\"../Data/BBC News Train.csv\")\n",
    "test = pd.read_csv(\"../Data/BBC News Test.csv\")"
   ]
  },
  {
   "cell_type": "markdown",
   "id": "aad6d507",
   "metadata": {},
   "source": [
    "### Constants"
   ]
  },
  {
   "cell_type": "code",
   "execution_count": 4,
   "id": "23366c0a",
   "metadata": {},
   "outputs": [],
   "source": [
    "N_NEIGH_LIST = list(range(2, 20)) + [\n",
    "    22,\n",
    "    25,\n",
    "    27,\n",
    "    30,\n",
    "    35,\n",
    "    40,\n",
    "    50,\n",
    "    75,\n",
    "    100,\n",
    "    150,\n",
    "    200,\n",
    "]"
   ]
  },
  {
   "cell_type": "markdown",
   "id": "f9923614",
   "metadata": {},
   "source": [
    "#### EDA"
   ]
  },
  {
   "cell_type": "code",
   "execution_count": 5,
   "id": "fa88d1e5",
   "metadata": {},
   "outputs": [
    {
     "data": {
      "text/html": [
       "<div>\n",
       "<style scoped>\n",
       "    .dataframe tbody tr th:only-of-type {\n",
       "        vertical-align: middle;\n",
       "    }\n",
       "\n",
       "    .dataframe tbody tr th {\n",
       "        vertical-align: top;\n",
       "    }\n",
       "\n",
       "    .dataframe thead th {\n",
       "        text-align: right;\n",
       "    }\n",
       "</style>\n",
       "<table border=\"1\" class=\"dataframe\">\n",
       "  <thead>\n",
       "    <tr style=\"text-align: right;\">\n",
       "      <th></th>\n",
       "      <th>ArticleId</th>\n",
       "      <th>Text</th>\n",
       "      <th>Category</th>\n",
       "    </tr>\n",
       "  </thead>\n",
       "  <tbody>\n",
       "    <tr>\n",
       "      <th>0</th>\n",
       "      <td>1833</td>\n",
       "      <td>worldcom ex-boss launches defence lawyers defe...</td>\n",
       "      <td>business</td>\n",
       "    </tr>\n",
       "    <tr>\n",
       "      <th>1</th>\n",
       "      <td>154</td>\n",
       "      <td>german business confidence slides german busin...</td>\n",
       "      <td>business</td>\n",
       "    </tr>\n",
       "    <tr>\n",
       "      <th>2</th>\n",
       "      <td>1101</td>\n",
       "      <td>bbc poll indicates economic gloom citizens in ...</td>\n",
       "      <td>business</td>\n",
       "    </tr>\n",
       "    <tr>\n",
       "      <th>3</th>\n",
       "      <td>1976</td>\n",
       "      <td>lifestyle  governs mobile choice  faster  bett...</td>\n",
       "      <td>tech</td>\n",
       "    </tr>\n",
       "    <tr>\n",
       "      <th>4</th>\n",
       "      <td>917</td>\n",
       "      <td>enron bosses in $168m payout eighteen former e...</td>\n",
       "      <td>business</td>\n",
       "    </tr>\n",
       "  </tbody>\n",
       "</table>\n",
       "</div>"
      ],
      "text/plain": [
       "   ArticleId                                               Text  Category\n",
       "0       1833  worldcom ex-boss launches defence lawyers defe...  business\n",
       "1        154  german business confidence slides german busin...  business\n",
       "2       1101  bbc poll indicates economic gloom citizens in ...  business\n",
       "3       1976  lifestyle  governs mobile choice  faster  bett...      tech\n",
       "4        917  enron bosses in $168m payout eighteen former e...  business"
      ]
     },
     "execution_count": 5,
     "metadata": {},
     "output_type": "execute_result"
    }
   ],
   "source": [
    "train.head()"
   ]
  },
  {
   "cell_type": "code",
   "execution_count": 6,
   "id": "06ea2f0e",
   "metadata": {},
   "outputs": [
    {
     "data": {
      "text/plain": [
       "<AxesSubplot:xlabel='Category', ylabel='Count'>"
      ]
     },
     "execution_count": 6,
     "metadata": {},
     "output_type": "execute_result"
    },
    {
     "data": {
      "image/png": "[encoded data removed]",
      "text/plain": [
       "<Figure size 432x288 with 1 Axes>"
      ]
     },
     "metadata": {
      "needs_background": "light"
     },
     "output_type": "display_data"
    }
   ],
   "source": [
    "sns.histplot(train[\"Category\"])"
   ]
  },
  {
   "cell_type": "markdown",
   "id": "26242cfb",
   "metadata": {},
   "source": [
    "Delete punctuation signs and transform into lowercase"
   ]
  },
  {
   "cell_type": "code",
   "execution_count": 7,
   "id": "517ebd6f",
   "metadata": {},
   "outputs": [],
   "source": [
    "train[\"Text\"] = train[\"Text\"].apply(\n",
    "    lambda x: \"\".join([s.lower() for s in x if s not in string.punctuation])\n",
    ")\n",
    "test[\"Text\"] = test[\"Text\"].apply(\n",
    "    lambda x: \"\".join([s for s in x if s not in string.punctuation])\n",
    ")"
   ]
  },
  {
   "cell_type": "markdown",
   "id": "5cc993a9",
   "metadata": {},
   "source": [
    "Tockenization"
   ]
  },
  {
   "cell_type": "code",
   "execution_count": 8,
   "id": "eba8b8f4",
   "metadata": {},
   "outputs": [],
   "source": [
    "train[\"Text\"] = train[\"Text\"].apply(lambda x: x.split(\" \"))\n",
    "test[\"Text\"] = test[\"Text\"].apply(lambda x: x.split(\" \"))"
   ]
  },
  {
   "cell_type": "markdown",
   "id": "c69b9552",
   "metadata": {},
   "source": [
    "Delete stopwords"
   ]
  },
  {
   "cell_type": "code",
   "execution_count": 12,
   "id": "bc0db766",
   "metadata": {},
   "outputs": [],
   "source": [
    "#nltk.download('stopwords')"
   ]
  },
  {
   "cell_type": "code",
   "execution_count": 13,
   "id": "af22d9e0",
   "metadata": {},
   "outputs": [],
   "source": [
    "stopwords = nltk.corpus.stopwords.words(\"english\")"
   ]
  },
  {
   "cell_type": "code",
   "execution_count": 14,
   "id": "8215f20f",
   "metadata": {},
   "outputs": [],
   "source": [
    "stopwords = [\"\".join([s for s in w if s not in string.punctuation]) for w in stopwords]"
   ]
  },
  {
   "cell_type": "code",
   "execution_count": 15,
   "id": "75648b9d",
   "metadata": {},
   "outputs": [],
   "source": [
    "train[\"Text\"] = train[\"Text\"].apply(lambda t: [w for w in t if w not in stopwords])\n",
    "test[\"Text\"] = test[\"Text\"].apply(lambda t: [w for w in t if w not in stopwords])"
   ]
  },
  {
   "cell_type": "markdown",
   "id": "9f5f53cd",
   "metadata": {},
   "source": [
    "Lenght of text attribute"
   ]
  },
  {
   "cell_type": "code",
   "execution_count": 16,
   "id": "17f22a9d",
   "metadata": {},
   "outputs": [],
   "source": [
    "train[\"length\"] = train[\"Text\"].apply(len)"
   ]
  },
  {
   "cell_type": "code",
   "execution_count": 17,
   "id": "30294c71",
   "metadata": {},
   "outputs": [],
   "source": [
    "test[\"length\"] = test[\"Text\"].apply(len)"
   ]
  },
  {
   "cell_type": "code",
   "execution_count": 18,
   "id": "382429eb",
   "metadata": {},
   "outputs": [
    {
     "data": {
      "image/png": "[encoded data removed]",
      "text/plain": [
       "<Figure size 576x360 with 1 Axes>"
      ]
     },
     "metadata": {
      "needs_background": "light"
     },
     "output_type": "display_data"
    }
   ],
   "source": [
    "sns.violinplot(data=train, y=\"length\", x=\"Category\")\n",
    "fig = plt.gcf()\n",
    "fig.set_size_inches(8, 5)"
   ]
  },
  {
   "cell_type": "code",
   "execution_count": 19,
   "id": "701df5eb",
   "metadata": {},
   "outputs": [
    {
     "data": {
      "text/html": [
       "<div>\n",
       "<style scoped>\n",
       "    .dataframe tbody tr th:only-of-type {\n",
       "        vertical-align: middle;\n",
       "    }\n",
       "\n",
       "    .dataframe tbody tr th {\n",
       "        vertical-align: top;\n",
       "    }\n",
       "\n",
       "    .dataframe thead th {\n",
       "        text-align: right;\n",
       "    }\n",
       "</style>\n",
       "<table border=\"1\" class=\"dataframe\">\n",
       "  <thead>\n",
       "    <tr style=\"text-align: right;\">\n",
       "      <th></th>\n",
       "      <th>ArticleId</th>\n",
       "      <th>Text</th>\n",
       "      <th>Category</th>\n",
       "      <th>length</th>\n",
       "    </tr>\n",
       "  </thead>\n",
       "  <tbody>\n",
       "    <tr>\n",
       "      <th>0</th>\n",
       "      <td>1833</td>\n",
       "      <td>[worldcom, exboss, launches, defence, lawyers,...</td>\n",
       "      <td>business</td>\n",
       "      <td>215</td>\n",
       "    </tr>\n",
       "    <tr>\n",
       "      <th>1</th>\n",
       "      <td>154</td>\n",
       "      <td>[german, business, confidence, slides, german,...</td>\n",
       "      <td>business</td>\n",
       "      <td>227</td>\n",
       "    </tr>\n",
       "    <tr>\n",
       "      <th>2</th>\n",
       "      <td>1101</td>\n",
       "      <td>[bbc, poll, indicates, economic, gloom, citize...</td>\n",
       "      <td>business</td>\n",
       "      <td>330</td>\n",
       "    </tr>\n",
       "    <tr>\n",
       "      <th>3</th>\n",
       "      <td>1976</td>\n",
       "      <td>[lifestyle, , governs, mobile, choice, , faste...</td>\n",
       "      <td>tech</td>\n",
       "      <td>413</td>\n",
       "    </tr>\n",
       "    <tr>\n",
       "      <th>4</th>\n",
       "      <td>917</td>\n",
       "      <td>[enron, bosses, 168m, payout, eighteen, former...</td>\n",
       "      <td>business</td>\n",
       "      <td>239</td>\n",
       "    </tr>\n",
       "    <tr>\n",
       "      <th>...</th>\n",
       "      <td>...</td>\n",
       "      <td>...</td>\n",
       "      <td>...</td>\n",
       "      <td>...</td>\n",
       "    </tr>\n",
       "    <tr>\n",
       "      <th>1485</th>\n",
       "      <td>857</td>\n",
       "      <td>[double, eviction, big, brother, model, capric...</td>\n",
       "      <td>entertainment</td>\n",
       "      <td>139</td>\n",
       "    </tr>\n",
       "    <tr>\n",
       "      <th>1486</th>\n",
       "      <td>325</td>\n",
       "      <td>[dj, double, act, revamp, chart, show, dj, duo...</td>\n",
       "      <td>entertainment</td>\n",
       "      <td>377</td>\n",
       "    </tr>\n",
       "    <tr>\n",
       "      <th>1487</th>\n",
       "      <td>1590</td>\n",
       "      <td>[weak, dollar, hits, reuters, revenues, media,...</td>\n",
       "      <td>business</td>\n",
       "      <td>165</td>\n",
       "    </tr>\n",
       "    <tr>\n",
       "      <th>1488</th>\n",
       "      <td>1587</td>\n",
       "      <td>[apple, ipod, family, expands, market, apple, ...</td>\n",
       "      <td>tech</td>\n",
       "      <td>365</td>\n",
       "    </tr>\n",
       "    <tr>\n",
       "      <th>1489</th>\n",
       "      <td>538</td>\n",
       "      <td>[santy, worm, makes, unwelcome, visit, thousan...</td>\n",
       "      <td>tech</td>\n",
       "      <td>182</td>\n",
       "    </tr>\n",
       "  </tbody>\n",
       "</table>\n",
       "<p>1490 rows × 4 columns</p>\n",
       "</div>"
      ],
      "text/plain": [
       "      ArticleId                                               Text  \\\n",
       "0          1833  [worldcom, exboss, launches, defence, lawyers,...   \n",
       "1           154  [german, business, confidence, slides, german,...   \n",
       "2          1101  [bbc, poll, indicates, economic, gloom, citize...   \n",
       "3          1976  [lifestyle, , governs, mobile, choice, , faste...   \n",
       "4           917  [enron, bosses, 168m, payout, eighteen, former...   \n",
       "...         ...                                                ...   \n",
       "1485        857  [double, eviction, big, brother, model, capric...   \n",
       "1486        325  [dj, double, act, revamp, chart, show, dj, duo...   \n",
       "1487       1590  [weak, dollar, hits, reuters, revenues, media,...   \n",
       "1488       1587  [apple, ipod, family, expands, market, apple, ...   \n",
       "1489        538  [santy, worm, makes, unwelcome, visit, thousan...   \n",
       "\n",
       "           Category  length  \n",
       "0          business     215  \n",
       "1          business     227  \n",
       "2          business     330  \n",
       "3              tech     413  \n",
       "4          business     239  \n",
       "...             ...     ...  \n",
       "1485  entertainment     139  \n",
       "1486  entertainment     377  \n",
       "1487       business     165  \n",
       "1488           tech     365  \n",
       "1489           tech     182  \n",
       "\n",
       "[1490 rows x 4 columns]"
      ]
     },
     "execution_count": 19,
     "metadata": {},
     "output_type": "execute_result"
    }
   ],
   "source": [
    "train"
   ]
  },
  {
   "cell_type": "code",
   "execution_count": 20,
   "id": "8a23ca9a",
   "metadata": {},
   "outputs": [],
   "source": [
    "classes = train[\"Category\"].unique()"
   ]
  },
  {
   "cell_type": "markdown",
   "id": "7e8f6953",
   "metadata": {},
   "source": [
    "### Data preprocessing"
   ]
  },
  {
   "cell_type": "code",
   "execution_count": 21,
   "id": "34dd020d",
   "metadata": {},
   "outputs": [],
   "source": [
    "x_train, x_test, y_train, y_test = train_test_split(\n",
    "    train.drop(\"Category\", axis=1), train[\"Category\"], test_size=0.25\n",
    ")"
   ]
  },
  {
   "cell_type": "code",
   "execution_count": 22,
   "id": "74bc4af9",
   "metadata": {},
   "outputs": [],
   "source": [
    "vectorizer = TfidfVectorizer()"
   ]
  },
  {
   "cell_type": "code",
   "execution_count": 23,
   "id": "2d598b71",
   "metadata": {},
   "outputs": [],
   "source": [
    "x_train_vectorized = np.array(\n",
    "    vectorizer.fit_transform(x_train[\"Text\"].apply(lambda x: \" \".join(x))).todense()\n",
    ")"
   ]
  },
  {
   "cell_type": "code",
   "execution_count": 24,
   "id": "9e7c3ead",
   "metadata": {},
   "outputs": [],
   "source": [
    "x_test_vectorized = np.array(\n",
    "    vectorizer.transform(x_test[\"Text\"].apply(lambda x: \" \".join(x))).todense()\n",
    ")\n"
   ]
  },
  {
   "cell_type": "code",
   "execution_count": 25,
   "id": "bb7213eb",
   "metadata": {},
   "outputs": [],
   "source": [
    "x_test_kaggle = np.array(\n",
    "    vectorizer.transform(test[\"Text\"].apply(lambda x: \" \".join(x))).todense()\n",
    ")\n"
   ]
  },
  {
   "cell_type": "markdown",
   "id": "ede9534c",
   "metadata": {},
   "source": [
    "### Baseline model"
   ]
  },
  {
   "cell_type": "code",
   "execution_count": 26,
   "id": "7882fb10",
   "metadata": {},
   "outputs": [],
   "source": [
    "knn = KNeighborsClassifier()"
   ]
  },
  {
   "cell_type": "code",
   "execution_count": 27,
   "id": "1b39d3df",
   "metadata": {},
   "outputs": [],
   "source": [
    "knn_gridcv = GridSearchCV(knn, param_grid={\"n_neighbors\": N_NEIGH_LIST},)"
   ]
  },
  {
   "cell_type": "markdown",
   "id": "75c79f6a",
   "metadata": {},
   "source": [
    "Cross validation"
   ]
  },
  {
   "cell_type": "code",
   "execution_count": 28,
   "id": "f47e78ac",
   "metadata": {},
   "outputs": [
    {
     "data": {
      "text/plain": [
       "GridSearchCV(estimator=KNeighborsClassifier(),\n",
       "             param_grid={'n_neighbors': [2, 3, 4, 5, 6, 7, 8, 9, 10, 11, 12, 13,\n",
       "                                         14, 15, 16, 17, 18, 19, 22, 25, 27, 30,\n",
       "                                         35, 40, 50, 75, 100, 150, 200]})"
      ]
     },
     "execution_count": 28,
     "metadata": {},
     "output_type": "execute_result"
    }
   ],
   "source": [
    "knn_gridcv.fit(x_train_vectorized, y_train)"
   ]
  },
  {
   "cell_type": "code",
   "execution_count": 29,
   "id": "2944168c",
   "metadata": {},
   "outputs": [
    {
     "data": {
      "text/plain": [
       "KNeighborsClassifier(n_neighbors=16)"
      ]
     },
     "execution_count": 29,
     "metadata": {},
     "output_type": "execute_result"
    }
   ],
   "source": [
    "knn = knn_gridcv.best_estimator_\n",
    "knn_gridcv.best_estimator_"
   ]
  },
  {
   "cell_type": "code",
   "execution_count": 30,
   "id": "b6b7e8ef",
   "metadata": {},
   "outputs": [
    {
     "data": {
      "text/plain": [
       "0.9507607303010891"
      ]
     },
     "execution_count": 30,
     "metadata": {},
     "output_type": "execute_result"
    }
   ],
   "source": [
    "knn_gridcv.best_score_"
   ]
  },
  {
   "cell_type": "markdown",
   "id": "4fb03ba9",
   "metadata": {},
   "source": [
    "Test metrics"
   ]
  },
  {
   "cell_type": "code",
   "execution_count": 31,
   "id": "63026ac8",
   "metadata": {},
   "outputs": [],
   "source": [
    "y_test_pred = knn.predict(x_test_vectorized)"
   ]
  },
  {
   "cell_type": "code",
   "execution_count": 32,
   "id": "e3c66a00",
   "metadata": {},
   "outputs": [],
   "source": [
    "y_test_pred_proba = knn.predict_proba(x_test_vectorized)"
   ]
  },
  {
   "cell_type": "code",
   "execution_count": 33,
   "id": "92381cd2",
   "metadata": {},
   "outputs": [
    {
     "data": {
      "text/plain": [
       "0.9410187667560321"
      ]
     },
     "execution_count": 33,
     "metadata": {},
     "output_type": "execute_result"
    }
   ],
   "source": [
    "accuracy_score(y_test, y_test_pred)"
   ]
  },
  {
   "cell_type": "code",
   "execution_count": 34,
   "id": "300746d2",
   "metadata": {},
   "outputs": [
    {
     "data": {
      "image/png": "[encoded data removed]",
      "text/plain": [
       "<Figure size 576x432 with 1 Axes>"
      ]
     },
     "metadata": {
      "needs_background": "light"
     },
     "output_type": "display_data"
    }
   ],
   "source": [
    "fig, ax = plt.subplots()\n",
    "for i in range(len(knn.classes_)):\n",
    "    fpr, tpr, _ = roc_curve(\n",
    "        (y_test == knn.classes_[i]).astype(int), y_test_pred_proba[:, i]\n",
    "    )\n",
    "    ax.plot(fpr, tpr)\n",
    "fig.legend(labels=knn.classes_, loc=4, bbox_to_anchor=(0.88, 0.15))\n",
    "fig.set_size_inches(8, 6)"
   ]
  },
  {
   "cell_type": "markdown",
   "id": "30e20d71",
   "metadata": {},
   "source": [
    "### Non negative matrix factorization"
   ]
  },
  {
   "cell_type": "markdown",
   "id": "843e97fd",
   "metadata": {},
   "source": [
    "#### Dimensionality reduction"
   ]
  },
  {
   "cell_type": "code",
   "execution_count": 35,
   "id": "c6918fa2",
   "metadata": {},
   "outputs": [],
   "source": [
    "sklearn_svd = TruncatedSVD(n_components=2)"
   ]
  },
  {
   "cell_type": "code",
   "execution_count": 36,
   "id": "66a008fb",
   "metadata": {},
   "outputs": [],
   "source": [
    "x_train_2d = sklearn_svd.fit_transform(x_train_vectorized)"
   ]
  },
  {
   "cell_type": "code",
   "execution_count": 37,
   "id": "b995b199",
   "metadata": {},
   "outputs": [
    {
     "data": {
      "text/plain": [
       "<matplotlib.collections.PathCollection at 0x7f8d06614460>"
      ]
     },
     "execution_count": 37,
     "metadata": {},
     "output_type": "execute_result"
    },
    {
     "data": {
      "image/png": "[encoded data removed]",
      "text/plain": [
       "<Figure size 432x288 with 1 Axes>"
      ]
     },
     "metadata": {
      "needs_background": "light"
     },
     "output_type": "display_data"
    }
   ],
   "source": [
    "fig, ax = plt.subplots()\n",
    "ax.scatter(\n",
    "    x_train_2d[:, 0],\n",
    "    x_train_2d[:, 1],\n",
    "    c=y_train.apply(lambda x: list(classes).index(x)),\n",
    ")"
   ]
  },
  {
   "cell_type": "markdown",
   "id": "c0371483",
   "metadata": {},
   "source": [
    "#### Unsupervised approach for the classification problem"
   ]
  },
  {
   "cell_type": "code",
   "execution_count": 38,
   "id": "f14b5010",
   "metadata": {},
   "outputs": [],
   "source": [
    "sklearn_svd = TruncatedSVD(n_components=5)"
   ]
  },
  {
   "cell_type": "code",
   "execution_count": 39,
   "id": "ec1b6231",
   "metadata": {},
   "outputs": [],
   "source": [
    "pred_train_svd = np.argmax(sklearn_svd.fit_transform(x_train_vectorized), axis=1)"
   ]
  },
  {
   "cell_type": "code",
   "execution_count": 40,
   "id": "939a8bc0",
   "metadata": {},
   "outputs": [],
   "source": [
    "pred_test_svd = np.argmax(sklearn_svd.transform(x_test_vectorized), axis=1)"
   ]
  },
  {
   "cell_type": "markdown",
   "id": "f29b8fc1",
   "metadata": {},
   "source": [
    "Finds best permutation for labels"
   ]
  },
  {
   "cell_type": "code",
   "execution_count": 41,
   "id": "89d6eea7",
   "metadata": {},
   "outputs": [],
   "source": [
    "perm_final = None\n",
    "acc_final = 0\n",
    "for p in permutations(classes):\n",
    "    pred_train_svd_label = [p[i] for i in pred_train_svd]\n",
    "    acc_score = accuracy_score(y_train.values, pred_train_svd_label)\n",
    "    if acc_score > acc_final:\n",
    "        perm_final = p\n",
    "        acc_final = acc_score"
   ]
  },
  {
   "cell_type": "code",
   "execution_count": 42,
   "id": "9aaf9736",
   "metadata": {},
   "outputs": [
    {
     "data": {
      "text/plain": [
       "('tech', 'politics', 'sport', 'entertainment', 'business')"
      ]
     },
     "execution_count": 42,
     "metadata": {},
     "output_type": "execute_result"
    }
   ],
   "source": [
    "perm_final"
   ]
  },
  {
   "cell_type": "markdown",
   "id": "bca3c067",
   "metadata": {},
   "source": [
    "Final metrics over train and test set"
   ]
  },
  {
   "cell_type": "code",
   "execution_count": 43,
   "id": "aae8b207",
   "metadata": {},
   "outputs": [
    {
     "data": {
      "text/plain": [
       "0.41897940913160253"
      ]
     },
     "execution_count": 43,
     "metadata": {},
     "output_type": "execute_result"
    }
   ],
   "source": [
    "acc_final"
   ]
  },
  {
   "cell_type": "code",
   "execution_count": 44,
   "id": "c099246b",
   "metadata": {},
   "outputs": [
    {
     "data": {
      "text/plain": [
       "0.40214477211796246"
      ]
     },
     "execution_count": 44,
     "metadata": {},
     "output_type": "execute_result"
    }
   ],
   "source": [
    "pred_test_svd_label = [perm_final[i] for i in pred_test_svd]\n",
    "accuracy_score(y_test.values, pred_test_svd_label)"
   ]
  },
  {
   "cell_type": "markdown",
   "id": "1ca871f3",
   "metadata": {},
   "source": [
    "#### Dimensionality reduction as preprocessing"
   ]
  },
  {
   "cell_type": "code",
   "execution_count": 45,
   "id": "0d5a14d4",
   "metadata": {},
   "outputs": [],
   "source": [
    "res_table = pd.DataFrame(columns=[\"k\", \"score\", \"time_train\"])"
   ]
  },
  {
   "cell_type": "code",
   "execution_count": 46,
   "id": "308a780d",
   "metadata": {},
   "outputs": [],
   "source": [
    "knn_mf = KNeighborsClassifier()\n",
    "max_acc = 0\n",
    "knn_best = None\n",
    "svd_best = None\n",
    "for n_comp in list(range(2, 25)) + [27, 30, 35, 40, 50, 75, 100, 150, 200, 300]:\n",
    "    t0 = time.time_ns()\n",
    "    sklearn_svd = TruncatedSVD(n_components=n_comp)\n",
    "    x_train_vectorized_mf = sklearn_svd.fit_transform(x_train_vectorized)\n",
    "    knn_gridcv = GridSearchCV(knn_mf, param_grid={\"n_neighbors\": N_NEIGH_LIST},)\n",
    "    knn_gridcv.fit(x_train_vectorized_mf, y_train)\n",
    "    score = knn_gridcv.best_score_\n",
    "    t1 = time.time_ns()\n",
    "    res_table.loc[n_comp] = [\n",
    "        knn_gridcv.best_estimator_.n_neighbors,\n",
    "        score,\n",
    "        (t1 - t0) / 1000000,\n",
    "    ]\n",
    "    if score > max_acc:\n",
    "        max_acc = score\n",
    "        knn_best = knn_gridcv.best_estimator_\n",
    "        svd_best = sklearn_svd"
   ]
  },
  {
   "cell_type": "code",
   "execution_count": 47,
   "id": "ece68b58",
   "metadata": {
    "scrolled": true
   },
   "outputs": [
    {
     "data": {
      "text/html": [
       "<div>\n",
       "<style scoped>\n",
       "    .dataframe tbody tr th:only-of-type {\n",
       "        vertical-align: middle;\n",
       "    }\n",
       "\n",
       "    .dataframe tbody tr th {\n",
       "        vertical-align: top;\n",
       "    }\n",
       "\n",
       "    .dataframe thead th {\n",
       "        text-align: right;\n",
       "    }\n",
       "</style>\n",
       "<table border=\"1\" class=\"dataframe\">\n",
       "  <thead>\n",
       "    <tr style=\"text-align: right;\">\n",
       "      <th></th>\n",
       "      <th>k</th>\n",
       "      <th>score</th>\n",
       "      <th>time_train</th>\n",
       "    </tr>\n",
       "  </thead>\n",
       "  <tbody>\n",
       "    <tr>\n",
       "      <th>2</th>\n",
       "      <td>40.0</td>\n",
       "      <td>0.567609</td>\n",
       "      <td>1070.429</td>\n",
       "    </tr>\n",
       "    <tr>\n",
       "      <th>3</th>\n",
       "      <td>22.0</td>\n",
       "      <td>0.802134</td>\n",
       "      <td>1128.338</td>\n",
       "    </tr>\n",
       "    <tr>\n",
       "      <th>4</th>\n",
       "      <td>18.0</td>\n",
       "      <td>0.879120</td>\n",
       "      <td>1155.019</td>\n",
       "    </tr>\n",
       "    <tr>\n",
       "      <th>5</th>\n",
       "      <td>9.0</td>\n",
       "      <td>0.946268</td>\n",
       "      <td>1186.038</td>\n",
       "    </tr>\n",
       "    <tr>\n",
       "      <th>6</th>\n",
       "      <td>3.0</td>\n",
       "      <td>0.942689</td>\n",
       "      <td>1263.985</td>\n",
       "    </tr>\n",
       "    <tr>\n",
       "      <th>7</th>\n",
       "      <td>7.0</td>\n",
       "      <td>0.948062</td>\n",
       "      <td>1382.580</td>\n",
       "    </tr>\n",
       "    <tr>\n",
       "      <th>8</th>\n",
       "      <td>5.0</td>\n",
       "      <td>0.949856</td>\n",
       "      <td>1324.144</td>\n",
       "    </tr>\n",
       "    <tr>\n",
       "      <th>9</th>\n",
       "      <td>10.0</td>\n",
       "      <td>0.949864</td>\n",
       "      <td>1340.949</td>\n",
       "    </tr>\n",
       "    <tr>\n",
       "      <th>10</th>\n",
       "      <td>5.0</td>\n",
       "      <td>0.951666</td>\n",
       "      <td>1348.093</td>\n",
       "    </tr>\n",
       "    <tr>\n",
       "      <th>11</th>\n",
       "      <td>5.0</td>\n",
       "      <td>0.954340</td>\n",
       "      <td>1416.537</td>\n",
       "    </tr>\n",
       "    <tr>\n",
       "      <th>12</th>\n",
       "      <td>6.0</td>\n",
       "      <td>0.949876</td>\n",
       "      <td>1430.532</td>\n",
       "    </tr>\n",
       "    <tr>\n",
       "      <th>13</th>\n",
       "      <td>5.0</td>\n",
       "      <td>0.951650</td>\n",
       "      <td>1557.140</td>\n",
       "    </tr>\n",
       "    <tr>\n",
       "      <th>14</th>\n",
       "      <td>5.0</td>\n",
       "      <td>0.952542</td>\n",
       "      <td>1542.661</td>\n",
       "    </tr>\n",
       "    <tr>\n",
       "      <th>15</th>\n",
       "      <td>8.0</td>\n",
       "      <td>0.952550</td>\n",
       "      <td>1608.693</td>\n",
       "    </tr>\n",
       "    <tr>\n",
       "      <th>16</th>\n",
       "      <td>3.0</td>\n",
       "      <td>0.954348</td>\n",
       "      <td>1470.417</td>\n",
       "    </tr>\n",
       "    <tr>\n",
       "      <th>17</th>\n",
       "      <td>8.0</td>\n",
       "      <td>0.950777</td>\n",
       "      <td>1494.074</td>\n",
       "    </tr>\n",
       "    <tr>\n",
       "      <th>18</th>\n",
       "      <td>6.0</td>\n",
       "      <td>0.957027</td>\n",
       "      <td>1493.776</td>\n",
       "    </tr>\n",
       "    <tr>\n",
       "      <th>19</th>\n",
       "      <td>6.0</td>\n",
       "      <td>0.956134</td>\n",
       "      <td>1542.407</td>\n",
       "    </tr>\n",
       "    <tr>\n",
       "      <th>20</th>\n",
       "      <td>7.0</td>\n",
       "      <td>0.954352</td>\n",
       "      <td>1539.080</td>\n",
       "    </tr>\n",
       "    <tr>\n",
       "      <th>21</th>\n",
       "      <td>3.0</td>\n",
       "      <td>0.951666</td>\n",
       "      <td>1544.754</td>\n",
       "    </tr>\n",
       "    <tr>\n",
       "      <th>22</th>\n",
       "      <td>6.0</td>\n",
       "      <td>0.949860</td>\n",
       "      <td>1501.553</td>\n",
       "    </tr>\n",
       "    <tr>\n",
       "      <th>23</th>\n",
       "      <td>5.0</td>\n",
       "      <td>0.955229</td>\n",
       "      <td>1574.701</td>\n",
       "    </tr>\n",
       "    <tr>\n",
       "      <th>24</th>\n",
       "      <td>7.0</td>\n",
       "      <td>0.948074</td>\n",
       "      <td>1519.492</td>\n",
       "    </tr>\n",
       "    <tr>\n",
       "      <th>27</th>\n",
       "      <td>5.0</td>\n",
       "      <td>0.948066</td>\n",
       "      <td>1594.643</td>\n",
       "    </tr>\n",
       "    <tr>\n",
       "      <th>30</th>\n",
       "      <td>3.0</td>\n",
       "      <td>0.951654</td>\n",
       "      <td>1607.167</td>\n",
       "    </tr>\n",
       "    <tr>\n",
       "      <th>35</th>\n",
       "      <td>6.0</td>\n",
       "      <td>0.952542</td>\n",
       "      <td>1743.724</td>\n",
       "    </tr>\n",
       "    <tr>\n",
       "      <th>40</th>\n",
       "      <td>5.0</td>\n",
       "      <td>0.947169</td>\n",
       "      <td>1798.345</td>\n",
       "    </tr>\n",
       "    <tr>\n",
       "      <th>50</th>\n",
       "      <td>3.0</td>\n",
       "      <td>0.948062</td>\n",
       "      <td>1891.926</td>\n",
       "    </tr>\n",
       "    <tr>\n",
       "      <th>75</th>\n",
       "      <td>14.0</td>\n",
       "      <td>0.947173</td>\n",
       "      <td>2198.466</td>\n",
       "    </tr>\n",
       "    <tr>\n",
       "      <th>100</th>\n",
       "      <td>11.0</td>\n",
       "      <td>0.936435</td>\n",
       "      <td>2445.527</td>\n",
       "    </tr>\n",
       "    <tr>\n",
       "      <th>150</th>\n",
       "      <td>5.0</td>\n",
       "      <td>0.920352</td>\n",
       "      <td>3064.829</td>\n",
       "    </tr>\n",
       "    <tr>\n",
       "      <th>200</th>\n",
       "      <td>3.0</td>\n",
       "      <td>0.907811</td>\n",
       "      <td>4001.467</td>\n",
       "    </tr>\n",
       "    <tr>\n",
       "      <th>300</th>\n",
       "      <td>12.0</td>\n",
       "      <td>0.931987</td>\n",
       "      <td>5339.129</td>\n",
       "    </tr>\n",
       "  </tbody>\n",
       "</table>\n",
       "</div>"
      ],
      "text/plain": [
       "        k     score  time_train\n",
       "2    40.0  0.567609    1070.429\n",
       "3    22.0  0.802134    1128.338\n",
       "4    18.0  0.879120    1155.019\n",
       "5     9.0  0.946268    1186.038\n",
       "6     3.0  0.942689    1263.985\n",
       "7     7.0  0.948062    1382.580\n",
       "8     5.0  0.949856    1324.144\n",
       "9    10.0  0.949864    1340.949\n",
       "10    5.0  0.951666    1348.093\n",
       "11    5.0  0.954340    1416.537\n",
       "12    6.0  0.949876    1430.532\n",
       "13    5.0  0.951650    1557.140\n",
       "14    5.0  0.952542    1542.661\n",
       "15    8.0  0.952550    1608.693\n",
       "16    3.0  0.954348    1470.417\n",
       "17    8.0  0.950777    1494.074\n",
       "18    6.0  0.957027    1493.776\n",
       "19    6.0  0.956134    1542.407\n",
       "20    7.0  0.954352    1539.080\n",
       "21    3.0  0.951666    1544.754\n",
       "22    6.0  0.949860    1501.553\n",
       "23    5.0  0.955229    1574.701\n",
       "24    7.0  0.948074    1519.492\n",
       "27    5.0  0.948066    1594.643\n",
       "30    3.0  0.951654    1607.167\n",
       "35    6.0  0.952542    1743.724\n",
       "40    5.0  0.947169    1798.345\n",
       "50    3.0  0.948062    1891.926\n",
       "75   14.0  0.947173    2198.466\n",
       "100  11.0  0.936435    2445.527\n",
       "150   5.0  0.920352    3064.829\n",
       "200   3.0  0.907811    4001.467\n",
       "300  12.0  0.931987    5339.129"
      ]
     },
     "execution_count": 47,
     "metadata": {},
     "output_type": "execute_result"
    }
   ],
   "source": [
    "res_table"
   ]
  },
  {
   "cell_type": "markdown",
   "id": "d9d928d1",
   "metadata": {},
   "source": [
    "Best model"
   ]
  },
  {
   "cell_type": "code",
   "execution_count": 48,
   "id": "52263e62",
   "metadata": {},
   "outputs": [],
   "source": [
    "x_train_vectorized_mf = svd_best.fit_transform(x_train_vectorized)\n",
    "x_test_vectorized_mf = svd_best.transform(x_test_vectorized)"
   ]
  },
  {
   "cell_type": "code",
   "execution_count": 49,
   "id": "1d1d6e3a",
   "metadata": {},
   "outputs": [
    {
     "data": {
      "text/plain": [
       "KNeighborsClassifier(n_neighbors=6)"
      ]
     },
     "execution_count": 49,
     "metadata": {},
     "output_type": "execute_result"
    }
   ],
   "source": [
    "knn_best.fit(x_train_vectorized_mf, y_train)"
   ]
  },
  {
   "cell_type": "code",
   "execution_count": 50,
   "id": "63c87706",
   "metadata": {},
   "outputs": [],
   "source": [
    "y_test_pred = knn_best.predict(x_test_vectorized_mf)"
   ]
  },
  {
   "cell_type": "code",
   "execution_count": 51,
   "id": "915916dd",
   "metadata": {
    "scrolled": true
   },
   "outputs": [
    {
     "data": {
      "text/plain": [
       "0.9544235924932976"
      ]
     },
     "execution_count": 51,
     "metadata": {},
     "output_type": "execute_result"
    }
   ],
   "source": [
    "accuracy_score(y_test, y_test_pred)"
   ]
  },
  {
   "cell_type": "markdown",
   "id": "adeed3cf",
   "metadata": {},
   "source": [
    "### Model refinement"
   ]
  },
  {
   "cell_type": "markdown",
   "id": "ff47671b",
   "metadata": {},
   "source": [
    "Inclusion of lenght attribute"
   ]
  },
  {
   "cell_type": "code",
   "execution_count": 52,
   "id": "bb98a1e1",
   "metadata": {},
   "outputs": [],
   "source": [
    "x_train_vectorized_len = np.c_[x_train_vectorized, x_train[\"length\"].values]\n",
    "x_test_vectorized_len = np.c_[x_test_vectorized, x_test[\"length\"].values]"
   ]
  },
  {
   "cell_type": "code",
   "execution_count": 53,
   "id": "64479f0d",
   "metadata": {},
   "outputs": [],
   "source": [
    "knn_len = KNeighborsClassifier()"
   ]
  },
  {
   "cell_type": "code",
   "execution_count": 54,
   "id": "db9d6b62",
   "metadata": {},
   "outputs": [],
   "source": [
    "knn_gridcv = GridSearchCV(knn_len, param_grid={\"n_neighbors\": N_NEIGH_LIST},)"
   ]
  },
  {
   "cell_type": "code",
   "execution_count": 55,
   "id": "99f430b6",
   "metadata": {},
   "outputs": [],
   "source": [
    "max_acc = 0\n",
    "sc_best = None\n",
    "knn_len_best = None\n",
    "for i in range(15):\n",
    "    sc = 2 ** (-i)\n",
    "    x_train_vectorized_len_iter = x_train_vectorized_len.copy()\n",
    "    x_train_vectorized_len_iter[:, -1] = x_train_vectorized_len_iter[:, -1] * sc\n",
    "    knn_gridcv.fit(x_train_vectorized_len_iter, y_train)\n",
    "    score = knn_gridcv.best_score_\n",
    "    if score > max_acc:\n",
    "        max_acc = score\n",
    "        knn_best = knn_gridcv.best_estimator_\n",
    "        sc_best = sc"
   ]
  },
  {
   "cell_type": "code",
   "execution_count": 56,
   "id": "cc5075ee",
   "metadata": {},
   "outputs": [],
   "source": [
    "x_test_vectorized_len_iter = x_test_vectorized_len.copy()\n",
    "x_test_vectorized_len_iter[:, -1] = x_test_vectorized_len_iter[:, -1] * sc"
   ]
  },
  {
   "cell_type": "code",
   "execution_count": 57,
   "id": "e696d974",
   "metadata": {},
   "outputs": [
    {
     "data": {
      "text/plain": [
       "0.9543401665598974"
      ]
     },
     "execution_count": 57,
     "metadata": {},
     "output_type": "execute_result"
    }
   ],
   "source": [
    "max_acc"
   ]
  },
  {
   "cell_type": "code",
   "execution_count": 58,
   "id": "f728445a",
   "metadata": {},
   "outputs": [],
   "source": [
    "y_test_pred = knn_best.predict(x_test_vectorized_len_iter)"
   ]
  },
  {
   "cell_type": "code",
   "execution_count": 59,
   "id": "97319c9c",
   "metadata": {},
   "outputs": [
    {
     "data": {
      "text/plain": [
       "0.935656836461126"
      ]
     },
     "execution_count": 59,
     "metadata": {},
     "output_type": "execute_result"
    }
   ],
   "source": [
    "accuracy_score(y_test, y_test_pred)"
   ]
  },
  {
   "cell_type": "markdown",
   "id": "3b8f8c63",
   "metadata": {},
   "source": [
    "### Result submision"
   ]
  },
  {
   "cell_type": "code",
   "execution_count": null,
   "id": "abe30f86",
   "metadata": {},
   "outputs": [],
   "source": []
  },
  {
   "cell_type": "code",
   "execution_count": null,
   "id": "5e6068f5",
   "metadata": {},
   "outputs": [],
   "source": []
  },
  {
   "cell_type": "code",
   "execution_count": null,
   "id": "8d5dbed2",
   "metadata": {},
   "outputs": [],
   "source": []
  },
  {
   "cell_type": "code",
   "execution_count": null,
   "id": "71bd770e",
   "metadata": {},
   "outputs": [],
   "source": []
  }
 ],
 "metadata": {
  "kernelspec": {
   "display_name": "Python 3 (ipykernel)",
   "language": "python",
   "name": "python3"
  },
  "language_info": {
   "codemirror_mode": {
    "name": "ipython",
    "version": 3
   },
   "file_extension": ".py",
   "mimetype": "text/x-python",
   "name": "python",
   "nbconvert_exporter": "python",
   "pygments_lexer": "ipython3",
   "version": "3.9.0"
  }
 },
 "nbformat": 4,
 "nbformat_minor": 5
}
