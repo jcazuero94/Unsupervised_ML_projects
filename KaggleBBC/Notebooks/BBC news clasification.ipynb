{
 "cells": [
  {
   "cell_type": "markdown",
   "id": "402eb0f1",
   "metadata": {},
   "source": [
    "# BBC news clasification"
   ]
  },
  {
   "cell_type": "markdown",
   "id": "214ca2dd",
   "metadata": {},
   "source": [
    "## Matrix factorization"
   ]
  },
  {
   "cell_type": "markdown",
   "id": "c48a5ae7",
   "metadata": {},
   "source": [
    "### Unsupervised Algorithms in Machine Learning"
   ]
  },
  {
   "cell_type": "markdown",
   "id": "d42f30b7",
   "metadata": {},
   "source": [
    "This notebook is part of the week 4 project of the course Unsupervised Algorithms in Machine Learning from the University of Colorado Boulder and tackels the BBC news classification competition from <a href=\"https://www.kaggle.com/competitions/learn-ai-bbc/data\">kaggle</a> using matrix factorization for multiple tasks. <br>\n",
    "The document is divided in the following sections:\n",
    "* Introduction\n",
    "* Exploratory Data Analysis and preprocessing\n",
    "* Baseline model\n",
    "* Matrix factorization\n",
    "* Final model and submision\n",
    "* Conclusions\n",
    "* References"
   ]
  },
  {
   "cell_type": "markdown",
   "id": "99bb1177",
   "metadata": {},
   "source": [
    "### Introduction"
   ]
  },
  {
   "cell_type": "markdown",
   "id": "539b5578",
   "metadata": {},
   "source": [
    "Imports"
   ]
  },
  {
   "cell_type": "code",
   "execution_count": 1,
   "id": "ad77f891",
   "metadata": {},
   "outputs": [],
   "source": [
    "import pandas as pd\n",
    "import numpy as np\n",
    "import matplotlib.pyplot as plt\n",
    "import seaborn as sns\n",
    "import nltk\n",
    "import string\n",
    "from sklearn.feature_extraction.text import TfidfVectorizer\n",
    "from sklearn.decomposition import TruncatedSVD\n",
    "from sklearn.model_selection import train_test_split\n",
    "from sklearn.neighbors import KNeighborsClassifier\n",
    "from sklearn.model_selection import GridSearchCV\n",
    "from itertools import permutations\n",
    "from sklearn.metrics import accuracy_score, roc_auc_score, roc_curve\n",
    "import time"
   ]
  },
  {
   "cell_type": "markdown",
   "id": "80eee6c3",
   "metadata": {},
   "source": [
    "Data import"
   ]
  },
  {
   "cell_type": "code",
   "execution_count": 2,
   "id": "41219867",
   "metadata": {},
   "outputs": [],
   "source": [
    "train_loc = '/kaggle/input/learn-ai-bbc/BBC News Train.csv'\n",
    "test_loc = '/kaggle/input/learn-ai-bbc/BBC News Test.csv'"
   ]
  },
  {
   "cell_type": "markdown",
   "id": "b5c9752d",
   "metadata": {},
   "source": [
    "In order to run this notebook locally uncomment the following cell, dowload the <a href=\"https://www.kaggle.com/competitions/learn-ai-bbc/data\">data</a> from kaggle and save it in a folder named Data beside Notebooks."
   ]
  },
  {
   "cell_type": "code",
   "execution_count": 5,
   "id": "c8ee2d77",
   "metadata": {},
   "outputs": [],
   "source": [
    "# train_loc =\"../Data/BBC News Train.csv\"\n",
    "# test_loc =\"../Data/BBC News Test.csv\""
   ]
  },
  {
   "cell_type": "code",
   "execution_count": 6,
   "id": "9ca83051",
   "metadata": {},
   "outputs": [],
   "source": [
    "train = pd.read_csv(train_loc)\n",
    "test = pd.read_csv(test_loc)"
   ]
  },
  {
   "cell_type": "markdown",
   "id": "aad6d507",
   "metadata": {},
   "source": [
    "Constants"
   ]
  },
  {
   "cell_type": "code",
   "execution_count": 7,
   "id": "72a3775b",
   "metadata": {},
   "outputs": [],
   "source": [
    "np.random.seed(42)"
   ]
  },
  {
   "cell_type": "code",
   "execution_count": 8,
   "id": "23366c0a",
   "metadata": {},
   "outputs": [],
   "source": [
    "N_NEIGH_LIST = list(range(2, 20)) + [\n",
    "    22,\n",
    "    25,\n",
    "    27,\n",
    "    30,\n",
    "    35,\n",
    "    40,\n",
    "    50,\n",
    "    75,\n",
    "    100,\n",
    "    150,\n",
    "    200,\n",
    "]"
   ]
  },
  {
   "cell_type": "markdown",
   "id": "f9923614",
   "metadata": {},
   "source": [
    "### Exploratory Data Analysis and preprocessing"
   ]
  },
  {
   "cell_type": "code",
   "execution_count": 9,
   "id": "fa88d1e5",
   "metadata": {},
   "outputs": [
    {
     "data": {
      "text/html": [
       "<div>\n",
       "<style scoped>\n",
       "    .dataframe tbody tr th:only-of-type {\n",
       "        vertical-align: middle;\n",
       "    }\n",
       "\n",
       "    .dataframe tbody tr th {\n",
       "        vertical-align: top;\n",
       "    }\n",
       "\n",
       "    .dataframe thead th {\n",
       "        text-align: right;\n",
       "    }\n",
       "</style>\n",
       "<table border=\"1\" class=\"dataframe\">\n",
       "  <thead>\n",
       "    <tr style=\"text-align: right;\">\n",
       "      <th></th>\n",
       "      <th>ArticleId</th>\n",
       "      <th>Text</th>\n",
       "      <th>Category</th>\n",
       "    </tr>\n",
       "  </thead>\n",
       "  <tbody>\n",
       "    <tr>\n",
       "      <th>0</th>\n",
       "      <td>1833</td>\n",
       "      <td>worldcom ex-boss launches defence lawyers defe...</td>\n",
       "      <td>business</td>\n",
       "    </tr>\n",
       "    <tr>\n",
       "      <th>1</th>\n",
       "      <td>154</td>\n",
       "      <td>german business confidence slides german busin...</td>\n",
       "      <td>business</td>\n",
       "    </tr>\n",
       "    <tr>\n",
       "      <th>2</th>\n",
       "      <td>1101</td>\n",
       "      <td>bbc poll indicates economic gloom citizens in ...</td>\n",
       "      <td>business</td>\n",
       "    </tr>\n",
       "    <tr>\n",
       "      <th>3</th>\n",
       "      <td>1976</td>\n",
       "      <td>lifestyle  governs mobile choice  faster  bett...</td>\n",
       "      <td>tech</td>\n",
       "    </tr>\n",
       "    <tr>\n",
       "      <th>4</th>\n",
       "      <td>917</td>\n",
       "      <td>enron bosses in $168m payout eighteen former e...</td>\n",
       "      <td>business</td>\n",
       "    </tr>\n",
       "  </tbody>\n",
       "</table>\n",
       "</div>"
      ],
      "text/plain": [
       "   ArticleId                                               Text  Category\n",
       "0       1833  worldcom ex-boss launches defence lawyers defe...  business\n",
       "1        154  german business confidence slides german busin...  business\n",
       "2       1101  bbc poll indicates economic gloom citizens in ...  business\n",
       "3       1976  lifestyle  governs mobile choice  faster  bett...      tech\n",
       "4        917  enron bosses in $168m payout eighteen former e...  business"
      ]
     },
     "execution_count": 9,
     "metadata": {},
     "output_type": "execute_result"
    }
   ],
   "source": [
    "train.head()"
   ]
  },
  {
   "cell_type": "markdown",
   "id": "58015402",
   "metadata": {},
   "source": [
    "As we can see in the following plot the category labels are balanced."
   ]
  },
  {
   "cell_type": "code",
   "execution_count": 10,
   "id": "06ea2f0e",
   "metadata": {},
   "outputs": [
    {
     "data": {
      "text/plain": [
       "<AxesSubplot:xlabel='Category', ylabel='Count'>"
      ]
     },
     "execution_count": 10,
     "metadata": {},
     "output_type": "execute_result"
    },
    {
     "data": {
      "image/png": "[encoded data removed]",
      "text/plain": [
       "<Figure size 432x288 with 1 Axes>"
      ]
     },
     "metadata": {
      "needs_background": "light"
     },
     "output_type": "display_data"
    }
   ],
   "source": [
    "sns.histplot(train[\"Category\"])"
   ]
  },
  {
   "cell_type": "markdown",
   "id": "7fab1933",
   "metadata": {},
   "source": [
    "Text is a challenging data source for machine learning algorithms because of its complexity and lack of structure. The problem of converting text articles into numerical vectors so that classification models can be applied is very challenging and needs to be done in a way such that:\n",
    "* Important information of the text is captured\n",
    "* The codification is efficient (non relevant information is discarded)\n",
    "* The resultant dimensionality is manageable\n",
    "* Computation and memory consumption is not an issue\n",
    "\n",
    "These challanges will be addressed by various preprocessing steps including standarization, puntuation and stopword removal, and the use of Term Frequency - Inverse Document Frequency vectorization."
   ]
  },
  {
   "cell_type": "markdown",
   "id": "26242cfb",
   "metadata": {},
   "source": [
    "Delete punctuation signs and transform into lowercase"
   ]
  },
  {
   "cell_type": "code",
   "execution_count": 11,
   "id": "517ebd6f",
   "metadata": {},
   "outputs": [],
   "source": [
    "train[\"Text\"] = train[\"Text\"].apply(\n",
    "    lambda x: \"\".join([s.lower() for s in x if s not in string.punctuation])\n",
    ")\n",
    "test[\"Text\"] = test[\"Text\"].apply(\n",
    "    lambda x: \"\".join([s for s in x if s not in string.punctuation])\n",
    ")"
   ]
  },
  {
   "cell_type": "markdown",
   "id": "5cc993a9",
   "metadata": {},
   "source": [
    "Tockenization"
   ]
  },
  {
   "cell_type": "code",
   "execution_count": 12,
   "id": "eba8b8f4",
   "metadata": {},
   "outputs": [],
   "source": [
    "train[\"Text\"] = train[\"Text\"].apply(lambda x: x.split(\" \"))\n",
    "test[\"Text\"] = test[\"Text\"].apply(lambda x: x.split(\" \"))"
   ]
  },
  {
   "cell_type": "markdown",
   "id": "c69b9552",
   "metadata": {},
   "source": [
    "Delete stopwords"
   ]
  },
  {
   "cell_type": "code",
   "execution_count": 13,
   "id": "bc0db766",
   "metadata": {},
   "outputs": [],
   "source": [
    "#nltk.download('stopwords')"
   ]
  },
  {
   "cell_type": "code",
   "execution_count": 14,
   "id": "af22d9e0",
   "metadata": {},
   "outputs": [],
   "source": [
    "stopwords = nltk.corpus.stopwords.words(\"english\")"
   ]
  },
  {
   "cell_type": "code",
   "execution_count": 15,
   "id": "8215f20f",
   "metadata": {},
   "outputs": [],
   "source": [
    "stopwords = [\"\".join([s for s in w if s not in string.punctuation]) for w in stopwords]"
   ]
  },
  {
   "cell_type": "code",
   "execution_count": 16,
   "id": "75648b9d",
   "metadata": {},
   "outputs": [],
   "source": [
    "train[\"Text\"] = train[\"Text\"].apply(lambda t: [w for w in t if w not in stopwords])\n",
    "test[\"Text\"] = test[\"Text\"].apply(lambda t: [w for w in t if w not in stopwords])"
   ]
  },
  {
   "cell_type": "markdown",
   "id": "9f5f53cd",
   "metadata": {},
   "source": [
    "Lenght of text attribute"
   ]
  },
  {
   "cell_type": "code",
   "execution_count": 17,
   "id": "17f22a9d",
   "metadata": {},
   "outputs": [],
   "source": [
    "train[\"length\"] = train[\"Text\"].apply(len)"
   ]
  },
  {
   "cell_type": "code",
   "execution_count": 18,
   "id": "30294c71",
   "metadata": {},
   "outputs": [],
   "source": [
    "test[\"length\"] = test[\"Text\"].apply(len)"
   ]
  },
  {
   "cell_type": "code",
   "execution_count": 19,
   "id": "382429eb",
   "metadata": {},
   "outputs": [
    {
     "data": {
      "image/png": "[encoded data removed]",
      "text/plain": [
       "<Figure size 576x360 with 1 Axes>"
      ]
     },
     "metadata": {
      "needs_background": "light"
     },
     "output_type": "display_data"
    }
   ],
   "source": [
    "sns.violinplot(data=train, y=\"length\", x=\"Category\")\n",
    "fig = plt.gcf()\n",
    "fig.set_size_inches(8, 5)"
   ]
  },
  {
   "cell_type": "code",
   "execution_count": 20,
   "id": "8a23ca9a",
   "metadata": {},
   "outputs": [],
   "source": [
    "classes = train[\"Category\"].unique()"
   ]
  },
  {
   "cell_type": "markdown",
   "id": "2029c318",
   "metadata": {},
   "source": [
    "Train and test split"
   ]
  },
  {
   "cell_type": "code",
   "execution_count": 21,
   "id": "11d57a2d",
   "metadata": {},
   "outputs": [],
   "source": [
    "x_train, x_test, y_train, y_test = train_test_split(\n",
    "    train.drop(\"Category\", axis=1), train[\"Category\"], test_size=0.25\n",
    ")"
   ]
  },
  {
   "cell_type": "markdown",
   "id": "7da6bd6b",
   "metadata": {},
   "source": [
    "The final step to prepare the articles for the machine learning algorithms is to use the TfIdf vectorization. This technique produces a vector $v=\\lambda(v_1,v_2,\\dots ,v_n)$ for each article where each entry attempts to represent the importance of a specific term in the text and is calculated according to the next formula (there are other similar definitions with subtle differences):\n",
    "$$\n",
    "v_i = TF*IDF = \\text{Number of appereances of word }i*log\\Big(\\frac{\\text{Number of documents}+1}{\\text{Number of documents were word }i\\text{ appears}+1}+1\\Big)\n",
    "$$\n",
    "The left side of the multiplication is bigger as the prevalence of the word increases and the right side of the weights more heavily rare terms. Finally, the $\\lambda$ parameter normalizes the vector to norm 1 so that all outputs have the same l2 length."
   ]
  },
  {
   "cell_type": "code",
   "execution_count": 22,
   "id": "74bc4af9",
   "metadata": {},
   "outputs": [],
   "source": [
    "vectorizer = TfidfVectorizer()"
   ]
  },
  {
   "cell_type": "code",
   "execution_count": 23,
   "id": "2d598b71",
   "metadata": {},
   "outputs": [],
   "source": [
    "x_train_vectorized = np.array(\n",
    "    vectorizer.fit_transform(x_train[\"Text\"].apply(lambda x: \" \".join(x))).todense()\n",
    ")"
   ]
  },
  {
   "cell_type": "code",
   "execution_count": 24,
   "id": "9e7c3ead",
   "metadata": {},
   "outputs": [],
   "source": [
    "x_test_vectorized = np.array(\n",
    "    vectorizer.transform(x_test[\"Text\"].apply(lambda x: \" \".join(x))).todense()\n",
    ")\n"
   ]
  },
  {
   "cell_type": "code",
   "execution_count": 25,
   "id": "bb7213eb",
   "metadata": {},
   "outputs": [],
   "source": [
    "x_test_kaggle = np.array(\n",
    "    vectorizer.transform(test[\"Text\"].apply(lambda x: \" \".join(x))).todense()\n",
    ")\n"
   ]
  },
  {
   "cell_type": "markdown",
   "id": "90211a23",
   "metadata": {},
   "source": [
    "Now that we have a vectorized representation of the articles let's use matrix factorization for dimensionality reduction in order to visualize the different texts and their respective labels"
   ]
  },
  {
   "cell_type": "code",
   "execution_count": 26,
   "id": "a1d387a1",
   "metadata": {},
   "outputs": [],
   "source": [
    "sklearn_svd = TruncatedSVD(n_components=2)"
   ]
  },
  {
   "cell_type": "code",
   "execution_count": 27,
   "id": "9216a9f6",
   "metadata": {},
   "outputs": [],
   "source": [
    "x_train_2d = sklearn_svd.fit_transform(x_train_vectorized)"
   ]
  },
  {
   "cell_type": "code",
   "execution_count": 28,
   "id": "50b47e3f",
   "metadata": {},
   "outputs": [
    {
     "data": {
      "text/plain": [
       "<matplotlib.collections.PathCollection at 0x7fec12241b80>"
      ]
     },
     "execution_count": 28,
     "metadata": {},
     "output_type": "execute_result"
    },
    {
     "data": {
      "image/png": "[encoded data removed]",
      "text/plain": [
       "<Figure size 432x288 with 1 Axes>"
      ]
     },
     "metadata": {
      "needs_background": "light"
     },
     "output_type": "display_data"
    }
   ],
   "source": [
    "fig, ax = plt.subplots()\n",
    "ax.scatter(\n",
    "    x_train_2d[:, 0],\n",
    "    x_train_2d[:, 1],\n",
    "    c=y_train.apply(lambda x: list(classes).index(x)),\n",
    ")"
   ]
  },
  {
   "cell_type": "markdown",
   "id": "4a1e1ea8",
   "metadata": {},
   "source": [
    "The plot above shows a 2D representation of the articles and their labels, and exposes that there are considerable differences between the different classes."
   ]
  },
  {
   "cell_type": "markdown",
   "id": "ede9534c",
   "metadata": {},
   "source": [
    "### Baseline model"
   ]
  },
  {
   "cell_type": "markdown",
   "id": "a75e9c22",
   "metadata": {},
   "source": [
    "Now let's construct a baseline classification model using the K Nearest Neighbors algorithm."
   ]
  },
  {
   "cell_type": "code",
   "execution_count": 29,
   "id": "7882fb10",
   "metadata": {},
   "outputs": [],
   "source": [
    "knn = KNeighborsClassifier()"
   ]
  },
  {
   "cell_type": "code",
   "execution_count": 30,
   "id": "1b39d3df",
   "metadata": {},
   "outputs": [],
   "source": [
    "knn_gridcv = GridSearchCV(knn, param_grid={\"n_neighbors\": N_NEIGH_LIST},)"
   ]
  },
  {
   "cell_type": "markdown",
   "id": "75c79f6a",
   "metadata": {},
   "source": [
    "Cross validation"
   ]
  },
  {
   "cell_type": "code",
   "execution_count": 31,
   "id": "f47e78ac",
   "metadata": {},
   "outputs": [
    {
     "data": {
      "text/plain": [
       "GridSearchCV(estimator=KNeighborsClassifier(),\n",
       "             param_grid={'n_neighbors': [2, 3, 4, 5, 6, 7, 8, 9, 10, 11, 12, 13,\n",
       "                                         14, 15, 16, 17, 18, 19, 22, 25, 27, 30,\n",
       "                                         35, 40, 50, 75, 100, 150, 200]})"
      ]
     },
     "execution_count": 31,
     "metadata": {},
     "output_type": "execute_result"
    }
   ],
   "source": [
    "knn_gridcv.fit(x_train_vectorized, y_train)"
   ]
  },
  {
   "cell_type": "code",
   "execution_count": 32,
   "id": "2944168c",
   "metadata": {},
   "outputs": [
    {
     "data": {
      "text/plain": [
       "KNeighborsClassifier(n_neighbors=40)"
      ]
     },
     "execution_count": 32,
     "metadata": {},
     "output_type": "execute_result"
    }
   ],
   "source": [
    "knn = knn_gridcv.best_estimator_\n",
    "knn_gridcv.best_estimator_"
   ]
  },
  {
   "cell_type": "code",
   "execution_count": 33,
   "id": "b6b7e8ef",
   "metadata": {},
   "outputs": [
    {
     "data": {
      "text/plain": [
       "0.9453955797565662"
      ]
     },
     "execution_count": 33,
     "metadata": {},
     "output_type": "execute_result"
    }
   ],
   "source": [
    "knn_gridcv.best_score_"
   ]
  },
  {
   "cell_type": "markdown",
   "id": "4fb03ba9",
   "metadata": {},
   "source": [
    "Test metrics"
   ]
  },
  {
   "cell_type": "code",
   "execution_count": 34,
   "id": "63026ac8",
   "metadata": {},
   "outputs": [],
   "source": [
    "y_test_pred = knn.predict(x_test_vectorized)"
   ]
  },
  {
   "cell_type": "code",
   "execution_count": 35,
   "id": "e3c66a00",
   "metadata": {},
   "outputs": [],
   "source": [
    "y_test_pred_proba = knn.predict_proba(x_test_vectorized)"
   ]
  },
  {
   "cell_type": "code",
   "execution_count": 36,
   "id": "92381cd2",
   "metadata": {},
   "outputs": [
    {
     "data": {
      "text/plain": [
       "0.967828418230563"
      ]
     },
     "execution_count": 36,
     "metadata": {},
     "output_type": "execute_result"
    }
   ],
   "source": [
    "accuracy_score(y_test, y_test_pred)"
   ]
  },
  {
   "cell_type": "markdown",
   "id": "bdc26c2c",
   "metadata": {},
   "source": [
    "The train and test accuracy, and the following ROC plots, reveal that the KNN model has strong predictive power and extrapolates well to unseen data."
   ]
  },
  {
   "cell_type": "code",
   "execution_count": 37,
   "id": "300746d2",
   "metadata": {},
   "outputs": [
    {
     "data": {
      "image/png": "[encoded data removed]",
      "text/plain": [
       "<Figure size 576x432 with 1 Axes>"
      ]
     },
     "metadata": {
      "needs_background": "light"
     },
     "output_type": "display_data"
    }
   ],
   "source": [
    "fig, ax = plt.subplots()\n",
    "for i in range(len(knn.classes_)):\n",
    "    fpr, tpr, _ = roc_curve(\n",
    "        (y_test == knn.classes_[i]).astype(int), y_test_pred_proba[:, i]\n",
    "    )\n",
    "    ax.plot(fpr, tpr)\n",
    "fig.legend(labels=knn.classes_, loc=4, bbox_to_anchor=(0.88, 0.15))\n",
    "fig.set_size_inches(8, 6)"
   ]
  },
  {
   "cell_type": "markdown",
   "id": "30e20d71",
   "metadata": {},
   "source": [
    "### Non negative matrix factorization"
   ]
  },
  {
   "cell_type": "markdown",
   "id": "c0371483",
   "metadata": {},
   "source": [
    "The course assignment requires to test matrix factorization as an unsupervised approach for the classification problem, so the TruncatedSVD class of sklearn will be used to extract 5 features from the texts. Every data instance is then assigned to feature of greater value and then, each of these 5 features will be assigned to a data label by maximizing the accuracy on the training set over all feature permutations. "
   ]
  },
  {
   "cell_type": "code",
   "execution_count": 45,
   "id": "f14b5010",
   "metadata": {},
   "outputs": [],
   "source": [
    "sklearn_svd = TruncatedSVD(n_components=5)"
   ]
  },
  {
   "cell_type": "code",
   "execution_count": 46,
   "id": "ec1b6231",
   "metadata": {},
   "outputs": [],
   "source": [
    "pred_train_svd = np.argmax(sklearn_svd.fit_transform(x_train_vectorized), axis=1)"
   ]
  },
  {
   "cell_type": "code",
   "execution_count": 47,
   "id": "939a8bc0",
   "metadata": {},
   "outputs": [],
   "source": [
    "pred_test_svd = np.argmax(sklearn_svd.transform(x_test_vectorized), axis=1)"
   ]
  },
  {
   "cell_type": "markdown",
   "id": "f29b8fc1",
   "metadata": {},
   "source": [
    "Finds best permutation for labels"
   ]
  },
  {
   "cell_type": "code",
   "execution_count": 48,
   "id": "89d6eea7",
   "metadata": {},
   "outputs": [],
   "source": [
    "perm_final = None\n",
    "acc_final = 0\n",
    "for p in permutations(classes):\n",
    "    pred_train_svd_label = [p[i] for i in pred_train_svd]\n",
    "    acc_score = accuracy_score(y_train.values, pred_train_svd_label)\n",
    "    if acc_score > acc_final:\n",
    "        perm_final = p\n",
    "        acc_final = acc_score"
   ]
  },
  {
   "cell_type": "code",
   "execution_count": 49,
   "id": "9aaf9736",
   "metadata": {},
   "outputs": [
    {
     "data": {
      "text/plain": [
       "('sport', 'politics', 'tech', 'entertainment', 'business')"
      ]
     },
     "execution_count": 49,
     "metadata": {},
     "output_type": "execute_result"
    }
   ],
   "source": [
    "perm_final"
   ]
  },
  {
   "cell_type": "markdown",
   "id": "bca3c067",
   "metadata": {},
   "source": [
    "Final metrics over train and test set"
   ]
  },
  {
   "cell_type": "code",
   "execution_count": 50,
   "id": "aae8b207",
   "metadata": {},
   "outputs": [
    {
     "data": {
      "text/plain": [
       "0.4341987466427932"
      ]
     },
     "execution_count": 50,
     "metadata": {},
     "output_type": "execute_result"
    }
   ],
   "source": [
    "acc_final"
   ]
  },
  {
   "cell_type": "code",
   "execution_count": 51,
   "id": "c099246b",
   "metadata": {},
   "outputs": [
    {
     "data": {
      "text/plain": [
       "0.4075067024128686"
      ]
     },
     "execution_count": 51,
     "metadata": {},
     "output_type": "execute_result"
    }
   ],
   "source": [
    "pred_test_svd_label = [perm_final[i] for i in pred_test_svd]\n",
    "accuracy_score(y_test.values, pred_test_svd_label)"
   ]
  },
  {
   "cell_type": "markdown",
   "id": "73c8512a",
   "metadata": {},
   "source": [
    "The resulting accuracies show that the model has some predictive power, as random choice would result in 20% accuracy, but is far worse than the baseline model previously fitted"
   ]
  },
  {
   "cell_type": "markdown",
   "id": "1ca871f3",
   "metadata": {},
   "source": [
    "Now let's use matrix factorization as preprocessing step for dimensionality reduction. In this case this might be very valuable as TfIdf vectorization produces vectors with the same length as the vocaculary. In order to test this procedure let's try cross validating jointly the dimension of the matrix factorization and the K for the KNN."
   ]
  },
  {
   "cell_type": "code",
   "execution_count": 52,
   "id": "0d5a14d4",
   "metadata": {},
   "outputs": [],
   "source": [
    "res_table = pd.DataFrame(columns=[\"k\", \"score\", \"time_train\"])"
   ]
  },
  {
   "cell_type": "code",
   "execution_count": 53,
   "id": "308a780d",
   "metadata": {},
   "outputs": [],
   "source": [
    "knn_mf = KNeighborsClassifier()\n",
    "max_acc = 0\n",
    "knn_best = None\n",
    "svd_best = None\n",
    "for n_comp in list(range(2, 25)) + [27, 30, 35, 40, 50, 75, 100, 150, 200, 300]:\n",
    "    t0 = time.time_ns()\n",
    "    sklearn_svd = TruncatedSVD(n_components=n_comp)\n",
    "    x_train_vectorized_mf = sklearn_svd.fit_transform(x_train_vectorized)\n",
    "    knn_gridcv = GridSearchCV(knn_mf, param_grid={\"n_neighbors\": N_NEIGH_LIST},)\n",
    "    knn_gridcv.fit(x_train_vectorized_mf, y_train)\n",
    "    score = knn_gridcv.best_score_\n",
    "    t1 = time.time_ns()\n",
    "    res_table.loc[n_comp] = [\n",
    "        knn_gridcv.best_estimator_.n_neighbors,\n",
    "        score,\n",
    "        (t1 - t0) / 1000000,\n",
    "    ]\n",
    "    if score > max_acc:\n",
    "        max_acc = score\n",
    "        knn_best = knn_gridcv.best_estimator_\n",
    "        svd_best = sklearn_svd"
   ]
  },
  {
   "cell_type": "code",
   "execution_count": 55,
   "id": "ece68b58",
   "metadata": {
    "scrolled": false
   },
   "outputs": [
    {
     "data": {
      "text/html": [
       "<div>\n",
       "<style scoped>\n",
       "    .dataframe tbody tr th:only-of-type {\n",
       "        vertical-align: middle;\n",
       "    }\n",
       "\n",
       "    .dataframe tbody tr th {\n",
       "        vertical-align: top;\n",
       "    }\n",
       "\n",
       "    .dataframe thead th {\n",
       "        text-align: right;\n",
       "    }\n",
       "</style>\n",
       "<table border=\"1\" class=\"dataframe\">\n",
       "  <thead>\n",
       "    <tr style=\"text-align: right;\">\n",
       "      <th></th>\n",
       "      <th>dimension</th>\n",
       "      <th>k</th>\n",
       "      <th>score</th>\n",
       "      <th>time_train</th>\n",
       "    </tr>\n",
       "  </thead>\n",
       "  <tbody>\n",
       "    <tr>\n",
       "      <th>0</th>\n",
       "      <td>2</td>\n",
       "      <td>40.0</td>\n",
       "      <td>0.614102</td>\n",
       "      <td>992.130</td>\n",
       "    </tr>\n",
       "    <tr>\n",
       "      <th>1</th>\n",
       "      <td>3</td>\n",
       "      <td>13.0</td>\n",
       "      <td>0.785983</td>\n",
       "      <td>1010.788</td>\n",
       "    </tr>\n",
       "    <tr>\n",
       "      <th>2</th>\n",
       "      <td>4</td>\n",
       "      <td>11.0</td>\n",
       "      <td>0.875557</td>\n",
       "      <td>1042.934</td>\n",
       "    </tr>\n",
       "    <tr>\n",
       "      <th>3</th>\n",
       "      <td>5</td>\n",
       "      <td>5.0</td>\n",
       "      <td>0.929272</td>\n",
       "      <td>1092.037</td>\n",
       "    </tr>\n",
       "    <tr>\n",
       "      <th>4</th>\n",
       "      <td>6</td>\n",
       "      <td>9.0</td>\n",
       "      <td>0.940010</td>\n",
       "      <td>1159.170</td>\n",
       "    </tr>\n",
       "    <tr>\n",
       "      <th>5</th>\n",
       "      <td>7</td>\n",
       "      <td>5.0</td>\n",
       "      <td>0.940911</td>\n",
       "      <td>1210.689</td>\n",
       "    </tr>\n",
       "    <tr>\n",
       "      <th>6</th>\n",
       "      <td>8</td>\n",
       "      <td>9.0</td>\n",
       "      <td>0.946284</td>\n",
       "      <td>1205.979</td>\n",
       "    </tr>\n",
       "    <tr>\n",
       "      <th>7</th>\n",
       "      <td>9</td>\n",
       "      <td>5.0</td>\n",
       "      <td>0.937320</td>\n",
       "      <td>1306.765</td>\n",
       "    </tr>\n",
       "    <tr>\n",
       "      <th>8</th>\n",
       "      <td>10</td>\n",
       "      <td>3.0</td>\n",
       "      <td>0.942717</td>\n",
       "      <td>1292.494</td>\n",
       "    </tr>\n",
       "    <tr>\n",
       "      <th>9</th>\n",
       "      <td>11</td>\n",
       "      <td>3.0</td>\n",
       "      <td>0.948070</td>\n",
       "      <td>1378.173</td>\n",
       "    </tr>\n",
       "    <tr>\n",
       "      <th>10</th>\n",
       "      <td>12</td>\n",
       "      <td>3.0</td>\n",
       "      <td>0.948086</td>\n",
       "      <td>1398.404</td>\n",
       "    </tr>\n",
       "    <tr>\n",
       "      <th>11</th>\n",
       "      <td>13</td>\n",
       "      <td>5.0</td>\n",
       "      <td>0.955237</td>\n",
       "      <td>1440.773</td>\n",
       "    </tr>\n",
       "    <tr>\n",
       "      <th>12</th>\n",
       "      <td>14</td>\n",
       "      <td>5.0</td>\n",
       "      <td>0.955237</td>\n",
       "      <td>1465.560</td>\n",
       "    </tr>\n",
       "    <tr>\n",
       "      <th>13</th>\n",
       "      <td>15</td>\n",
       "      <td>6.0</td>\n",
       "      <td>0.950761</td>\n",
       "      <td>1540.537</td>\n",
       "    </tr>\n",
       "    <tr>\n",
       "      <th>14</th>\n",
       "      <td>16</td>\n",
       "      <td>7.0</td>\n",
       "      <td>0.953451</td>\n",
       "      <td>1387.907</td>\n",
       "    </tr>\n",
       "    <tr>\n",
       "      <th>15</th>\n",
       "      <td>17</td>\n",
       "      <td>3.0</td>\n",
       "      <td>0.950765</td>\n",
       "      <td>1397.618</td>\n",
       "    </tr>\n",
       "    <tr>\n",
       "      <th>16</th>\n",
       "      <td>18</td>\n",
       "      <td>9.0</td>\n",
       "      <td>0.952550</td>\n",
       "      <td>1403.075</td>\n",
       "    </tr>\n",
       "    <tr>\n",
       "      <th>17</th>\n",
       "      <td>19</td>\n",
       "      <td>7.0</td>\n",
       "      <td>0.951654</td>\n",
       "      <td>1434.953</td>\n",
       "    </tr>\n",
       "    <tr>\n",
       "      <th>18</th>\n",
       "      <td>20</td>\n",
       "      <td>6.0</td>\n",
       "      <td>0.951662</td>\n",
       "      <td>1422.362</td>\n",
       "    </tr>\n",
       "    <tr>\n",
       "      <th>19</th>\n",
       "      <td>21</td>\n",
       "      <td>7.0</td>\n",
       "      <td>0.955241</td>\n",
       "      <td>1445.687</td>\n",
       "    </tr>\n",
       "    <tr>\n",
       "      <th>20</th>\n",
       "      <td>22</td>\n",
       "      <td>7.0</td>\n",
       "      <td>0.953439</td>\n",
       "      <td>1467.497</td>\n",
       "    </tr>\n",
       "    <tr>\n",
       "      <th>21</th>\n",
       "      <td>23</td>\n",
       "      <td>5.0</td>\n",
       "      <td>0.948967</td>\n",
       "      <td>1499.123</td>\n",
       "    </tr>\n",
       "    <tr>\n",
       "      <th>22</th>\n",
       "      <td>24</td>\n",
       "      <td>5.0</td>\n",
       "      <td>0.954332</td>\n",
       "      <td>1494.613</td>\n",
       "    </tr>\n",
       "    <tr>\n",
       "      <th>23</th>\n",
       "      <td>27</td>\n",
       "      <td>7.0</td>\n",
       "      <td>0.949864</td>\n",
       "      <td>1521.636</td>\n",
       "    </tr>\n",
       "    <tr>\n",
       "      <th>24</th>\n",
       "      <td>30</td>\n",
       "      <td>4.0</td>\n",
       "      <td>0.947173</td>\n",
       "      <td>1579.821</td>\n",
       "    </tr>\n",
       "    <tr>\n",
       "      <th>25</th>\n",
       "      <td>35</td>\n",
       "      <td>6.0</td>\n",
       "      <td>0.948054</td>\n",
       "      <td>1631.343</td>\n",
       "    </tr>\n",
       "    <tr>\n",
       "      <th>26</th>\n",
       "      <td>40</td>\n",
       "      <td>5.0</td>\n",
       "      <td>0.949856</td>\n",
       "      <td>1680.063</td>\n",
       "    </tr>\n",
       "    <tr>\n",
       "      <th>27</th>\n",
       "      <td>50</td>\n",
       "      <td>5.0</td>\n",
       "      <td>0.950737</td>\n",
       "      <td>1807.014</td>\n",
       "    </tr>\n",
       "    <tr>\n",
       "      <th>28</th>\n",
       "      <td>75</td>\n",
       "      <td>5.0</td>\n",
       "      <td>0.935514</td>\n",
       "      <td>2018.462</td>\n",
       "    </tr>\n",
       "    <tr>\n",
       "      <th>29</th>\n",
       "      <td>100</td>\n",
       "      <td>3.0</td>\n",
       "      <td>0.931951</td>\n",
       "      <td>2257.394</td>\n",
       "    </tr>\n",
       "    <tr>\n",
       "      <th>30</th>\n",
       "      <td>150</td>\n",
       "      <td>3.0</td>\n",
       "      <td>0.920328</td>\n",
       "      <td>2619.116</td>\n",
       "    </tr>\n",
       "    <tr>\n",
       "      <th>31</th>\n",
       "      <td>200</td>\n",
       "      <td>5.0</td>\n",
       "      <td>0.904192</td>\n",
       "      <td>3149.326</td>\n",
       "    </tr>\n",
       "    <tr>\n",
       "      <th>32</th>\n",
       "      <td>300</td>\n",
       "      <td>6.0</td>\n",
       "      <td>0.925685</td>\n",
       "      <td>4014.396</td>\n",
       "    </tr>\n",
       "  </tbody>\n",
       "</table>\n",
       "</div>"
      ],
      "text/plain": [
       "    dimension     k     score  time_train\n",
       "0           2  40.0  0.614102     992.130\n",
       "1           3  13.0  0.785983    1010.788\n",
       "2           4  11.0  0.875557    1042.934\n",
       "3           5   5.0  0.929272    1092.037\n",
       "4           6   9.0  0.940010    1159.170\n",
       "5           7   5.0  0.940911    1210.689\n",
       "6           8   9.0  0.946284    1205.979\n",
       "7           9   5.0  0.937320    1306.765\n",
       "8          10   3.0  0.942717    1292.494\n",
       "9          11   3.0  0.948070    1378.173\n",
       "10         12   3.0  0.948086    1398.404\n",
       "11         13   5.0  0.955237    1440.773\n",
       "12         14   5.0  0.955237    1465.560\n",
       "13         15   6.0  0.950761    1540.537\n",
       "14         16   7.0  0.953451    1387.907\n",
       "15         17   3.0  0.950765    1397.618\n",
       "16         18   9.0  0.952550    1403.075\n",
       "17         19   7.0  0.951654    1434.953\n",
       "18         20   6.0  0.951662    1422.362\n",
       "19         21   7.0  0.955241    1445.687\n",
       "20         22   7.0  0.953439    1467.497\n",
       "21         23   5.0  0.948967    1499.123\n",
       "22         24   5.0  0.954332    1494.613\n",
       "23         27   7.0  0.949864    1521.636\n",
       "24         30   4.0  0.947173    1579.821\n",
       "25         35   6.0  0.948054    1631.343\n",
       "26         40   5.0  0.949856    1680.063\n",
       "27         50   5.0  0.950737    1807.014\n",
       "28         75   5.0  0.935514    2018.462\n",
       "29        100   3.0  0.931951    2257.394\n",
       "30        150   3.0  0.920328    2619.116\n",
       "31        200   5.0  0.904192    3149.326\n",
       "32        300   6.0  0.925685    4014.396"
      ]
     },
     "execution_count": 55,
     "metadata": {},
     "output_type": "execute_result"
    }
   ],
   "source": [
    "res_table.reset_index().rename({'index':'dimension'},axis=1)"
   ]
  },
  {
   "cell_type": "markdown",
   "id": "d9d928d1",
   "metadata": {},
   "source": [
    "Best model"
   ]
  },
  {
   "cell_type": "code",
   "execution_count": 56,
   "id": "52263e62",
   "metadata": {},
   "outputs": [],
   "source": [
    "x_train_vectorized_mf = svd_best.fit_transform(x_train_vectorized)\n",
    "x_test_vectorized_mf = svd_best.transform(x_test_vectorized)"
   ]
  },
  {
   "cell_type": "code",
   "execution_count": 71,
   "id": "5065a830",
   "metadata": {},
   "outputs": [],
   "source": [
    "x_test_kaggle_mf = svd_best.transform(x_test_kaggle)"
   ]
  },
  {
   "cell_type": "code",
   "execution_count": 62,
   "id": "dfc585c5",
   "metadata": {},
   "outputs": [
    {
     "data": {
      "text/plain": [
       "TruncatedSVD(n_components=21)"
      ]
     },
     "execution_count": 62,
     "metadata": {},
     "output_type": "execute_result"
    }
   ],
   "source": [
    "svd_best"
   ]
  },
  {
   "cell_type": "code",
   "execution_count": 57,
   "id": "1d1d6e3a",
   "metadata": {},
   "outputs": [
    {
     "data": {
      "text/plain": [
       "KNeighborsClassifier(n_neighbors=7)"
      ]
     },
     "execution_count": 57,
     "metadata": {},
     "output_type": "execute_result"
    }
   ],
   "source": [
    "knn_best.fit(x_train_vectorized_mf, y_train)"
   ]
  },
  {
   "cell_type": "code",
   "execution_count": 63,
   "id": "63c87706",
   "metadata": {},
   "outputs": [],
   "source": [
    "y_train_pred = knn_best.predict(x_train_vectorized_mf)"
   ]
  },
  {
   "cell_type": "code",
   "execution_count": 58,
   "id": "1f9b9b54",
   "metadata": {},
   "outputs": [],
   "source": [
    "y_test_pred = knn_best.predict(x_test_vectorized_mf)"
   ]
  },
  {
   "cell_type": "code",
   "execution_count": 64,
   "id": "91f9f0fa",
   "metadata": {},
   "outputs": [],
   "source": [
    "y_test_pred_proba = knn_best.predict_proba(x_test_vectorized_mf)"
   ]
  },
  {
   "cell_type": "code",
   "execution_count": 59,
   "id": "915916dd",
   "metadata": {
    "scrolled": true
   },
   "outputs": [
    {
     "data": {
      "text/plain": [
       "0.9705093833780161"
      ]
     },
     "execution_count": 59,
     "metadata": {},
     "output_type": "execute_result"
    }
   ],
   "source": [
    "accuracy_score(y_test, y_test_pred)"
   ]
  },
  {
   "cell_type": "markdown",
   "id": "cdef3234",
   "metadata": {},
   "source": [
    "The process outputs a model that achieves a better accuracy than the baseline model and that is also considerably simpler and more efficient regarding computation and memory because of the dimensionality reduction."
   ]
  },
  {
   "cell_type": "markdown",
   "id": "adeed3cf",
   "metadata": {},
   "source": [
    "### Final model and submission"
   ]
  },
  {
   "cell_type": "code",
   "execution_count": 69,
   "id": "2b0d3564",
   "metadata": {},
   "outputs": [
    {
     "name": "stdout",
     "output_type": "stream",
     "text": [
      "Final model: \n",
      "    Train accuracy  - 96.24%\n",
      "    Test accuracy   - 97.05%\n",
      "    Input dimension - 21\n",
      "    K               - 7\n",
      "    \n"
     ]
    }
   ],
   "source": [
    "print(\n",
    "    f\"\"\"Final model: \n",
    "    Train accuracy  - {accuracy_score(y_train,y_train_pred):.2%}\n",
    "    Test accuracy   - {accuracy_score(y_test, y_test_pred):.2%}\n",
    "    Input dimension - {knn_best.n_features_in_}\n",
    "    K               - {knn_best.n_neighbors}\n",
    "    \"\"\"\n",
    ")"
   ]
  },
  {
   "cell_type": "code",
   "execution_count": 70,
   "id": "19485baa",
   "metadata": {},
   "outputs": [
    {
     "data": {
      "image/png": "[encoded data removed]",
      "text/plain": [
       "<Figure size 576x432 with 1 Axes>"
      ]
     },
     "metadata": {
      "needs_background": "light"
     },
     "output_type": "display_data"
    }
   ],
   "source": [
    "fig, ax = plt.subplots()\n",
    "for i in range(len(knn.classes_)):\n",
    "    fpr, tpr, _ = roc_curve(\n",
    "        (y_test == knn_best.classes_[i]).astype(int), y_test_pred_proba[:, i]\n",
    "    )\n",
    "    ax.plot(fpr, tpr)\n",
    "fig.legend(labels=knn_best.classes_, loc=4, bbox_to_anchor=(0.88, 0.15))\n",
    "fig.set_size_inches(8, 6)"
   ]
  },
  {
   "cell_type": "code",
   "execution_count": 76,
   "id": "256e86f5",
   "metadata": {},
   "outputs": [],
   "source": [
    "submission = test[['ArticleId']].copy()"
   ]
  },
  {
   "cell_type": "code",
   "execution_count": 77,
   "id": "20fb2fa5",
   "metadata": {},
   "outputs": [],
   "source": [
    "submission['Category'] = knn_best.predict(x_test_kaggle_mf)"
   ]
  },
  {
   "cell_type": "code",
   "execution_count": 79,
   "id": "e5c790d2",
   "metadata": {},
   "outputs": [],
   "source": [
    "submission.to_csv('submission.csv', index=False)"
   ]
  },
  {
   "cell_type": "markdown",
   "id": "0ada586a",
   "metadata": {},
   "source": [
    "### Conclusions"
   ]
  },
  {
   "cell_type": "markdown",
   "id": "a641e2ab",
   "metadata": {},
   "source": [
    "* Text data requires strong processing in order to achieve useful vector representations\n",
    "* Matrix factorization is useful for dimensionality reduction\n",
    "* Other models could be tested in order to improve accuracy"
   ]
  },
  {
   "cell_type": "markdown",
   "id": "7cec4f18",
   "metadata": {},
   "source": [
    "### References"
   ]
  },
  {
   "cell_type": "markdown",
   "id": "90df6d29",
   "metadata": {},
   "source": [
    "https://scikit-learn.org/stable/modules/generated/sklearn.feature_extraction.text.TfidfVectorizer.html\n"
   ]
  },
  {
   "cell_type": "markdown",
   "id": "e89f5e75",
   "metadata": {},
   "source": [
    "https://scikit-learn.org/stable/modules/feature_extraction.html#text-feature-extraction"
   ]
  },
  {
   "cell_type": "markdown",
   "id": "1fbf6856",
   "metadata": {},
   "source": [
    "https://www.analyticsvidhya.com/blog/2021/06/text-preprocessing-in-nlp-with-python-codes/"
   ]
  }
 ],
 "metadata": {
  "kernelspec": {
   "display_name": "Python 3 (ipykernel)",
   "language": "python",
   "name": "python3"
  },
  "language_info": {
   "codemirror_mode": {
    "name": "ipython",
    "version": 3
   },
   "file_extension": ".py",
   "mimetype": "text/x-python",
   "name": "python",
   "nbconvert_exporter": "python",
   "pygments_lexer": "ipython3",
   "version": "3.9.0"
  }
 },
 "nbformat": 4,
 "nbformat_minor": 5
}
