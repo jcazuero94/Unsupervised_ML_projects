{
 "cells": [
  {
   "cell_type": "markdown",
   "id": "402eb0f1",
   "metadata": {},
   "source": [
    "# BBC news clasification"
   ]
  },
  {
   "cell_type": "markdown",
   "id": "214ca2dd",
   "metadata": {},
   "source": [
    "## Matrix factorization"
   ]
  },
  {
   "cell_type": "markdown",
   "id": "c48a5ae7",
   "metadata": {},
   "source": [
    "### Unsupervised Algorithms in Machine Learning"
   ]
  },
  {
   "cell_type": "markdown",
   "id": "c6bb9a5f",
   "metadata": {},
   "source": [
    "This notebook is part of the week 4 project of the course Unsupervised Algorithms in Machine Learning from the University of Colorado Boulder and tackles the BBC news classification competition from <a href=\"https://www.kaggle.com/competitions/learn-ai-bbc/data\">kaggle</a> using matrix factorization for multiple tasks. <br>\n",
    "The document is divided in the following sections:\n",
    "* Introduction\n",
    "* Exploratory Data Analysis and preprocessing\n",
    "* Baseline model\n",
    "* Matrix factorization\n",
    "* Final model and submision\n",
    "* Conclusions\n",
    "* References"
   ]
  },
  {
   "cell_type": "markdown",
   "id": "29116af1",
   "metadata": {},
   "source": [
    "### Introduction"
   ]
  },
  {
   "cell_type": "markdown",
   "id": "539b5578",
   "metadata": {},
   "source": [
    "Imports"
   ]
  },
  {
   "cell_type": "code",
   "execution_count": 1,
   "id": "ad77f891",
   "metadata": {},
   "outputs": [],
   "source": [
    "import pandas as pd\n",
    "import numpy as np\n",
    "import matplotlib.pyplot as plt\n",
    "import seaborn as sns\n",
    "import nltk\n",
    "import string\n",
    "from sklearn.feature_extraction.text import TfidfVectorizer\n",
    "from sklearn.decomposition import TruncatedSVD\n",
    "from sklearn.model_selection import train_test_split\n",
    "from sklearn.neighbors import KNeighborsClassifier\n",
    "from sklearn.model_selection import GridSearchCV\n",
    "from itertools import permutations\n",
    "from sklearn.metrics import accuracy_score, roc_auc_score, roc_curve\n",
    "import time"
   ]
  },
  {
   "cell_type": "code",
   "execution_count": 2,
   "id": "7cb79c55",
   "metadata": {},
   "outputs": [
    {
     "data": {
      "application/javascript": "\n            setTimeout(function() {\n                var nbb_cell_id = 2;\n                var nbb_unformatted_code = \"%load_ext nb_black\";\n                var nbb_formatted_code = \"%load_ext nb_black\";\n                var nbb_cells = Jupyter.notebook.get_cells();\n                for (var i = 0; i < nbb_cells.length; ++i) {\n                    if (nbb_cells[i].input_prompt_number == nbb_cell_id) {\n                        if (nbb_cells[i].get_text() == nbb_unformatted_code) {\n                             nbb_cells[i].set_text(nbb_formatted_code);\n                        }\n                        break;\n                    }\n                }\n            }, 500);\n            ",
      "text/plain": [
       "<IPython.core.display.Javascript object>"
      ]
     },
     "metadata": {},
     "output_type": "display_data"
    }
   ],
   "source": [
    "# %load_ext nb_black"
   ]
  },
  {
   "cell_type": "markdown",
   "id": "cbef5a05",
   "metadata": {},
   "source": [
    "Data import"
   ]
  },
  {
   "cell_type": "code",
   "execution_count": 3,
   "id": "7396aefc",
   "metadata": {},
   "outputs": [
    {
     "data": {
      "application/javascript": "\n            setTimeout(function() {\n                var nbb_cell_id = 3;\n                var nbb_unformatted_code = \"train_loc = '/kaggle/input/learn-ai-bbc/BBC News Train.csv'\\ntest_loc = '/kaggle/input/learn-ai-bbc/BBC News Test.csv'\";\n                var nbb_formatted_code = \"train_loc = \\\"/kaggle/input/learn-ai-bbc/BBC News Train.csv\\\"\\ntest_loc = \\\"/kaggle/input/learn-ai-bbc/BBC News Test.csv\\\"\";\n                var nbb_cells = Jupyter.notebook.get_cells();\n                for (var i = 0; i < nbb_cells.length; ++i) {\n                    if (nbb_cells[i].input_prompt_number == nbb_cell_id) {\n                        if (nbb_cells[i].get_text() == nbb_unformatted_code) {\n                             nbb_cells[i].set_text(nbb_formatted_code);\n                        }\n                        break;\n                    }\n                }\n            }, 500);\n            ",
      "text/plain": [
       "<IPython.core.display.Javascript object>"
      ]
     },
     "metadata": {},
     "output_type": "display_data"
    }
   ],
   "source": [
    "train_loc = \"/kaggle/input/learn-ai-bbc/BBC News Train.csv\"\n",
    "test_loc = \"/kaggle/input/learn-ai-bbc/BBC News Test.csv\""
   ]
  },
  {
   "cell_type": "markdown",
   "id": "6a03e809",
   "metadata": {},
   "source": [
    "In order to run this notebook locally uncomment the following cell, dowload the <a href=\"https://www.kaggle.com/competitions/learn-ai-bbc/data\">data</a> from kaggle and save it in a folder named Data beside Notebooks."
   ]
  },
  {
   "cell_type": "code",
   "execution_count": 4,
   "id": "c8ee2d77",
   "metadata": {},
   "outputs": [
    {
     "data": {
      "application/javascript": "\n            setTimeout(function() {\n                var nbb_cell_id = 4;\n                var nbb_unformatted_code = \"train_loc =\\\"../Data/BBC News Train.csv\\\"\\ntest_loc =\\\"../Data/BBC News Test.csv\\\"\";\n                var nbb_formatted_code = \"train_loc = \\\"../Data/BBC News Train.csv\\\"\\ntest_loc = \\\"../Data/BBC News Test.csv\\\"\";\n                var nbb_cells = Jupyter.notebook.get_cells();\n                for (var i = 0; i < nbb_cells.length; ++i) {\n                    if (nbb_cells[i].input_prompt_number == nbb_cell_id) {\n                        if (nbb_cells[i].get_text() == nbb_unformatted_code) {\n                             nbb_cells[i].set_text(nbb_formatted_code);\n                        }\n                        break;\n                    }\n                }\n            }, 500);\n            ",
      "text/plain": [
       "<IPython.core.display.Javascript object>"
      ]
     },
     "metadata": {},
     "output_type": "display_data"
    }
   ],
   "source": [
    "# train_loc = \"../Data/BBC News Train.csv\"\n",
    "# test_loc = \"../Data/BBC News Test.csv\""
   ]
  },
  {
   "cell_type": "code",
   "execution_count": 5,
   "id": "6e5cf73f",
   "metadata": {},
   "outputs": [
    {
     "data": {
      "application/javascript": "\n            setTimeout(function() {\n                var nbb_cell_id = 5;\n                var nbb_unformatted_code = \"train = pd.read_csv(train_loc)\\ntest = pd.read_csv(test_loc)\";\n                var nbb_formatted_code = \"train = pd.read_csv(train_loc)\\ntest = pd.read_csv(test_loc)\";\n                var nbb_cells = Jupyter.notebook.get_cells();\n                for (var i = 0; i < nbb_cells.length; ++i) {\n                    if (nbb_cells[i].input_prompt_number == nbb_cell_id) {\n                        if (nbb_cells[i].get_text() == nbb_unformatted_code) {\n                             nbb_cells[i].set_text(nbb_formatted_code);\n                        }\n                        break;\n                    }\n                }\n            }, 500);\n            ",
      "text/plain": [
       "<IPython.core.display.Javascript object>"
      ]
     },
     "metadata": {},
     "output_type": "display_data"
    }
   ],
   "source": [
    "train = pd.read_csv(train_loc)\n",
    "test = pd.read_csv(test_loc)"
   ]
  },
  {
   "cell_type": "markdown",
   "id": "aad6d507",
   "metadata": {},
   "source": [
    "Constants"
   ]
  },
  {
   "cell_type": "code",
   "execution_count": 6,
   "id": "28cf3cdd",
   "metadata": {},
   "outputs": [
    {
     "data": {
      "application/javascript": "\n            setTimeout(function() {\n                var nbb_cell_id = 6;\n                var nbb_unformatted_code = \"np.random.seed(42)\";\n                var nbb_formatted_code = \"np.random.seed(42)\";\n                var nbb_cells = Jupyter.notebook.get_cells();\n                for (var i = 0; i < nbb_cells.length; ++i) {\n                    if (nbb_cells[i].input_prompt_number == nbb_cell_id) {\n                        if (nbb_cells[i].get_text() == nbb_unformatted_code) {\n                             nbb_cells[i].set_text(nbb_formatted_code);\n                        }\n                        break;\n                    }\n                }\n            }, 500);\n            ",
      "text/plain": [
       "<IPython.core.display.Javascript object>"
      ]
     },
     "metadata": {},
     "output_type": "display_data"
    }
   ],
   "source": [
    "np.random.seed(42)"
   ]
  },
  {
   "cell_type": "code",
   "execution_count": 7,
   "id": "23366c0a",
   "metadata": {},
   "outputs": [
    {
     "data": {
      "application/javascript": "\n            setTimeout(function() {\n                var nbb_cell_id = 7;\n                var nbb_unformatted_code = \"N_NEIGH_LIST = list(range(2, 20)) + [\\n    22,\\n    25,\\n    27,\\n    30,\\n    35,\\n    40,\\n    50,\\n    75,\\n    100,\\n    150,\\n    200,\\n]\";\n                var nbb_formatted_code = \"N_NEIGH_LIST = list(range(2, 20)) + [\\n    22,\\n    25,\\n    27,\\n    30,\\n    35,\\n    40,\\n    50,\\n    75,\\n    100,\\n    150,\\n    200,\\n]\";\n                var nbb_cells = Jupyter.notebook.get_cells();\n                for (var i = 0; i < nbb_cells.length; ++i) {\n                    if (nbb_cells[i].input_prompt_number == nbb_cell_id) {\n                        if (nbb_cells[i].get_text() == nbb_unformatted_code) {\n                             nbb_cells[i].set_text(nbb_formatted_code);\n                        }\n                        break;\n                    }\n                }\n            }, 500);\n            ",
      "text/plain": [
       "<IPython.core.display.Javascript object>"
      ]
     },
     "metadata": {},
     "output_type": "display_data"
    }
   ],
   "source": [
    "N_NEIGH_LIST = list(range(2, 20)) + [\n",
    "    22,\n",
    "    25,\n",
    "    27,\n",
    "    30,\n",
    "    35,\n",
    "    40,\n",
    "    50,\n",
    "    75,\n",
    "    100,\n",
    "    150,\n",
    "    200,\n",
    "]"
   ]
  },
  {
   "cell_type": "markdown",
   "id": "f9923614",
   "metadata": {},
   "source": [
    "### Exploratory Data Analysis and preprocessing"
   ]
  },
  {
   "cell_type": "code",
   "execution_count": 8,
   "id": "fa88d1e5",
   "metadata": {},
   "outputs": [
    {
     "data": {
      "text/html": [
       "<div>\n",
       "<style scoped>\n",
       "    .dataframe tbody tr th:only-of-type {\n",
       "        vertical-align: middle;\n",
       "    }\n",
       "\n",
       "    .dataframe tbody tr th {\n",
       "        vertical-align: top;\n",
       "    }\n",
       "\n",
       "    .dataframe thead th {\n",
       "        text-align: right;\n",
       "    }\n",
       "</style>\n",
       "<table border=\"1\" class=\"dataframe\">\n",
       "  <thead>\n",
       "    <tr style=\"text-align: right;\">\n",
       "      <th></th>\n",
       "      <th>ArticleId</th>\n",
       "      <th>Text</th>\n",
       "      <th>Category</th>\n",
       "    </tr>\n",
       "  </thead>\n",
       "  <tbody>\n",
       "    <tr>\n",
       "      <th>0</th>\n",
       "      <td>1833</td>\n",
       "      <td>worldcom ex-boss launches defence lawyers defe...</td>\n",
       "      <td>business</td>\n",
       "    </tr>\n",
       "    <tr>\n",
       "      <th>1</th>\n",
       "      <td>154</td>\n",
       "      <td>german business confidence slides german busin...</td>\n",
       "      <td>business</td>\n",
       "    </tr>\n",
       "    <tr>\n",
       "      <th>2</th>\n",
       "      <td>1101</td>\n",
       "      <td>bbc poll indicates economic gloom citizens in ...</td>\n",
       "      <td>business</td>\n",
       "    </tr>\n",
       "    <tr>\n",
       "      <th>3</th>\n",
       "      <td>1976</td>\n",
       "      <td>lifestyle  governs mobile choice  faster  bett...</td>\n",
       "      <td>tech</td>\n",
       "    </tr>\n",
       "    <tr>\n",
       "      <th>4</th>\n",
       "      <td>917</td>\n",
       "      <td>enron bosses in $168m payout eighteen former e...</td>\n",
       "      <td>business</td>\n",
       "    </tr>\n",
       "  </tbody>\n",
       "</table>\n",
       "</div>"
      ],
      "text/plain": [
       "   ArticleId                                               Text  Category\n",
       "0       1833  worldcom ex-boss launches defence lawyers defe...  business\n",
       "1        154  german business confidence slides german busin...  business\n",
       "2       1101  bbc poll indicates economic gloom citizens in ...  business\n",
       "3       1976  lifestyle  governs mobile choice  faster  bett...      tech\n",
       "4        917  enron bosses in $168m payout eighteen former e...  business"
      ]
     },
     "execution_count": 8,
     "metadata": {},
     "output_type": "execute_result"
    },
    {
     "data": {
      "application/javascript": "\n            setTimeout(function() {\n                var nbb_cell_id = 8;\n                var nbb_unformatted_code = \"train.head()\";\n                var nbb_formatted_code = \"train.head()\";\n                var nbb_cells = Jupyter.notebook.get_cells();\n                for (var i = 0; i < nbb_cells.length; ++i) {\n                    if (nbb_cells[i].input_prompt_number == nbb_cell_id) {\n                        if (nbb_cells[i].get_text() == nbb_unformatted_code) {\n                             nbb_cells[i].set_text(nbb_formatted_code);\n                        }\n                        break;\n                    }\n                }\n            }, 500);\n            ",
      "text/plain": [
       "<IPython.core.display.Javascript object>"
      ]
     },
     "metadata": {},
     "output_type": "display_data"
    }
   ],
   "source": [
    "train.head()"
   ]
  },
  {
   "cell_type": "markdown",
   "id": "2c791631",
   "metadata": {},
   "source": [
    "As we can see in the following plot the category labels are balanced."
   ]
  },
  {
   "cell_type": "code",
   "execution_count": 9,
   "id": "06ea2f0e",
   "metadata": {},
   "outputs": [
    {
     "data": {
      "text/plain": [
       "<AxesSubplot:xlabel='Category', ylabel='Count'>"
      ]
     },
     "execution_count": 9,
     "metadata": {},
     "output_type": "execute_result"
    },
    {
     "data": {
      "image/png": "[encoded data removed]",
      "text/plain": [
       "<Figure size 432x288 with 1 Axes>"
      ]
     },
     "metadata": {
      "needs_background": "light"
     },
     "output_type": "display_data"
    },
    {
     "data": {
      "application/javascript": "\n            setTimeout(function() {\n                var nbb_cell_id = 9;\n                var nbb_unformatted_code = \"sns.histplot(train[\\\"Category\\\"])\";\n                var nbb_formatted_code = \"sns.histplot(train[\\\"Category\\\"])\";\n                var nbb_cells = Jupyter.notebook.get_cells();\n                for (var i = 0; i < nbb_cells.length; ++i) {\n                    if (nbb_cells[i].input_prompt_number == nbb_cell_id) {\n                        if (nbb_cells[i].get_text() == nbb_unformatted_code) {\n                             nbb_cells[i].set_text(nbb_formatted_code);\n                        }\n                        break;\n                    }\n                }\n            }, 500);\n            ",
      "text/plain": [
       "<IPython.core.display.Javascript object>"
      ]
     },
     "metadata": {},
     "output_type": "display_data"
    }
   ],
   "source": [
    "sns.histplot(train[\"Category\"])"
   ]
  },
  {
   "cell_type": "markdown",
   "id": "2717d885",
   "metadata": {},
   "source": [
    "Text is a challenging data source for machine learning algorithms because of its complexity and lack of structure. The problem of converting text articles into numerical vectors so that classification models can be applied is very challenging and needs to be done in a way such that:\n",
    "* Important information of the text is captured\n",
    "* The codification is efficient (non relevant information is discarded)\n",
    "* The resultant dimensionality is manageable\n",
    "* Computation and memory consumption is not an issue\n",
    "\n",
    "These challanges will be addressed by various preprocessing steps including standarization, puntuation and stopword removal, and the use of Term Frequency - Inverse Document Frequency vectorization."
   ]
  },
  {
   "cell_type": "markdown",
   "id": "26242cfb",
   "metadata": {},
   "source": [
    "Delete punctuation signs and transform into lowercase"
   ]
  },
  {
   "cell_type": "code",
   "execution_count": 10,
   "id": "517ebd6f",
   "metadata": {},
   "outputs": [
    {
     "data": {
      "application/javascript": "\n            setTimeout(function() {\n                var nbb_cell_id = 10;\n                var nbb_unformatted_code = \"train[\\\"Text\\\"] = train[\\\"Text\\\"].apply(\\n    lambda x: \\\"\\\".join([s.lower() for s in x if s not in string.punctuation])\\n)\\ntest[\\\"Text\\\"] = test[\\\"Text\\\"].apply(\\n    lambda x: \\\"\\\".join([s for s in x if s not in string.punctuation])\\n)\";\n                var nbb_formatted_code = \"train[\\\"Text\\\"] = train[\\\"Text\\\"].apply(\\n    lambda x: \\\"\\\".join([s.lower() for s in x if s not in string.punctuation])\\n)\\ntest[\\\"Text\\\"] = test[\\\"Text\\\"].apply(\\n    lambda x: \\\"\\\".join([s for s in x if s not in string.punctuation])\\n)\";\n                var nbb_cells = Jupyter.notebook.get_cells();\n                for (var i = 0; i < nbb_cells.length; ++i) {\n                    if (nbb_cells[i].input_prompt_number == nbb_cell_id) {\n                        if (nbb_cells[i].get_text() == nbb_unformatted_code) {\n                             nbb_cells[i].set_text(nbb_formatted_code);\n                        }\n                        break;\n                    }\n                }\n            }, 500);\n            ",
      "text/plain": [
       "<IPython.core.display.Javascript object>"
      ]
     },
     "metadata": {},
     "output_type": "display_data"
    }
   ],
   "source": [
    "train[\"Text\"] = train[\"Text\"].apply(\n",
    "    lambda x: \"\".join([s.lower() for s in x if s not in string.punctuation])\n",
    ")\n",
    "test[\"Text\"] = test[\"Text\"].apply(\n",
    "    lambda x: \"\".join([s for s in x if s not in string.punctuation])\n",
    ")"
   ]
  },
  {
   "cell_type": "markdown",
   "id": "5cc993a9",
   "metadata": {},
   "source": [
    "Tockenization"
   ]
  },
  {
   "cell_type": "code",
   "execution_count": 11,
   "id": "eba8b8f4",
   "metadata": {},
   "outputs": [
    {
     "data": {
      "application/javascript": "\n            setTimeout(function() {\n                var nbb_cell_id = 11;\n                var nbb_unformatted_code = \"train[\\\"Text\\\"] = train[\\\"Text\\\"].apply(lambda x: x.split(\\\" \\\"))\\ntest[\\\"Text\\\"] = test[\\\"Text\\\"].apply(lambda x: x.split(\\\" \\\"))\";\n                var nbb_formatted_code = \"train[\\\"Text\\\"] = train[\\\"Text\\\"].apply(lambda x: x.split(\\\" \\\"))\\ntest[\\\"Text\\\"] = test[\\\"Text\\\"].apply(lambda x: x.split(\\\" \\\"))\";\n                var nbb_cells = Jupyter.notebook.get_cells();\n                for (var i = 0; i < nbb_cells.length; ++i) {\n                    if (nbb_cells[i].input_prompt_number == nbb_cell_id) {\n                        if (nbb_cells[i].get_text() == nbb_unformatted_code) {\n                             nbb_cells[i].set_text(nbb_formatted_code);\n                        }\n                        break;\n                    }\n                }\n            }, 500);\n            ",
      "text/plain": [
       "<IPython.core.display.Javascript object>"
      ]
     },
     "metadata": {},
     "output_type": "display_data"
    }
   ],
   "source": [
    "train[\"Text\"] = train[\"Text\"].apply(lambda x: x.split(\" \"))\n",
    "test[\"Text\"] = test[\"Text\"].apply(lambda x: x.split(\" \"))"
   ]
  },
  {
   "cell_type": "markdown",
   "id": "c69b9552",
   "metadata": {},
   "source": [
    "Delete stopwords"
   ]
  },
  {
   "cell_type": "code",
   "execution_count": 12,
   "id": "bc0db766",
   "metadata": {},
   "outputs": [
    {
     "data": {
      "application/javascript": "\n            setTimeout(function() {\n                var nbb_cell_id = 12;\n                var nbb_unformatted_code = \"#nltk.download('stopwords')\";\n                var nbb_formatted_code = \"# nltk.download('stopwords')\";\n                var nbb_cells = Jupyter.notebook.get_cells();\n                for (var i = 0; i < nbb_cells.length; ++i) {\n                    if (nbb_cells[i].input_prompt_number == nbb_cell_id) {\n                        if (nbb_cells[i].get_text() == nbb_unformatted_code) {\n                             nbb_cells[i].set_text(nbb_formatted_code);\n                        }\n                        break;\n                    }\n                }\n            }, 500);\n            ",
      "text/plain": [
       "<IPython.core.display.Javascript object>"
      ]
     },
     "metadata": {},
     "output_type": "display_data"
    }
   ],
   "source": [
    "# nltk.download('stopwords')"
   ]
  },
  {
   "cell_type": "code",
   "execution_count": 13,
   "id": "af22d9e0",
   "metadata": {},
   "outputs": [
    {
     "data": {
      "application/javascript": "\n            setTimeout(function() {\n                var nbb_cell_id = 13;\n                var nbb_unformatted_code = \"stopwords = nltk.corpus.stopwords.words(\\\"english\\\")\";\n                var nbb_formatted_code = \"stopwords = nltk.corpus.stopwords.words(\\\"english\\\")\";\n                var nbb_cells = Jupyter.notebook.get_cells();\n                for (var i = 0; i < nbb_cells.length; ++i) {\n                    if (nbb_cells[i].input_prompt_number == nbb_cell_id) {\n                        if (nbb_cells[i].get_text() == nbb_unformatted_code) {\n                             nbb_cells[i].set_text(nbb_formatted_code);\n                        }\n                        break;\n                    }\n                }\n            }, 500);\n            ",
      "text/plain": [
       "<IPython.core.display.Javascript object>"
      ]
     },
     "metadata": {},
     "output_type": "display_data"
    }
   ],
   "source": [
    "stopwords = nltk.corpus.stopwords.words(\"english\")"
   ]
  },
  {
   "cell_type": "code",
   "execution_count": 14,
   "id": "8215f20f",
   "metadata": {},
   "outputs": [
    {
     "data": {
      "application/javascript": "\n            setTimeout(function() {\n                var nbb_cell_id = 14;\n                var nbb_unformatted_code = \"stopwords = [\\\"\\\".join([s for s in w if s not in string.punctuation]) for w in stopwords]\";\n                var nbb_formatted_code = \"stopwords = [\\\"\\\".join([s for s in w if s not in string.punctuation]) for w in stopwords]\";\n                var nbb_cells = Jupyter.notebook.get_cells();\n                for (var i = 0; i < nbb_cells.length; ++i) {\n                    if (nbb_cells[i].input_prompt_number == nbb_cell_id) {\n                        if (nbb_cells[i].get_text() == nbb_unformatted_code) {\n                             nbb_cells[i].set_text(nbb_formatted_code);\n                        }\n                        break;\n                    }\n                }\n            }, 500);\n            ",
      "text/plain": [
       "<IPython.core.display.Javascript object>"
      ]
     },
     "metadata": {},
     "output_type": "display_data"
    }
   ],
   "source": [
    "stopwords = [\"\".join([s for s in w if s not in string.punctuation]) for w in stopwords]"
   ]
  },
  {
   "cell_type": "code",
   "execution_count": 15,
   "id": "75648b9d",
   "metadata": {},
   "outputs": [
    {
     "data": {
      "application/javascript": "\n            setTimeout(function() {\n                var nbb_cell_id = 15;\n                var nbb_unformatted_code = \"train[\\\"Text\\\"] = train[\\\"Text\\\"].apply(lambda t: [w for w in t if w not in stopwords])\\ntest[\\\"Text\\\"] = test[\\\"Text\\\"].apply(lambda t: [w for w in t if w not in stopwords])\";\n                var nbb_formatted_code = \"train[\\\"Text\\\"] = train[\\\"Text\\\"].apply(lambda t: [w for w in t if w not in stopwords])\\ntest[\\\"Text\\\"] = test[\\\"Text\\\"].apply(lambda t: [w for w in t if w not in stopwords])\";\n                var nbb_cells = Jupyter.notebook.get_cells();\n                for (var i = 0; i < nbb_cells.length; ++i) {\n                    if (nbb_cells[i].input_prompt_number == nbb_cell_id) {\n                        if (nbb_cells[i].get_text() == nbb_unformatted_code) {\n                             nbb_cells[i].set_text(nbb_formatted_code);\n                        }\n                        break;\n                    }\n                }\n            }, 500);\n            ",
      "text/plain": [
       "<IPython.core.display.Javascript object>"
      ]
     },
     "metadata": {},
     "output_type": "display_data"
    }
   ],
   "source": [
    "train[\"Text\"] = train[\"Text\"].apply(lambda t: [w for w in t if w not in stopwords])\n",
    "test[\"Text\"] = test[\"Text\"].apply(lambda t: [w for w in t if w not in stopwords])"
   ]
  },
  {
   "cell_type": "markdown",
   "id": "9f5f53cd",
   "metadata": {},
   "source": [
    "Lenght of text attribute"
   ]
  },
  {
   "cell_type": "code",
   "execution_count": 16,
   "id": "17f22a9d",
   "metadata": {},
   "outputs": [
    {
     "data": {
      "application/javascript": "\n            setTimeout(function() {\n                var nbb_cell_id = 16;\n                var nbb_unformatted_code = \"train[\\\"length\\\"] = train[\\\"Text\\\"].apply(len)\";\n                var nbb_formatted_code = \"train[\\\"length\\\"] = train[\\\"Text\\\"].apply(len)\";\n                var nbb_cells = Jupyter.notebook.get_cells();\n                for (var i = 0; i < nbb_cells.length; ++i) {\n                    if (nbb_cells[i].input_prompt_number == nbb_cell_id) {\n                        if (nbb_cells[i].get_text() == nbb_unformatted_code) {\n                             nbb_cells[i].set_text(nbb_formatted_code);\n                        }\n                        break;\n                    }\n                }\n            }, 500);\n            ",
      "text/plain": [
       "<IPython.core.display.Javascript object>"
      ]
     },
     "metadata": {},
     "output_type": "display_data"
    }
   ],
   "source": [
    "train[\"length\"] = train[\"Text\"].apply(len)"
   ]
  },
  {
   "cell_type": "code",
   "execution_count": 17,
   "id": "30294c71",
   "metadata": {},
   "outputs": [
    {
     "data": {
      "application/javascript": "\n            setTimeout(function() {\n                var nbb_cell_id = 17;\n                var nbb_unformatted_code = \"test[\\\"length\\\"] = test[\\\"Text\\\"].apply(len)\";\n                var nbb_formatted_code = \"test[\\\"length\\\"] = test[\\\"Text\\\"].apply(len)\";\n                var nbb_cells = Jupyter.notebook.get_cells();\n                for (var i = 0; i < nbb_cells.length; ++i) {\n                    if (nbb_cells[i].input_prompt_number == nbb_cell_id) {\n                        if (nbb_cells[i].get_text() == nbb_unformatted_code) {\n                             nbb_cells[i].set_text(nbb_formatted_code);\n                        }\n                        break;\n                    }\n                }\n            }, 500);\n            ",
      "text/plain": [
       "<IPython.core.display.Javascript object>"
      ]
     },
     "metadata": {},
     "output_type": "display_data"
    }
   ],
   "source": [
    "test[\"length\"] = test[\"Text\"].apply(len)"
   ]
  },
  {
   "cell_type": "code",
   "execution_count": 18,
   "id": "382429eb",
   "metadata": {},
   "outputs": [
    {
     "data": {
      "image/png": "[encoded data removed]",
      "text/plain": [
       "<Figure size 576x360 with 1 Axes>"
      ]
     },
     "metadata": {
      "needs_background": "light"
     },
     "output_type": "display_data"
    },
    {
     "data": {
      "application/javascript": "\n            setTimeout(function() {\n                var nbb_cell_id = 18;\n                var nbb_unformatted_code = \"sns.violinplot(data=train, y=\\\"length\\\", x=\\\"Category\\\")\\nfig = plt.gcf()\\nfig.set_size_inches(8, 5)\";\n                var nbb_formatted_code = \"sns.violinplot(data=train, y=\\\"length\\\", x=\\\"Category\\\")\\nfig = plt.gcf()\\nfig.set_size_inches(8, 5)\";\n                var nbb_cells = Jupyter.notebook.get_cells();\n                for (var i = 0; i < nbb_cells.length; ++i) {\n                    if (nbb_cells[i].input_prompt_number == nbb_cell_id) {\n                        if (nbb_cells[i].get_text() == nbb_unformatted_code) {\n                             nbb_cells[i].set_text(nbb_formatted_code);\n                        }\n                        break;\n                    }\n                }\n            }, 500);\n            ",
      "text/plain": [
       "<IPython.core.display.Javascript object>"
      ]
     },
     "metadata": {},
     "output_type": "display_data"
    }
   ],
   "source": [
    "sns.violinplot(data=train, y=\"length\", x=\"Category\")\n",
    "fig = plt.gcf()\n",
    "fig.set_size_inches(8, 5)"
   ]
  },
  {
   "cell_type": "code",
   "execution_count": 19,
   "id": "8a23ca9a",
   "metadata": {},
   "outputs": [
    {
     "data": {
      "application/javascript": "\n            setTimeout(function() {\n                var nbb_cell_id = 19;\n                var nbb_unformatted_code = \"classes = train[\\\"Category\\\"].unique()\";\n                var nbb_formatted_code = \"classes = train[\\\"Category\\\"].unique()\";\n                var nbb_cells = Jupyter.notebook.get_cells();\n                for (var i = 0; i < nbb_cells.length; ++i) {\n                    if (nbb_cells[i].input_prompt_number == nbb_cell_id) {\n                        if (nbb_cells[i].get_text() == nbb_unformatted_code) {\n                             nbb_cells[i].set_text(nbb_formatted_code);\n                        }\n                        break;\n                    }\n                }\n            }, 500);\n            ",
      "text/plain": [
       "<IPython.core.display.Javascript object>"
      ]
     },
     "metadata": {},
     "output_type": "display_data"
    }
   ],
   "source": [
    "classes = train[\"Category\"].unique()"
   ]
  },
  {
   "cell_type": "markdown",
   "id": "4f4aad51",
   "metadata": {},
   "source": [
    "Train and test split"
   ]
  },
  {
   "cell_type": "code",
   "execution_count": 20,
   "id": "64af6465",
   "metadata": {},
   "outputs": [
    {
     "data": {
      "application/javascript": "\n            setTimeout(function() {\n                var nbb_cell_id = 20;\n                var nbb_unformatted_code = \"x_train, x_test, y_train, y_test = train_test_split(\\n    train.drop(\\\"Category\\\", axis=1), train[\\\"Category\\\"], test_size=0.25\\n)\";\n                var nbb_formatted_code = \"x_train, x_test, y_train, y_test = train_test_split(\\n    train.drop(\\\"Category\\\", axis=1), train[\\\"Category\\\"], test_size=0.25\\n)\";\n                var nbb_cells = Jupyter.notebook.get_cells();\n                for (var i = 0; i < nbb_cells.length; ++i) {\n                    if (nbb_cells[i].input_prompt_number == nbb_cell_id) {\n                        if (nbb_cells[i].get_text() == nbb_unformatted_code) {\n                             nbb_cells[i].set_text(nbb_formatted_code);\n                        }\n                        break;\n                    }\n                }\n            }, 500);\n            ",
      "text/plain": [
       "<IPython.core.display.Javascript object>"
      ]
     },
     "metadata": {},
     "output_type": "display_data"
    }
   ],
   "source": [
    "x_train, x_test, y_train, y_test = train_test_split(\n",
    "    train.drop(\"Category\", axis=1), train[\"Category\"], test_size=0.25\n",
    ")"
   ]
  },
  {
   "cell_type": "markdown",
   "id": "515f3c4b",
   "metadata": {},
   "source": [
    "The final step to prepare the articles for the machine learning algorithms is to use the TfIdf vectorization. This technique produces a vector $v=\\lambda(v_1,v_2,\\dots ,v_n)$ for each article where each entry attempts to represent the importance of a specific term in the text and is calculated according to the next formula (there are other similar definitions with subtle differences):\n",
    "$$\n",
    "v_i = TF*IDF = \\text{Number of appereances of word }i*log\\Big(\\frac{\\text{Number of documents}+1}{\\text{Number of documents were word }i\\text{ appears}+1}+1\\Big)\n",
    "$$\n",
    "The left side of the multiplication is bigger as the prevalence of the word increases and the right side of the weights more heavily rare terms. Finally, the $\\lambda$ parameter normalizes the vector to norm 1 so that all outputs have the same l2 length."
   ]
  },
  {
   "cell_type": "code",
   "execution_count": 21,
   "id": "74bc4af9",
   "metadata": {},
   "outputs": [
    {
     "data": {
      "application/javascript": "\n            setTimeout(function() {\n                var nbb_cell_id = 21;\n                var nbb_unformatted_code = \"vectorizer = TfidfVectorizer()\";\n                var nbb_formatted_code = \"vectorizer = TfidfVectorizer()\";\n                var nbb_cells = Jupyter.notebook.get_cells();\n                for (var i = 0; i < nbb_cells.length; ++i) {\n                    if (nbb_cells[i].input_prompt_number == nbb_cell_id) {\n                        if (nbb_cells[i].get_text() == nbb_unformatted_code) {\n                             nbb_cells[i].set_text(nbb_formatted_code);\n                        }\n                        break;\n                    }\n                }\n            }, 500);\n            ",
      "text/plain": [
       "<IPython.core.display.Javascript object>"
      ]
     },
     "metadata": {},
     "output_type": "display_data"
    }
   ],
   "source": [
    "vectorizer = TfidfVectorizer()"
   ]
  },
  {
   "cell_type": "code",
   "execution_count": 22,
   "id": "2d598b71",
   "metadata": {},
   "outputs": [
    {
     "data": {
      "application/javascript": "\n            setTimeout(function() {\n                var nbb_cell_id = 22;\n                var nbb_unformatted_code = \"x_train_vectorized = np.array(\\n    vectorizer.fit_transform(x_train[\\\"Text\\\"].apply(lambda x: \\\" \\\".join(x))).todense()\\n)\";\n                var nbb_formatted_code = \"x_train_vectorized = np.array(\\n    vectorizer.fit_transform(x_train[\\\"Text\\\"].apply(lambda x: \\\" \\\".join(x))).todense()\\n)\";\n                var nbb_cells = Jupyter.notebook.get_cells();\n                for (var i = 0; i < nbb_cells.length; ++i) {\n                    if (nbb_cells[i].input_prompt_number == nbb_cell_id) {\n                        if (nbb_cells[i].get_text() == nbb_unformatted_code) {\n                             nbb_cells[i].set_text(nbb_formatted_code);\n                        }\n                        break;\n                    }\n                }\n            }, 500);\n            ",
      "text/plain": [
       "<IPython.core.display.Javascript object>"
      ]
     },
     "metadata": {},
     "output_type": "display_data"
    }
   ],
   "source": [
    "x_train_vectorized = np.array(\n",
    "    vectorizer.fit_transform(x_train[\"Text\"].apply(lambda x: \" \".join(x))).todense()\n",
    ")"
   ]
  },
  {
   "cell_type": "code",
   "execution_count": 23,
   "id": "9e7c3ead",
   "metadata": {},
   "outputs": [
    {
     "data": {
      "application/javascript": "\n            setTimeout(function() {\n                var nbb_cell_id = 23;\n                var nbb_unformatted_code = \"x_test_vectorized = np.array(\\n    vectorizer.transform(x_test[\\\"Text\\\"].apply(lambda x: \\\" \\\".join(x))).todense()\\n)\";\n                var nbb_formatted_code = \"x_test_vectorized = np.array(\\n    vectorizer.transform(x_test[\\\"Text\\\"].apply(lambda x: \\\" \\\".join(x))).todense()\\n)\";\n                var nbb_cells = Jupyter.notebook.get_cells();\n                for (var i = 0; i < nbb_cells.length; ++i) {\n                    if (nbb_cells[i].input_prompt_number == nbb_cell_id) {\n                        if (nbb_cells[i].get_text() == nbb_unformatted_code) {\n                             nbb_cells[i].set_text(nbb_formatted_code);\n                        }\n                        break;\n                    }\n                }\n            }, 500);\n            ",
      "text/plain": [
       "<IPython.core.display.Javascript object>"
      ]
     },
     "metadata": {},
     "output_type": "display_data"
    }
   ],
   "source": [
    "x_test_vectorized = np.array(\n",
    "    vectorizer.transform(x_test[\"Text\"].apply(lambda x: \" \".join(x))).todense()\n",
    ")\n"
   ]
  },
  {
   "cell_type": "code",
   "execution_count": 24,
   "id": "bb7213eb",
   "metadata": {},
   "outputs": [
    {
     "data": {
      "application/javascript": "\n            setTimeout(function() {\n                var nbb_cell_id = 24;\n                var nbb_unformatted_code = \"x_test_kaggle = np.array(\\n    vectorizer.transform(test[\\\"Text\\\"].apply(lambda x: \\\" \\\".join(x))).todense()\\n)\";\n                var nbb_formatted_code = \"x_test_kaggle = np.array(\\n    vectorizer.transform(test[\\\"Text\\\"].apply(lambda x: \\\" \\\".join(x))).todense()\\n)\";\n                var nbb_cells = Jupyter.notebook.get_cells();\n                for (var i = 0; i < nbb_cells.length; ++i) {\n                    if (nbb_cells[i].input_prompt_number == nbb_cell_id) {\n                        if (nbb_cells[i].get_text() == nbb_unformatted_code) {\n                             nbb_cells[i].set_text(nbb_formatted_code);\n                        }\n                        break;\n                    }\n                }\n            }, 500);\n            ",
      "text/plain": [
       "<IPython.core.display.Javascript object>"
      ]
     },
     "metadata": {},
     "output_type": "display_data"
    }
   ],
   "source": [
    "x_test_kaggle = np.array(\n",
    "    vectorizer.transform(test[\"Text\"].apply(lambda x: \" \".join(x))).todense()\n",
    ")\n"
   ]
  },
  {
   "cell_type": "markdown",
   "id": "cebfb035",
   "metadata": {},
   "source": [
    "Now that we have a vectorized representation of the articles let's use matrix factorization for dimensionality reduction in order to visualize the different texts and their respective labels"
   ]
  },
  {
   "cell_type": "code",
   "execution_count": 25,
   "id": "03703e9a",
   "metadata": {},
   "outputs": [
    {
     "data": {
      "application/javascript": "\n            setTimeout(function() {\n                var nbb_cell_id = 25;\n                var nbb_unformatted_code = \"sklearn_svd = TruncatedSVD(n_components=2)\";\n                var nbb_formatted_code = \"sklearn_svd = TruncatedSVD(n_components=2)\";\n                var nbb_cells = Jupyter.notebook.get_cells();\n                for (var i = 0; i < nbb_cells.length; ++i) {\n                    if (nbb_cells[i].input_prompt_number == nbb_cell_id) {\n                        if (nbb_cells[i].get_text() == nbb_unformatted_code) {\n                             nbb_cells[i].set_text(nbb_formatted_code);\n                        }\n                        break;\n                    }\n                }\n            }, 500);\n            ",
      "text/plain": [
       "<IPython.core.display.Javascript object>"
      ]
     },
     "metadata": {},
     "output_type": "display_data"
    }
   ],
   "source": [
    "sklearn_svd = TruncatedSVD(n_components=2)"
   ]
  },
  {
   "cell_type": "code",
   "execution_count": 26,
   "id": "de33af6f",
   "metadata": {},
   "outputs": [
    {
     "data": {
      "application/javascript": "\n            setTimeout(function() {\n                var nbb_cell_id = 26;\n                var nbb_unformatted_code = \"x_train_2d = sklearn_svd.fit_transform(x_train_vectorized)\";\n                var nbb_formatted_code = \"x_train_2d = sklearn_svd.fit_transform(x_train_vectorized)\";\n                var nbb_cells = Jupyter.notebook.get_cells();\n                for (var i = 0; i < nbb_cells.length; ++i) {\n                    if (nbb_cells[i].input_prompt_number == nbb_cell_id) {\n                        if (nbb_cells[i].get_text() == nbb_unformatted_code) {\n                             nbb_cells[i].set_text(nbb_formatted_code);\n                        }\n                        break;\n                    }\n                }\n            }, 500);\n            ",
      "text/plain": [
       "<IPython.core.display.Javascript object>"
      ]
     },
     "metadata": {},
     "output_type": "display_data"
    }
   ],
   "source": [
    "x_train_2d = sklearn_svd.fit_transform(x_train_vectorized)"
   ]
  },
  {
   "cell_type": "code",
   "execution_count": 27,
   "id": "12edc05a",
   "metadata": {},
   "outputs": [
    {
     "data": {
      "text/plain": [
       "<matplotlib.collections.PathCollection at 0x7f795a3ace80>"
      ]
     },
     "execution_count": 27,
     "metadata": {},
     "output_type": "execute_result"
    },
    {
     "data": {
      "image/png": "[encoded data removed]",
      "text/plain": [
       "<Figure size 432x288 with 1 Axes>"
      ]
     },
     "metadata": {
      "needs_background": "light"
     },
     "output_type": "display_data"
    },
    {
     "data": {
      "application/javascript": "\n            setTimeout(function() {\n                var nbb_cell_id = 27;\n                var nbb_unformatted_code = \"fig, ax = plt.subplots()\\nax.scatter(\\n    x_train_2d[:, 0],\\n    x_train_2d[:, 1],\\n    c=y_train.apply(lambda x: list(classes).index(x)),\\n)\";\n                var nbb_formatted_code = \"fig, ax = plt.subplots()\\nax.scatter(\\n    x_train_2d[:, 0],\\n    x_train_2d[:, 1],\\n    c=y_train.apply(lambda x: list(classes).index(x)),\\n)\";\n                var nbb_cells = Jupyter.notebook.get_cells();\n                for (var i = 0; i < nbb_cells.length; ++i) {\n                    if (nbb_cells[i].input_prompt_number == nbb_cell_id) {\n                        if (nbb_cells[i].get_text() == nbb_unformatted_code) {\n                             nbb_cells[i].set_text(nbb_formatted_code);\n                        }\n                        break;\n                    }\n                }\n            }, 500);\n            ",
      "text/plain": [
       "<IPython.core.display.Javascript object>"
      ]
     },
     "metadata": {},
     "output_type": "display_data"
    }
   ],
   "source": [
    "fig, ax = plt.subplots()\n",
    "ax.scatter(\n",
    "    x_train_2d[:, 0],\n",
    "    x_train_2d[:, 1],\n",
    "    c=y_train.apply(lambda x: list(classes).index(x)),\n",
    ")"
   ]
  },
  {
   "cell_type": "markdown",
   "id": "defbd883",
   "metadata": {},
   "source": [
    "The plot above shows a 2D representation of the articles and their labels, and exposes that there are considerable differences between the different classes."
   ]
  },
  {
   "cell_type": "markdown",
   "id": "ede9534c",
   "metadata": {},
   "source": [
    "### Baseline model"
   ]
  },
  {
   "cell_type": "markdown",
   "id": "0a007076",
   "metadata": {},
   "source": [
    "Now let's construct a baseline classification model using the K Nearest Neighbors algorithm."
   ]
  },
  {
   "cell_type": "code",
   "execution_count": 28,
   "id": "7882fb10",
   "metadata": {},
   "outputs": [
    {
     "data": {
      "application/javascript": "\n            setTimeout(function() {\n                var nbb_cell_id = 28;\n                var nbb_unformatted_code = \"knn = KNeighborsClassifier()\";\n                var nbb_formatted_code = \"knn = KNeighborsClassifier()\";\n                var nbb_cells = Jupyter.notebook.get_cells();\n                for (var i = 0; i < nbb_cells.length; ++i) {\n                    if (nbb_cells[i].input_prompt_number == nbb_cell_id) {\n                        if (nbb_cells[i].get_text() == nbb_unformatted_code) {\n                             nbb_cells[i].set_text(nbb_formatted_code);\n                        }\n                        break;\n                    }\n                }\n            }, 500);\n            ",
      "text/plain": [
       "<IPython.core.display.Javascript object>"
      ]
     },
     "metadata": {},
     "output_type": "display_data"
    }
   ],
   "source": [
    "knn = KNeighborsClassifier()"
   ]
  },
  {
   "cell_type": "code",
   "execution_count": 29,
   "id": "1b39d3df",
   "metadata": {},
   "outputs": [
    {
     "data": {
      "application/javascript": "\n            setTimeout(function() {\n                var nbb_cell_id = 29;\n                var nbb_unformatted_code = \"knn_gridcv = GridSearchCV(knn, param_grid={\\\"n_neighbors\\\": N_NEIGH_LIST},)\";\n                var nbb_formatted_code = \"knn_gridcv = GridSearchCV(knn, param_grid={\\\"n_neighbors\\\": N_NEIGH_LIST},)\";\n                var nbb_cells = Jupyter.notebook.get_cells();\n                for (var i = 0; i < nbb_cells.length; ++i) {\n                    if (nbb_cells[i].input_prompt_number == nbb_cell_id) {\n                        if (nbb_cells[i].get_text() == nbb_unformatted_code) {\n                             nbb_cells[i].set_text(nbb_formatted_code);\n                        }\n                        break;\n                    }\n                }\n            }, 500);\n            ",
      "text/plain": [
       "<IPython.core.display.Javascript object>"
      ]
     },
     "metadata": {},
     "output_type": "display_data"
    }
   ],
   "source": [
    "knn_gridcv = GridSearchCV(knn, param_grid={\"n_neighbors\": N_NEIGH_LIST},)"
   ]
  },
  {
   "cell_type": "markdown",
   "id": "75c79f6a",
   "metadata": {},
   "source": [
    "Cross validation"
   ]
  },
  {
   "cell_type": "code",
   "execution_count": 30,
   "id": "f47e78ac",
   "metadata": {},
   "outputs": [
    {
     "data": {
      "text/plain": [
       "GridSearchCV(estimator=KNeighborsClassifier(),\n",
       "             param_grid={'n_neighbors': [2, 3, 4, 5, 6, 7, 8, 9, 10, 11, 12, 13,\n",
       "                                         14, 15, 16, 17, 18, 19, 22, 25, 27, 30,\n",
       "                                         35, 40, 50, 75, 100, 150, 200]})"
      ]
     },
     "execution_count": 30,
     "metadata": {},
     "output_type": "execute_result"
    },
    {
     "data": {
      "application/javascript": "\n            setTimeout(function() {\n                var nbb_cell_id = 30;\n                var nbb_unformatted_code = \"knn_gridcv.fit(x_train_vectorized, y_train)\";\n                var nbb_formatted_code = \"knn_gridcv.fit(x_train_vectorized, y_train)\";\n                var nbb_cells = Jupyter.notebook.get_cells();\n                for (var i = 0; i < nbb_cells.length; ++i) {\n                    if (nbb_cells[i].input_prompt_number == nbb_cell_id) {\n                        if (nbb_cells[i].get_text() == nbb_unformatted_code) {\n                             nbb_cells[i].set_text(nbb_formatted_code);\n                        }\n                        break;\n                    }\n                }\n            }, 500);\n            ",
      "text/plain": [
       "<IPython.core.display.Javascript object>"
      ]
     },
     "metadata": {},
     "output_type": "display_data"
    }
   ],
   "source": [
    "knn_gridcv.fit(x_train_vectorized, y_train)"
   ]
  },
  {
   "cell_type": "code",
   "execution_count": 31,
   "id": "2944168c",
   "metadata": {},
   "outputs": [
    {
     "data": {
      "text/plain": [
       "KNeighborsClassifier(n_neighbors=40)"
      ]
     },
     "execution_count": 31,
     "metadata": {},
     "output_type": "execute_result"
    },
    {
     "data": {
      "application/javascript": "\n            setTimeout(function() {\n                var nbb_cell_id = 31;\n                var nbb_unformatted_code = \"knn = knn_gridcv.best_estimator_\\nknn_gridcv.best_estimator_\";\n                var nbb_formatted_code = \"knn = knn_gridcv.best_estimator_\\nknn_gridcv.best_estimator_\";\n                var nbb_cells = Jupyter.notebook.get_cells();\n                for (var i = 0; i < nbb_cells.length; ++i) {\n                    if (nbb_cells[i].input_prompt_number == nbb_cell_id) {\n                        if (nbb_cells[i].get_text() == nbb_unformatted_code) {\n                             nbb_cells[i].set_text(nbb_formatted_code);\n                        }\n                        break;\n                    }\n                }\n            }, 500);\n            ",
      "text/plain": [
       "<IPython.core.display.Javascript object>"
      ]
     },
     "metadata": {},
     "output_type": "display_data"
    }
   ],
   "source": [
    "knn = knn_gridcv.best_estimator_\n",
    "knn_gridcv.best_estimator_"
   ]
  },
  {
   "cell_type": "code",
   "execution_count": 32,
   "id": "b6b7e8ef",
   "metadata": {},
   "outputs": [
    {
     "data": {
      "text/plain": [
       "0.9453955797565662"
      ]
     },
     "execution_count": 32,
     "metadata": {},
     "output_type": "execute_result"
    },
    {
     "data": {
      "application/javascript": "\n            setTimeout(function() {\n                var nbb_cell_id = 32;\n                var nbb_unformatted_code = \"knn_gridcv.best_score_\";\n                var nbb_formatted_code = \"knn_gridcv.best_score_\";\n                var nbb_cells = Jupyter.notebook.get_cells();\n                for (var i = 0; i < nbb_cells.length; ++i) {\n                    if (nbb_cells[i].input_prompt_number == nbb_cell_id) {\n                        if (nbb_cells[i].get_text() == nbb_unformatted_code) {\n                             nbb_cells[i].set_text(nbb_formatted_code);\n                        }\n                        break;\n                    }\n                }\n            }, 500);\n            ",
      "text/plain": [
       "<IPython.core.display.Javascript object>"
      ]
     },
     "metadata": {},
     "output_type": "display_data"
    }
   ],
   "source": [
    "knn_gridcv.best_score_"
   ]
  },
  {
   "cell_type": "markdown",
   "id": "4fb03ba9",
   "metadata": {},
   "source": [
    "Test metrics"
   ]
  },
  {
   "cell_type": "code",
   "execution_count": 33,
   "id": "63026ac8",
   "metadata": {},
   "outputs": [
    {
     "data": {
      "application/javascript": "\n            setTimeout(function() {\n                var nbb_cell_id = 33;\n                var nbb_unformatted_code = \"y_test_pred = knn.predict(x_test_vectorized)\";\n                var nbb_formatted_code = \"y_test_pred = knn.predict(x_test_vectorized)\";\n                var nbb_cells = Jupyter.notebook.get_cells();\n                for (var i = 0; i < nbb_cells.length; ++i) {\n                    if (nbb_cells[i].input_prompt_number == nbb_cell_id) {\n                        if (nbb_cells[i].get_text() == nbb_unformatted_code) {\n                             nbb_cells[i].set_text(nbb_formatted_code);\n                        }\n                        break;\n                    }\n                }\n            }, 500);\n            ",
      "text/plain": [
       "<IPython.core.display.Javascript object>"
      ]
     },
     "metadata": {},
     "output_type": "display_data"
    }
   ],
   "source": [
    "y_test_pred = knn.predict(x_test_vectorized)"
   ]
  },
  {
   "cell_type": "code",
   "execution_count": 34,
   "id": "e3c66a00",
   "metadata": {},
   "outputs": [
    {
     "data": {
      "application/javascript": "\n            setTimeout(function() {\n                var nbb_cell_id = 34;\n                var nbb_unformatted_code = \"y_test_pred_proba = knn.predict_proba(x_test_vectorized)\";\n                var nbb_formatted_code = \"y_test_pred_proba = knn.predict_proba(x_test_vectorized)\";\n                var nbb_cells = Jupyter.notebook.get_cells();\n                for (var i = 0; i < nbb_cells.length; ++i) {\n                    if (nbb_cells[i].input_prompt_number == nbb_cell_id) {\n                        if (nbb_cells[i].get_text() == nbb_unformatted_code) {\n                             nbb_cells[i].set_text(nbb_formatted_code);\n                        }\n                        break;\n                    }\n                }\n            }, 500);\n            ",
      "text/plain": [
       "<IPython.core.display.Javascript object>"
      ]
     },
     "metadata": {},
     "output_type": "display_data"
    }
   ],
   "source": [
    "y_test_pred_proba = knn.predict_proba(x_test_vectorized)"
   ]
  },
  {
   "cell_type": "code",
   "execution_count": 35,
   "id": "92381cd2",
   "metadata": {},
   "outputs": [
    {
     "data": {
      "text/plain": [
       "0.967828418230563"
      ]
     },
     "execution_count": 35,
     "metadata": {},
     "output_type": "execute_result"
    },
    {
     "data": {
      "application/javascript": "\n            setTimeout(function() {\n                var nbb_cell_id = 35;\n                var nbb_unformatted_code = \"accuracy_score(y_test, y_test_pred)\";\n                var nbb_formatted_code = \"accuracy_score(y_test, y_test_pred)\";\n                var nbb_cells = Jupyter.notebook.get_cells();\n                for (var i = 0; i < nbb_cells.length; ++i) {\n                    if (nbb_cells[i].input_prompt_number == nbb_cell_id) {\n                        if (nbb_cells[i].get_text() == nbb_unformatted_code) {\n                             nbb_cells[i].set_text(nbb_formatted_code);\n                        }\n                        break;\n                    }\n                }\n            }, 500);\n            ",
      "text/plain": [
       "<IPython.core.display.Javascript object>"
      ]
     },
     "metadata": {},
     "output_type": "display_data"
    }
   ],
   "source": [
    "accuracy_score(y_test, y_test_pred)"
   ]
  },
  {
   "cell_type": "markdown",
   "id": "921b2349",
   "metadata": {},
   "source": [
    "The train and test accuracy, and the following ROC plots, reveal that the KNN model has strong predictive power and extrapolates well to unseen data."
   ]
  },
  {
   "cell_type": "code",
   "execution_count": 36,
   "id": "300746d2",
   "metadata": {},
   "outputs": [
    {
     "data": {
      "image/png": "[encoded data removed]",
      "text/plain": [
       "<Figure size 576x432 with 1 Axes>"
      ]
     },
     "metadata": {
      "needs_background": "light"
     },
     "output_type": "display_data"
    },
    {
     "data": {
      "application/javascript": "\n            setTimeout(function() {\n                var nbb_cell_id = 36;\n                var nbb_unformatted_code = \"fig, ax = plt.subplots()\\nfor i in range(len(knn.classes_)):\\n    fpr, tpr, _ = roc_curve(\\n        (y_test == knn.classes_[i]).astype(int), y_test_pred_proba[:, i]\\n    )\\n    ax.plot(fpr, tpr)\\nfig.legend(labels=knn.classes_, loc=4, bbox_to_anchor=(0.88, 0.15))\\nfig.set_size_inches(8, 6)\";\n                var nbb_formatted_code = \"fig, ax = plt.subplots()\\nfor i in range(len(knn.classes_)):\\n    fpr, tpr, _ = roc_curve(\\n        (y_test == knn.classes_[i]).astype(int), y_test_pred_proba[:, i]\\n    )\\n    ax.plot(fpr, tpr)\\nfig.legend(labels=knn.classes_, loc=4, bbox_to_anchor=(0.88, 0.15))\\nfig.set_size_inches(8, 6)\";\n                var nbb_cells = Jupyter.notebook.get_cells();\n                for (var i = 0; i < nbb_cells.length; ++i) {\n                    if (nbb_cells[i].input_prompt_number == nbb_cell_id) {\n                        if (nbb_cells[i].get_text() == nbb_unformatted_code) {\n                             nbb_cells[i].set_text(nbb_formatted_code);\n                        }\n                        break;\n                    }\n                }\n            }, 500);\n            ",
      "text/plain": [
       "<IPython.core.display.Javascript object>"
      ]
     },
     "metadata": {},
     "output_type": "display_data"
    }
   ],
   "source": [
    "fig, ax = plt.subplots()\n",
    "for i in range(len(knn.classes_)):\n",
    "    fpr, tpr, _ = roc_curve(\n",
    "        (y_test == knn.classes_[i]).astype(int), y_test_pred_proba[:, i]\n",
    "    )\n",
    "    ax.plot(fpr, tpr)\n",
    "fig.legend(labels=knn.classes_, loc=4, bbox_to_anchor=(0.88, 0.15))\n",
    "fig.set_size_inches(8, 6)"
   ]
  },
  {
   "cell_type": "markdown",
   "id": "30e20d71",
   "metadata": {},
   "source": [
    "### Non negative matrix factorization"
   ]
  },
  {
   "cell_type": "markdown",
   "id": "c0371483",
   "metadata": {},
   "source": [
    "The course assignment requires to test matrix factorization as an unsupervised approach for the classification problem, so the TruncatedSVD class of sklearn will be used to extract 5 features from the texts. Every data instance is then assigned to feature of greater value and then, each of these 5 features will be assigned to a data label by maximizing the accuracy on the training set over all feature permutations. "
   ]
  },
  {
   "cell_type": "code",
   "execution_count": 37,
   "id": "f14b5010",
   "metadata": {},
   "outputs": [
    {
     "data": {
      "application/javascript": "\n            setTimeout(function() {\n                var nbb_cell_id = 37;\n                var nbb_unformatted_code = \"sklearn_svd = TruncatedSVD(n_components=5)\";\n                var nbb_formatted_code = \"sklearn_svd = TruncatedSVD(n_components=5)\";\n                var nbb_cells = Jupyter.notebook.get_cells();\n                for (var i = 0; i < nbb_cells.length; ++i) {\n                    if (nbb_cells[i].input_prompt_number == nbb_cell_id) {\n                        if (nbb_cells[i].get_text() == nbb_unformatted_code) {\n                             nbb_cells[i].set_text(nbb_formatted_code);\n                        }\n                        break;\n                    }\n                }\n            }, 500);\n            ",
      "text/plain": [
       "<IPython.core.display.Javascript object>"
      ]
     },
     "metadata": {},
     "output_type": "display_data"
    }
   ],
   "source": [
    "sklearn_svd = TruncatedSVD(n_components=5)"
   ]
  },
  {
   "cell_type": "code",
   "execution_count": 38,
   "id": "ec1b6231",
   "metadata": {},
   "outputs": [
    {
     "data": {
      "application/javascript": "\n            setTimeout(function() {\n                var nbb_cell_id = 38;\n                var nbb_unformatted_code = \"pred_train_svd = np.argmax(sklearn_svd.fit_transform(x_train_vectorized), axis=1)\";\n                var nbb_formatted_code = \"pred_train_svd = np.argmax(sklearn_svd.fit_transform(x_train_vectorized), axis=1)\";\n                var nbb_cells = Jupyter.notebook.get_cells();\n                for (var i = 0; i < nbb_cells.length; ++i) {\n                    if (nbb_cells[i].input_prompt_number == nbb_cell_id) {\n                        if (nbb_cells[i].get_text() == nbb_unformatted_code) {\n                             nbb_cells[i].set_text(nbb_formatted_code);\n                        }\n                        break;\n                    }\n                }\n            }, 500);\n            ",
      "text/plain": [
       "<IPython.core.display.Javascript object>"
      ]
     },
     "metadata": {},
     "output_type": "display_data"
    }
   ],
   "source": [
    "pred_train_svd = np.argmax(sklearn_svd.fit_transform(x_train_vectorized), axis=1)"
   ]
  },
  {
   "cell_type": "code",
   "execution_count": 39,
   "id": "939a8bc0",
   "metadata": {},
   "outputs": [
    {
     "data": {
      "application/javascript": "\n            setTimeout(function() {\n                var nbb_cell_id = 39;\n                var nbb_unformatted_code = \"pred_test_svd = np.argmax(sklearn_svd.transform(x_test_vectorized), axis=1)\";\n                var nbb_formatted_code = \"pred_test_svd = np.argmax(sklearn_svd.transform(x_test_vectorized), axis=1)\";\n                var nbb_cells = Jupyter.notebook.get_cells();\n                for (var i = 0; i < nbb_cells.length; ++i) {\n                    if (nbb_cells[i].input_prompt_number == nbb_cell_id) {\n                        if (nbb_cells[i].get_text() == nbb_unformatted_code) {\n                             nbb_cells[i].set_text(nbb_formatted_code);\n                        }\n                        break;\n                    }\n                }\n            }, 500);\n            ",
      "text/plain": [
       "<IPython.core.display.Javascript object>"
      ]
     },
     "metadata": {},
     "output_type": "display_data"
    }
   ],
   "source": [
    "pred_test_svd = np.argmax(sklearn_svd.transform(x_test_vectorized), axis=1)"
   ]
  },
  {
   "cell_type": "markdown",
   "id": "f29b8fc1",
   "metadata": {},
   "source": [
    "Finds best permutation for labels"
   ]
  },
  {
   "cell_type": "code",
   "execution_count": 40,
   "id": "89d6eea7",
   "metadata": {},
   "outputs": [
    {
     "data": {
      "application/javascript": "\n            setTimeout(function() {\n                var nbb_cell_id = 40;\n                var nbb_unformatted_code = \"def perm_acc_nmf(classes, pred_train_svd, y_train):\\n    perm_final = None\\n    acc_final = 0\\n    for p in permutations(classes):\\n        pred_train_svd_label = [p[i] for i in pred_train_svd]\\n        acc_score = accuracy_score(y_train.values, pred_train_svd_label)\\n        if acc_score > acc_final:\\n            perm_final = p\\n            acc_final = acc_score\\n    return perm_final, acc_final\";\n                var nbb_formatted_code = \"def perm_acc_nmf(classes, pred_train_svd, y_train):\\n    perm_final = None\\n    acc_final = 0\\n    for p in permutations(classes):\\n        pred_train_svd_label = [p[i] for i in pred_train_svd]\\n        acc_score = accuracy_score(y_train.values, pred_train_svd_label)\\n        if acc_score > acc_final:\\n            perm_final = p\\n            acc_final = acc_score\\n    return perm_final, acc_final\";\n                var nbb_cells = Jupyter.notebook.get_cells();\n                for (var i = 0; i < nbb_cells.length; ++i) {\n                    if (nbb_cells[i].input_prompt_number == nbb_cell_id) {\n                        if (nbb_cells[i].get_text() == nbb_unformatted_code) {\n                             nbb_cells[i].set_text(nbb_formatted_code);\n                        }\n                        break;\n                    }\n                }\n            }, 500);\n            ",
      "text/plain": [
       "<IPython.core.display.Javascript object>"
      ]
     },
     "metadata": {},
     "output_type": "display_data"
    }
   ],
   "source": [
    "def perm_acc_nmf(classes, pred_train_svd, y_train):\n",
    "    perm_final = None\n",
    "    acc_final = 0\n",
    "    for p in permutations(classes):\n",
    "        pred_train_svd_label = [p[i] for i in pred_train_svd]\n",
    "        acc_score = accuracy_score(y_train.values, pred_train_svd_label)\n",
    "        if acc_score > acc_final:\n",
    "            perm_final = p\n",
    "            acc_final = acc_score\n",
    "    return perm_final, acc_final"
   ]
  },
  {
   "cell_type": "code",
   "execution_count": 41,
   "id": "5da33251",
   "metadata": {},
   "outputs": [
    {
     "data": {
      "application/javascript": "\n            setTimeout(function() {\n                var nbb_cell_id = 41;\n                var nbb_unformatted_code = \"perm_final, acc_final = perm_acc_nmf(classes, pred_train_svd, y_train)\";\n                var nbb_formatted_code = \"perm_final, acc_final = perm_acc_nmf(classes, pred_train_svd, y_train)\";\n                var nbb_cells = Jupyter.notebook.get_cells();\n                for (var i = 0; i < nbb_cells.length; ++i) {\n                    if (nbb_cells[i].input_prompt_number == nbb_cell_id) {\n                        if (nbb_cells[i].get_text() == nbb_unformatted_code) {\n                             nbb_cells[i].set_text(nbb_formatted_code);\n                        }\n                        break;\n                    }\n                }\n            }, 500);\n            ",
      "text/plain": [
       "<IPython.core.display.Javascript object>"
      ]
     },
     "metadata": {},
     "output_type": "display_data"
    }
   ],
   "source": [
    "perm_final, acc_final = perm_acc_nmf(classes, pred_train_svd, y_train)"
   ]
  },
  {
   "cell_type": "code",
   "execution_count": 42,
   "id": "9aaf9736",
   "metadata": {},
   "outputs": [
    {
     "data": {
      "text/plain": [
       "('sport', 'politics', 'tech', 'entertainment', 'business')"
      ]
     },
     "execution_count": 42,
     "metadata": {},
     "output_type": "execute_result"
    },
    {
     "data": {
      "application/javascript": "\n            setTimeout(function() {\n                var nbb_cell_id = 42;\n                var nbb_unformatted_code = \"perm_final\";\n                var nbb_formatted_code = \"perm_final\";\n                var nbb_cells = Jupyter.notebook.get_cells();\n                for (var i = 0; i < nbb_cells.length; ++i) {\n                    if (nbb_cells[i].input_prompt_number == nbb_cell_id) {\n                        if (nbb_cells[i].get_text() == nbb_unformatted_code) {\n                             nbb_cells[i].set_text(nbb_formatted_code);\n                        }\n                        break;\n                    }\n                }\n            }, 500);\n            ",
      "text/plain": [
       "<IPython.core.display.Javascript object>"
      ]
     },
     "metadata": {},
     "output_type": "display_data"
    }
   ],
   "source": [
    "perm_final"
   ]
  },
  {
   "cell_type": "markdown",
   "id": "bca3c067",
   "metadata": {},
   "source": [
    "Final metrics over train and test set"
   ]
  },
  {
   "cell_type": "code",
   "execution_count": 43,
   "id": "aae8b207",
   "metadata": {},
   "outputs": [
    {
     "data": {
      "text/plain": [
       "0.4297224709042077"
      ]
     },
     "execution_count": 43,
     "metadata": {},
     "output_type": "execute_result"
    },
    {
     "data": {
      "application/javascript": "\n            setTimeout(function() {\n                var nbb_cell_id = 43;\n                var nbb_unformatted_code = \"acc_final\";\n                var nbb_formatted_code = \"acc_final\";\n                var nbb_cells = Jupyter.notebook.get_cells();\n                for (var i = 0; i < nbb_cells.length; ++i) {\n                    if (nbb_cells[i].input_prompt_number == nbb_cell_id) {\n                        if (nbb_cells[i].get_text() == nbb_unformatted_code) {\n                             nbb_cells[i].set_text(nbb_formatted_code);\n                        }\n                        break;\n                    }\n                }\n            }, 500);\n            ",
      "text/plain": [
       "<IPython.core.display.Javascript object>"
      ]
     },
     "metadata": {},
     "output_type": "display_data"
    }
   ],
   "source": [
    "acc_final"
   ]
  },
  {
   "cell_type": "code",
   "execution_count": 44,
   "id": "c099246b",
   "metadata": {},
   "outputs": [
    {
     "data": {
      "text/plain": [
       "0.4075067024128686"
      ]
     },
     "execution_count": 44,
     "metadata": {},
     "output_type": "execute_result"
    },
    {
     "data": {
      "application/javascript": "\n            setTimeout(function() {\n                var nbb_cell_id = 44;\n                var nbb_unformatted_code = \"pred_test_svd_label = [perm_final[i] for i in pred_test_svd]\\naccuracy_score(y_test.values, pred_test_svd_label)\";\n                var nbb_formatted_code = \"pred_test_svd_label = [perm_final[i] for i in pred_test_svd]\\naccuracy_score(y_test.values, pred_test_svd_label)\";\n                var nbb_cells = Jupyter.notebook.get_cells();\n                for (var i = 0; i < nbb_cells.length; ++i) {\n                    if (nbb_cells[i].input_prompt_number == nbb_cell_id) {\n                        if (nbb_cells[i].get_text() == nbb_unformatted_code) {\n                             nbb_cells[i].set_text(nbb_formatted_code);\n                        }\n                        break;\n                    }\n                }\n            }, 500);\n            ",
      "text/plain": [
       "<IPython.core.display.Javascript object>"
      ]
     },
     "metadata": {},
     "output_type": "display_data"
    }
   ],
   "source": [
    "pred_test_svd_label = [perm_final[i] for i in pred_test_svd]\n",
    "accuracy_score(y_test.values, pred_test_svd_label)"
   ]
  },
  {
   "cell_type": "markdown",
   "id": "9d970a60",
   "metadata": {},
   "source": [
    "The resulting accuracies show that the model has some predictive power, as random choice would result in 20% accuracy, but is far worse than the baseline model previously fitted. Matrix factorization can also be used as a preprocessing step for dimentionality reduction. This might be very valuable as TfIdf vectorization produces vectors with the same length as the vocaculary."
   ]
  },
  {
   "cell_type": "markdown",
   "id": "809f6756",
   "metadata": {},
   "source": [
    "In order to fully understand these three methods and how they compare to each other, a more exhaustive comparison will be constructed by fitting the three models in different subsets of the data and recording statistics like accuracy and training time."
   ]
  },
  {
   "cell_type": "code",
   "execution_count": 45,
   "id": "ff6e3987",
   "metadata": {},
   "outputs": [
    {
     "data": {
      "application/javascript": "\n            setTimeout(function() {\n                var nbb_cell_id = 45;\n                var nbb_unformatted_code = \"n_components_test = [2,5,10,20,50,100]\\ntable_cols = ['Sample','knn_test','knn_time','knn_time_pred','svd_test','svd_time','svd_time_pred',\\n             f'svd_knn_test',f'svd_knn_time',f'svd_knn_time_pred','k','dims']\\ntable_comp_svd_knn = pd.DataFrame(columns= table_cols)\";\n                var nbb_formatted_code = \"n_components_test = [2, 5, 10, 20, 50, 100]\\ntable_cols = [\\n    \\\"Sample\\\",\\n    \\\"knn_test\\\",\\n    \\\"knn_time\\\",\\n    \\\"knn_time_pred\\\",\\n    \\\"svd_test\\\",\\n    \\\"svd_time\\\",\\n    \\\"svd_time_pred\\\",\\n    f\\\"svd_knn_test\\\",\\n    f\\\"svd_knn_time\\\",\\n    f\\\"svd_knn_time_pred\\\",\\n    \\\"k\\\",\\n    \\\"dims\\\",\\n]\\ntable_comp_svd_knn = pd.DataFrame(columns=table_cols)\";\n                var nbb_cells = Jupyter.notebook.get_cells();\n                for (var i = 0; i < nbb_cells.length; ++i) {\n                    if (nbb_cells[i].input_prompt_number == nbb_cell_id) {\n                        if (nbb_cells[i].get_text() == nbb_unformatted_code) {\n                             nbb_cells[i].set_text(nbb_formatted_code);\n                        }\n                        break;\n                    }\n                }\n            }, 500);\n            ",
      "text/plain": [
       "<IPython.core.display.Javascript object>"
      ]
     },
     "metadata": {},
     "output_type": "display_data"
    }
   ],
   "source": [
    "n_components_test = [2, 5, 10, 20, 50, 100]\n",
    "table_cols = [\n",
    "    \"Sample\",\n",
    "    \"knn_test\",\n",
    "    \"knn_time\",\n",
    "    \"knn_time_pred\",\n",
    "    \"svd_test\",\n",
    "    \"svd_time\",\n",
    "    \"svd_time_pred\",\n",
    "    f\"svd_knn_test\",\n",
    "    f\"svd_knn_time\",\n",
    "    f\"svd_knn_time_pred\",\n",
    "    \"k\",\n",
    "    \"dims\",\n",
    "]\n",
    "table_comp_svd_knn = pd.DataFrame(columns=table_cols)"
   ]
  },
  {
   "cell_type": "code",
   "execution_count": 46,
   "id": "8d4c8ae1",
   "metadata": {},
   "outputs": [
    {
     "name": "stdout",
     "output_type": "stream",
     "text": [
      "0\n",
      "1\n",
      "2\n",
      "3\n",
      "4\n",
      "5\n",
      "6\n",
      "7\n",
      "8\n",
      "9\n"
     ]
    },
    {
     "data": {
      "application/javascript": "\n            setTimeout(function() {\n                var nbb_cell_id = 46;\n                var nbb_unformatted_code = \"knn_sample = KNeighborsClassifier()\\nn_sims = 10\\nfor i in range(n_sims):\\n    print(i)\\n    # Data prep\\n    y_train_sim = y_train.iloc[:int(len(y_train)*(i+1)/(n_sims))]\\n    x_train_vectorized_sim = x_train_vectorized[:int(len(y_train)*(i+1)/(n_sims)),:]\\n    # KNN\\n    knn_gridcv_sample = GridSearchCV(\\n        knn_sample, \\n        param_grid={\\\"n_neighbors\\\": [n for n in N_NEIGH_LIST if n*5/4 < len(y_train_sim)]},\\n    )\\n    t0 = time.time_ns()\\n    knn_gridcv_sample.fit(x_train_vectorized_sim, y_train_sim)\\n    knn_sample = knn_gridcv_sample.best_estimator_\\n    t0_pred = time.time_ns()\\n    y_test_pred_sim = knn_sample.predict(x_test_vectorized)\\n    t1_pred = time.time_ns()\\n    knn_test_score = accuracy_score(y_test, y_test_pred_sim)\\n    t1 = time.time_ns()\\n    # SVD\\n    sklearn_svd_sim = TruncatedSVD(n_components=5)\\n    pred_train_svd_sim = np.argmax(sklearn_svd_sim.fit_transform(x_train_vectorized_sim), axis=1)\\n    perm_final_sim, svd_train_score = perm_acc_nmf(classes, pred_train_svd_sim, y_train_sim)\\n    t2_pred = time.time_ns()    \\n    pred_test_svd_sim = np.argmax(sklearn_svd_sim.transform(x_test_vectorized), axis=1)\\n    pred_test_svd_label_sim = [perm_final_sim[i] for i in pred_test_svd_sim]\\n    t3_pred = time.time_ns()    \\n    svd_test_score = accuracy_score(y_test.values, pred_test_svd_label_sim)\\n    t2 = time.time_ns()\\n    # SVD + KNN\\n    best_res = [0, None, None, None, None]\\n    for comp in n_components_test:\\n        sklearn_svd_sim = TruncatedSVD(n_components=comp)\\n        t0_comp = time.time_ns()\\n        train_svd_knn_sim = sklearn_svd_sim.fit_transform(x_train_vectorized_sim)\\n        knn_gridcv_sample.fit(train_svd_knn_sim, y_train_sim)\\n        knn_sample_comp = knn_gridcv_sample.best_estimator_\\n        t0_pred_comp = time.time_ns()\\n        x_test_vectorized_comp = sklearn_svd_sim.transform(x_test_vectorized)\\n        y_test_pred_sim = knn_sample_comp.predict(x_test_vectorized_comp)\\n        t1_pred_comp = time.time_ns()\\n        svd_knn_test_score = accuracy_score(y_test, y_test_pred_sim)\\n        t1_comp = time.time_ns()\\n        if svd_knn_test_score > best_res[0]:\\n            best_res = [\\n                svd_knn_test_score,\\n                (t1_comp - t0_comp) / 1000000,\\n                (t1_pred_comp - t0_pred_comp) / 1000000,\\n                knn_sample_comp.n_neighbors,\\n                comp\\n            ]\\n        \\n        \\n    # Results\\n    table_comp_svd_knn.loc[i] = [\\n        (i+1)/(n_sims),\\n        knn_test_score,\\n        (t1 - t0) / 1000000,\\n        (t1_pred - t0_pred) / 1000000,\\n        svd_test_score,\\n        (t2 - t1) / 1000000,\\n        (t3_pred - t2_pred) / 1000000,\\n    ]+best_res\\n    \\n    \";\n                var nbb_formatted_code = \"knn_sample = KNeighborsClassifier()\\nn_sims = 10\\nfor i in range(n_sims):\\n    print(i)\\n    # Data prep\\n    y_train_sim = y_train.iloc[: int(len(y_train) * (i + 1) / (n_sims))]\\n    x_train_vectorized_sim = x_train_vectorized[\\n        : int(len(y_train) * (i + 1) / (n_sims)), :\\n    ]\\n    # KNN\\n    knn_gridcv_sample = GridSearchCV(\\n        knn_sample,\\n        param_grid={\\n            \\\"n_neighbors\\\": [n for n in N_NEIGH_LIST if n * 5 / 4 < len(y_train_sim)]\\n        },\\n    )\\n    t0 = time.time_ns()\\n    knn_gridcv_sample.fit(x_train_vectorized_sim, y_train_sim)\\n    knn_sample = knn_gridcv_sample.best_estimator_\\n    t0_pred = time.time_ns()\\n    y_test_pred_sim = knn_sample.predict(x_test_vectorized)\\n    t1_pred = time.time_ns()\\n    knn_test_score = accuracy_score(y_test, y_test_pred_sim)\\n    t1 = time.time_ns()\\n    # SVD\\n    sklearn_svd_sim = TruncatedSVD(n_components=5)\\n    pred_train_svd_sim = np.argmax(\\n        sklearn_svd_sim.fit_transform(x_train_vectorized_sim), axis=1\\n    )\\n    perm_final_sim, svd_train_score = perm_acc_nmf(\\n        classes, pred_train_svd_sim, y_train_sim\\n    )\\n    t2_pred = time.time_ns()\\n    pred_test_svd_sim = np.argmax(sklearn_svd_sim.transform(x_test_vectorized), axis=1)\\n    pred_test_svd_label_sim = [perm_final_sim[i] for i in pred_test_svd_sim]\\n    t3_pred = time.time_ns()\\n    svd_test_score = accuracy_score(y_test.values, pred_test_svd_label_sim)\\n    t2 = time.time_ns()\\n    # SVD + KNN\\n    best_res = [0, None, None, None, None]\\n    for comp in n_components_test:\\n        sklearn_svd_sim = TruncatedSVD(n_components=comp)\\n        t0_comp = time.time_ns()\\n        train_svd_knn_sim = sklearn_svd_sim.fit_transform(x_train_vectorized_sim)\\n        knn_gridcv_sample.fit(train_svd_knn_sim, y_train_sim)\\n        knn_sample_comp = knn_gridcv_sample.best_estimator_\\n        t0_pred_comp = time.time_ns()\\n        x_test_vectorized_comp = sklearn_svd_sim.transform(x_test_vectorized)\\n        y_test_pred_sim = knn_sample_comp.predict(x_test_vectorized_comp)\\n        t1_pred_comp = time.time_ns()\\n        svd_knn_test_score = accuracy_score(y_test, y_test_pred_sim)\\n        t1_comp = time.time_ns()\\n        if svd_knn_test_score > best_res[0]:\\n            best_res = [\\n                svd_knn_test_score,\\n                (t1_comp - t0_comp) / 1000000,\\n                (t1_pred_comp - t0_pred_comp) / 1000000,\\n                knn_sample_comp.n_neighbors,\\n                comp,\\n            ]\\n\\n    # Results\\n    table_comp_svd_knn.loc[i] = [\\n        (i + 1) / (n_sims),\\n        knn_test_score,\\n        (t1 - t0) / 1000000,\\n        (t1_pred - t0_pred) / 1000000,\\n        svd_test_score,\\n        (t2 - t1) / 1000000,\\n        (t3_pred - t2_pred) / 1000000,\\n    ] + best_res\";\n                var nbb_cells = Jupyter.notebook.get_cells();\n                for (var i = 0; i < nbb_cells.length; ++i) {\n                    if (nbb_cells[i].input_prompt_number == nbb_cell_id) {\n                        if (nbb_cells[i].get_text() == nbb_unformatted_code) {\n                             nbb_cells[i].set_text(nbb_formatted_code);\n                        }\n                        break;\n                    }\n                }\n            }, 500);\n            ",
      "text/plain": [
       "<IPython.core.display.Javascript object>"
      ]
     },
     "metadata": {},
     "output_type": "display_data"
    }
   ],
   "source": [
    "knn_sample = KNeighborsClassifier()\n",
    "n_sims = 10\n",
    "for i in range(n_sims):\n",
    "    print(i)\n",
    "    # Data prep\n",
    "    y_train_sim = y_train.iloc[: int(len(y_train) * (i + 1) / (n_sims))]\n",
    "    x_train_vectorized_sim = x_train_vectorized[\n",
    "        : int(len(y_train) * (i + 1) / (n_sims)), :\n",
    "    ]\n",
    "    # KNN\n",
    "    knn_gridcv_sample = GridSearchCV(\n",
    "        knn_sample,\n",
    "        param_grid={\n",
    "            \"n_neighbors\": [n for n in N_NEIGH_LIST if n * 5 / 4 < len(y_train_sim)]\n",
    "        },\n",
    "    )\n",
    "    t0 = time.time_ns()\n",
    "    knn_gridcv_sample.fit(x_train_vectorized_sim, y_train_sim)\n",
    "    knn_sample = knn_gridcv_sample.best_estimator_\n",
    "    t0_pred = time.time_ns()\n",
    "    y_test_pred_sim = knn_sample.predict(x_test_vectorized)\n",
    "    t1_pred = time.time_ns()\n",
    "    knn_test_score = accuracy_score(y_test, y_test_pred_sim)\n",
    "    t1 = time.time_ns()\n",
    "    # SVD\n",
    "    sklearn_svd_sim = TruncatedSVD(n_components=5)\n",
    "    pred_train_svd_sim = np.argmax(\n",
    "        sklearn_svd_sim.fit_transform(x_train_vectorized_sim), axis=1\n",
    "    )\n",
    "    perm_final_sim, svd_train_score = perm_acc_nmf(\n",
    "        classes, pred_train_svd_sim, y_train_sim\n",
    "    )\n",
    "    t2_pred = time.time_ns()\n",
    "    pred_test_svd_sim = np.argmax(sklearn_svd_sim.transform(x_test_vectorized), axis=1)\n",
    "    pred_test_svd_label_sim = [perm_final_sim[i] for i in pred_test_svd_sim]\n",
    "    t3_pred = time.time_ns()\n",
    "    svd_test_score = accuracy_score(y_test.values, pred_test_svd_label_sim)\n",
    "    t2 = time.time_ns()\n",
    "    # SVD + KNN\n",
    "    best_res = [0, None, None, None, None]\n",
    "    for comp in n_components_test:\n",
    "        sklearn_svd_sim = TruncatedSVD(n_components=comp)\n",
    "        t0_comp = time.time_ns()\n",
    "        train_svd_knn_sim = sklearn_svd_sim.fit_transform(x_train_vectorized_sim)\n",
    "        knn_gridcv_sample.fit(train_svd_knn_sim, y_train_sim)\n",
    "        knn_sample_comp = knn_gridcv_sample.best_estimator_\n",
    "        t0_pred_comp = time.time_ns()\n",
    "        x_test_vectorized_comp = sklearn_svd_sim.transform(x_test_vectorized)\n",
    "        y_test_pred_sim = knn_sample_comp.predict(x_test_vectorized_comp)\n",
    "        t1_pred_comp = time.time_ns()\n",
    "        svd_knn_test_score = accuracy_score(y_test, y_test_pred_sim)\n",
    "        t1_comp = time.time_ns()\n",
    "        if svd_knn_test_score > best_res[0]:\n",
    "            best_res = [\n",
    "                svd_knn_test_score,\n",
    "                (t1_comp - t0_comp) / 1000000,\n",
    "                (t1_pred_comp - t0_pred_comp) / 1000000,\n",
    "                knn_sample_comp.n_neighbors,\n",
    "                comp,\n",
    "            ]\n",
    "\n",
    "    # Results\n",
    "    table_comp_svd_knn.loc[i] = [\n",
    "        (i + 1) / (n_sims),\n",
    "        knn_test_score,\n",
    "        (t1 - t0) / 1000000,\n",
    "        (t1_pred - t0_pred) / 1000000,\n",
    "        svd_test_score,\n",
    "        (t2 - t1) / 1000000,\n",
    "        (t3_pred - t2_pred) / 1000000,\n",
    "    ] + best_res"
   ]
  },
  {
   "cell_type": "code",
   "execution_count": 47,
   "id": "e95794a5",
   "metadata": {},
   "outputs": [
    {
     "data": {
      "application/javascript": "\n            setTimeout(function() {\n                var nbb_cell_id = 47;\n                var nbb_unformatted_code = \"table_comp_svd_knn.set_index('Sample',inplace=True)\";\n                var nbb_formatted_code = \"table_comp_svd_knn.set_index(\\\"Sample\\\", inplace=True)\";\n                var nbb_cells = Jupyter.notebook.get_cells();\n                for (var i = 0; i < nbb_cells.length; ++i) {\n                    if (nbb_cells[i].input_prompt_number == nbb_cell_id) {\n                        if (nbb_cells[i].get_text() == nbb_unformatted_code) {\n                             nbb_cells[i].set_text(nbb_formatted_code);\n                        }\n                        break;\n                    }\n                }\n            }, 500);\n            ",
      "text/plain": [
       "<IPython.core.display.Javascript object>"
      ]
     },
     "metadata": {},
     "output_type": "display_data"
    }
   ],
   "source": [
    "table_comp_svd_knn.set_index(\"Sample\", inplace=True)"
   ]
  },
  {
   "cell_type": "code",
   "execution_count": 48,
   "id": "868ab351",
   "metadata": {},
   "outputs": [
    {
     "data": {
      "application/javascript": "\n            setTimeout(function() {\n                var nbb_cell_id = 48;\n                var nbb_unformatted_code = \"def line_plots(df,cols_to_plot, title='', x_label='Sample'):\\n    fig, ax = plt.subplots()\\n    ax.plot(df[cols_to_plot])\\n    ax.legend(cols_to_plot)\\n    ax.set_title(title)\\n    ax.set_xlabel(x_label)\\n    return fig\";\n                var nbb_formatted_code = \"def line_plots(df, cols_to_plot, title=\\\"\\\", x_label=\\\"Sample\\\"):\\n    fig, ax = plt.subplots()\\n    ax.plot(df[cols_to_plot])\\n    ax.legend(cols_to_plot)\\n    ax.set_title(title)\\n    ax.set_xlabel(x_label)\\n    return fig\";\n                var nbb_cells = Jupyter.notebook.get_cells();\n                for (var i = 0; i < nbb_cells.length; ++i) {\n                    if (nbb_cells[i].input_prompt_number == nbb_cell_id) {\n                        if (nbb_cells[i].get_text() == nbb_unformatted_code) {\n                             nbb_cells[i].set_text(nbb_formatted_code);\n                        }\n                        break;\n                    }\n                }\n            }, 500);\n            ",
      "text/plain": [
       "<IPython.core.display.Javascript object>"
      ]
     },
     "metadata": {},
     "output_type": "display_data"
    }
   ],
   "source": [
    "def line_plots(df, cols_to_plot, title=\"\", x_label=\"Sample\"):\n",
    "    fig, ax = plt.subplots()\n",
    "    ax.plot(df[cols_to_plot])\n",
    "    ax.legend(cols_to_plot)\n",
    "    ax.set_title(title)\n",
    "    ax.set_xlabel(x_label)\n",
    "    return fig"
   ]
  },
  {
   "cell_type": "markdown",
   "id": "0d516cc9",
   "metadata": {},
   "source": [
    "The resulting model parameters from the cross validation of the composed model K and the number of dimensions, stay relatively stable around 10 while the size of the training set increases."
   ]
  },
  {
   "cell_type": "code",
   "execution_count": 49,
   "id": "218402bd",
   "metadata": {},
   "outputs": [
    {
     "data": {
      "image/png": "[encoded data removed]",
      "text/plain": [
       "<Figure size 432x288 with 1 Axes>"
      ]
     },
     "metadata": {
      "needs_background": "light"
     },
     "output_type": "display_data"
    },
    {
     "data": {
      "application/javascript": "\n            setTimeout(function() {\n                var nbb_cell_id = 49;\n                var nbb_unformatted_code = \"cols_to_plot = ['k','dims']\\nmodel_desc = line_plots(table_comp_svd_knn, cols_to_plot, 'Model parameters')\";\n                var nbb_formatted_code = \"cols_to_plot = [\\\"k\\\", \\\"dims\\\"]\\nmodel_desc = line_plots(table_comp_svd_knn, cols_to_plot, \\\"Model parameters\\\")\";\n                var nbb_cells = Jupyter.notebook.get_cells();\n                for (var i = 0; i < nbb_cells.length; ++i) {\n                    if (nbb_cells[i].input_prompt_number == nbb_cell_id) {\n                        if (nbb_cells[i].get_text() == nbb_unformatted_code) {\n                             nbb_cells[i].set_text(nbb_formatted_code);\n                        }\n                        break;\n                    }\n                }\n            }, 500);\n            ",
      "text/plain": [
       "<IPython.core.display.Javascript object>"
      ]
     },
     "metadata": {},
     "output_type": "display_data"
    }
   ],
   "source": [
    "cols_to_plot = [\"k\", \"dims\"]\n",
    "model_desc = line_plots(table_comp_svd_knn, cols_to_plot, \"Model parameters\")"
   ]
  },
  {
   "cell_type": "markdown",
   "id": "3dd5ce38",
   "metadata": {},
   "source": [
    "The following plot shows that the test set accuracy of the composed model is similar to the accuracy of the KNN model after the training set grows to a critical size of around 30% of the dataset."
   ]
  },
  {
   "cell_type": "code",
   "execution_count": 50,
   "id": "0dbebb44",
   "metadata": {},
   "outputs": [
    {
     "data": {
      "image/png": "[encoded data removed]",
      "text/plain": [
       "<Figure size 432x288 with 1 Axes>"
      ]
     },
     "metadata": {
      "needs_background": "light"
     },
     "output_type": "display_data"
    },
    {
     "data": {
      "application/javascript": "\n            setTimeout(function() {\n                var nbb_cell_id = 50;\n                var nbb_unformatted_code = \"cols_to_plot=['knn_test','svd_test','svd_knn_test']\\ntest_acc_fig = line_plots(table_comp_svd_knn, cols_to_plot, 'Test accuracy')\";\n                var nbb_formatted_code = \"cols_to_plot = [\\\"knn_test\\\", \\\"svd_test\\\", \\\"svd_knn_test\\\"]\\ntest_acc_fig = line_plots(table_comp_svd_knn, cols_to_plot, \\\"Test accuracy\\\")\";\n                var nbb_cells = Jupyter.notebook.get_cells();\n                for (var i = 0; i < nbb_cells.length; ++i) {\n                    if (nbb_cells[i].input_prompt_number == nbb_cell_id) {\n                        if (nbb_cells[i].get_text() == nbb_unformatted_code) {\n                             nbb_cells[i].set_text(nbb_formatted_code);\n                        }\n                        break;\n                    }\n                }\n            }, 500);\n            ",
      "text/plain": [
       "<IPython.core.display.Javascript object>"
      ]
     },
     "metadata": {},
     "output_type": "display_data"
    }
   ],
   "source": [
    "cols_to_plot = [\"knn_test\", \"svd_test\", \"svd_knn_test\"]\n",
    "test_acc_fig = line_plots(table_comp_svd_knn, cols_to_plot, \"Test accuracy\")"
   ]
  },
  {
   "cell_type": "markdown",
   "id": "7f8f99f7",
   "metadata": {},
   "source": [
    "While the accuracy of the composed model is similar to the accuracy of the KNN, the reduction in computational time is very large and grows larger as the dataset increases in size. The following two plots show one of the advantages of dimensionality reduction techniques."
   ]
  },
  {
   "cell_type": "code",
   "execution_count": 51,
   "id": "e079ba5b",
   "metadata": {},
   "outputs": [
    {
     "data": {
      "image/png": "[encoded data removed]",
      "text/plain": [
       "<Figure size 432x288 with 1 Axes>"
      ]
     },
     "metadata": {
      "needs_background": "light"
     },
     "output_type": "display_data"
    },
    {
     "data": {
      "application/javascript": "\n            setTimeout(function() {\n                var nbb_cell_id = 51;\n                var nbb_unformatted_code = \"cols_to_plot=['knn_time','svd_time','svd_knn_time']\\ntraining_time_fig = line_plots(table_comp_svd_knn, cols_to_plot, 'Training time')\";\n                var nbb_formatted_code = \"cols_to_plot = [\\\"knn_time\\\", \\\"svd_time\\\", \\\"svd_knn_time\\\"]\\ntraining_time_fig = line_plots(table_comp_svd_knn, cols_to_plot, \\\"Training time\\\")\";\n                var nbb_cells = Jupyter.notebook.get_cells();\n                for (var i = 0; i < nbb_cells.length; ++i) {\n                    if (nbb_cells[i].input_prompt_number == nbb_cell_id) {\n                        if (nbb_cells[i].get_text() == nbb_unformatted_code) {\n                             nbb_cells[i].set_text(nbb_formatted_code);\n                        }\n                        break;\n                    }\n                }\n            }, 500);\n            ",
      "text/plain": [
       "<IPython.core.display.Javascript object>"
      ]
     },
     "metadata": {},
     "output_type": "display_data"
    }
   ],
   "source": [
    "cols_to_plot = [\"knn_time\", \"svd_time\", \"svd_knn_time\"]\n",
    "training_time_fig = line_plots(table_comp_svd_knn, cols_to_plot, \"Training time\")"
   ]
  },
  {
   "cell_type": "code",
   "execution_count": 52,
   "id": "568ce9b8",
   "metadata": {},
   "outputs": [
    {
     "data": {
      "image/png": "[encoded data removed]",
      "text/plain": [
       "<Figure size 432x288 with 1 Axes>"
      ]
     },
     "metadata": {
      "needs_background": "light"
     },
     "output_type": "display_data"
    },
    {
     "data": {
      "application/javascript": "\n            setTimeout(function() {\n                var nbb_cell_id = 52;\n                var nbb_unformatted_code = \"cols_to_plot=['knn_time','svd_time','svd_knn_time_pred']\\ntraining_time_fig = line_plots(table_comp_svd_knn, cols_to_plot, 'Predicting time')\";\n                var nbb_formatted_code = \"cols_to_plot = [\\\"knn_time\\\", \\\"svd_time\\\", \\\"svd_knn_time_pred\\\"]\\ntraining_time_fig = line_plots(table_comp_svd_knn, cols_to_plot, \\\"Predicting time\\\")\";\n                var nbb_cells = Jupyter.notebook.get_cells();\n                for (var i = 0; i < nbb_cells.length; ++i) {\n                    if (nbb_cells[i].input_prompt_number == nbb_cell_id) {\n                        if (nbb_cells[i].get_text() == nbb_unformatted_code) {\n                             nbb_cells[i].set_text(nbb_formatted_code);\n                        }\n                        break;\n                    }\n                }\n            }, 500);\n            ",
      "text/plain": [
       "<IPython.core.display.Javascript object>"
      ]
     },
     "metadata": {},
     "output_type": "display_data"
    }
   ],
   "source": [
    "cols_to_plot = [\"knn_time\", \"svd_time\", \"svd_knn_time_pred\"]\n",
    "training_time_fig = line_plots(table_comp_svd_knn, cols_to_plot, \"Predicting time\")"
   ]
  },
  {
   "cell_type": "markdown",
   "id": "79981a74",
   "metadata": {},
   "source": [
    "Best model"
   ]
  },
  {
   "cell_type": "code",
   "execution_count": 53,
   "id": "a96c008f",
   "metadata": {},
   "outputs": [
    {
     "data": {
      "application/javascript": "\n            setTimeout(function() {\n                var nbb_cell_id = 53;\n                var nbb_unformatted_code = \"k, dim = tuple(table_comp_svd_knn.iloc[-1,-2:])\";\n                var nbb_formatted_code = \"k, dim = tuple(table_comp_svd_knn.iloc[-1, -2:])\";\n                var nbb_cells = Jupyter.notebook.get_cells();\n                for (var i = 0; i < nbb_cells.length; ++i) {\n                    if (nbb_cells[i].input_prompt_number == nbb_cell_id) {\n                        if (nbb_cells[i].get_text() == nbb_unformatted_code) {\n                             nbb_cells[i].set_text(nbb_formatted_code);\n                        }\n                        break;\n                    }\n                }\n            }, 500);\n            ",
      "text/plain": [
       "<IPython.core.display.Javascript object>"
      ]
     },
     "metadata": {},
     "output_type": "display_data"
    }
   ],
   "source": [
    "k, dim = tuple(table_comp_svd_knn.iloc[-1, -2:])"
   ]
  },
  {
   "cell_type": "code",
   "execution_count": 54,
   "id": "0005ef17",
   "metadata": {},
   "outputs": [
    {
     "data": {
      "application/javascript": "\n            setTimeout(function() {\n                var nbb_cell_id = 54;\n                var nbb_unformatted_code = \"sklearn_svd = TruncatedSVD(n_components=int(dim))\\ntrain_svd_knn = sklearn_svd.fit_transform(x_train_vectorized)\\nknn = KNeighborsClassifier(n_neighbors=int(k))\\nknn.fit(train_svd_knn, y_train)\\ntest_svd_knn = sklearn_svd.transform(x_test_vectorized)\\ntest_svd_knn_kaggle = sklearn_svd.transform(x_test_kaggle)\\ny_train_pred = knn.predict(train_svd_knn)\\ny_test_pred = knn.predict(test_svd_knn)\\nsvd_knn_test_score = accuracy_score(y_test, y_test_pred)\";\n                var nbb_formatted_code = \"sklearn_svd = TruncatedSVD(n_components=int(dim))\\ntrain_svd_knn = sklearn_svd.fit_transform(x_train_vectorized)\\nknn = KNeighborsClassifier(n_neighbors=int(k))\\nknn.fit(train_svd_knn, y_train)\\ntest_svd_knn = sklearn_svd.transform(x_test_vectorized)\\ntest_svd_knn_kaggle = sklearn_svd.transform(x_test_kaggle)\\ny_train_pred = knn.predict(train_svd_knn)\\ny_test_pred = knn.predict(test_svd_knn)\\nsvd_knn_test_score = accuracy_score(y_test, y_test_pred)\";\n                var nbb_cells = Jupyter.notebook.get_cells();\n                for (var i = 0; i < nbb_cells.length; ++i) {\n                    if (nbb_cells[i].input_prompt_number == nbb_cell_id) {\n                        if (nbb_cells[i].get_text() == nbb_unformatted_code) {\n                             nbb_cells[i].set_text(nbb_formatted_code);\n                        }\n                        break;\n                    }\n                }\n            }, 500);\n            ",
      "text/plain": [
       "<IPython.core.display.Javascript object>"
      ]
     },
     "metadata": {},
     "output_type": "display_data"
    }
   ],
   "source": [
    "sklearn_svd = TruncatedSVD(n_components=int(dim))\n",
    "train_svd_knn = sklearn_svd.fit_transform(x_train_vectorized)\n",
    "knn = KNeighborsClassifier(n_neighbors=int(k))\n",
    "knn.fit(train_svd_knn, y_train)\n",
    "test_svd_knn = sklearn_svd.transform(x_test_vectorized)\n",
    "test_svd_knn_kaggle = sklearn_svd.transform(x_test_kaggle)\n",
    "y_train_pred = knn.predict(train_svd_knn)\n",
    "y_test_pred = knn.predict(test_svd_knn)\n",
    "svd_knn_test_score = accuracy_score(y_test, y_test_pred)"
   ]
  },
  {
   "cell_type": "code",
   "execution_count": 55,
   "id": "461575ad",
   "metadata": {},
   "outputs": [
    {
     "data": {
      "text/plain": [
       "TruncatedSVD(n_components=10)"
      ]
     },
     "execution_count": 55,
     "metadata": {},
     "output_type": "execute_result"
    },
    {
     "data": {
      "application/javascript": "\n            setTimeout(function() {\n                var nbb_cell_id = 55;\n                var nbb_unformatted_code = \"sklearn_svd\";\n                var nbb_formatted_code = \"sklearn_svd\";\n                var nbb_cells = Jupyter.notebook.get_cells();\n                for (var i = 0; i < nbb_cells.length; ++i) {\n                    if (nbb_cells[i].input_prompt_number == nbb_cell_id) {\n                        if (nbb_cells[i].get_text() == nbb_unformatted_code) {\n                             nbb_cells[i].set_text(nbb_formatted_code);\n                        }\n                        break;\n                    }\n                }\n            }, 500);\n            ",
      "text/plain": [
       "<IPython.core.display.Javascript object>"
      ]
     },
     "metadata": {},
     "output_type": "display_data"
    }
   ],
   "source": [
    "sklearn_svd"
   ]
  },
  {
   "cell_type": "code",
   "execution_count": 56,
   "id": "e76365f5",
   "metadata": {},
   "outputs": [
    {
     "data": {
      "text/plain": [
       "KNeighborsClassifier(n_neighbors=6)"
      ]
     },
     "execution_count": 56,
     "metadata": {},
     "output_type": "execute_result"
    },
    {
     "data": {
      "application/javascript": "\n            setTimeout(function() {\n                var nbb_cell_id = 56;\n                var nbb_unformatted_code = \"knn\";\n                var nbb_formatted_code = \"knn\";\n                var nbb_cells = Jupyter.notebook.get_cells();\n                for (var i = 0; i < nbb_cells.length; ++i) {\n                    if (nbb_cells[i].input_prompt_number == nbb_cell_id) {\n                        if (nbb_cells[i].get_text() == nbb_unformatted_code) {\n                             nbb_cells[i].set_text(nbb_formatted_code);\n                        }\n                        break;\n                    }\n                }\n            }, 500);\n            ",
      "text/plain": [
       "<IPython.core.display.Javascript object>"
      ]
     },
     "metadata": {},
     "output_type": "display_data"
    }
   ],
   "source": [
    "knn"
   ]
  },
  {
   "cell_type": "code",
   "execution_count": 57,
   "id": "562a099d",
   "metadata": {},
   "outputs": [
    {
     "data": {
      "text/plain": [
       "0.9571045576407506"
      ]
     },
     "execution_count": 57,
     "metadata": {},
     "output_type": "execute_result"
    },
    {
     "data": {
      "application/javascript": "\n            setTimeout(function() {\n                var nbb_cell_id = 57;\n                var nbb_unformatted_code = \"svd_knn_test_score\";\n                var nbb_formatted_code = \"svd_knn_test_score\";\n                var nbb_cells = Jupyter.notebook.get_cells();\n                for (var i = 0; i < nbb_cells.length; ++i) {\n                    if (nbb_cells[i].input_prompt_number == nbb_cell_id) {\n                        if (nbb_cells[i].get_text() == nbb_unformatted_code) {\n                             nbb_cells[i].set_text(nbb_formatted_code);\n                        }\n                        break;\n                    }\n                }\n            }, 500);\n            ",
      "text/plain": [
       "<IPython.core.display.Javascript object>"
      ]
     },
     "metadata": {},
     "output_type": "display_data"
    }
   ],
   "source": [
    "svd_knn_test_score"
   ]
  },
  {
   "cell_type": "code",
   "execution_count": 58,
   "id": "53f4e122",
   "metadata": {},
   "outputs": [
    {
     "data": {
      "application/javascript": "\n            setTimeout(function() {\n                var nbb_cell_id = 58;\n                var nbb_unformatted_code = \"y_test_pred_proba = knn.predict_proba(test_svd_knn)\";\n                var nbb_formatted_code = \"y_test_pred_proba = knn.predict_proba(test_svd_knn)\";\n                var nbb_cells = Jupyter.notebook.get_cells();\n                for (var i = 0; i < nbb_cells.length; ++i) {\n                    if (nbb_cells[i].input_prompt_number == nbb_cell_id) {\n                        if (nbb_cells[i].get_text() == nbb_unformatted_code) {\n                             nbb_cells[i].set_text(nbb_formatted_code);\n                        }\n                        break;\n                    }\n                }\n            }, 500);\n            ",
      "text/plain": [
       "<IPython.core.display.Javascript object>"
      ]
     },
     "metadata": {},
     "output_type": "display_data"
    }
   ],
   "source": [
    "y_test_pred_proba = knn.predict_proba(test_svd_knn)"
   ]
  },
  {
   "cell_type": "markdown",
   "id": "6f8f070e",
   "metadata": {},
   "source": [
    "The process outputs a model that achieves similar accuracy than the baseline model and is also considerably simpler and more efficient regarding computation and memory because of the dimensionality reduction."
   ]
  },
  {
   "cell_type": "markdown",
   "id": "adeed3cf",
   "metadata": {},
   "source": [
    "### Final model and submission"
   ]
  },
  {
   "cell_type": "code",
   "execution_count": 59,
   "id": "e82a35dd",
   "metadata": {},
   "outputs": [
    {
     "name": "stdout",
     "output_type": "stream",
     "text": [
      "Final model: \n",
      "    Train accuracy  - 95.43%\n",
      "    Test accuracy   - 95.71%\n",
      "    Input dimension - 10.0\n",
      "    K               - 6.0\n",
      "    \n"
     ]
    },
    {
     "data": {
      "application/javascript": "\n            setTimeout(function() {\n                var nbb_cell_id = 59;\n                var nbb_unformatted_code = \"print(\\n    f\\\"\\\"\\\"Final model: \\n    Train accuracy  - {accuracy_score(y_train,y_train_pred):.2%}\\n    Test accuracy   - {accuracy_score(y_test, y_test_pred):.2%}\\n    Input dimension - {dim}\\n    K               - {k}\\n    \\\"\\\"\\\"\\n)\";\n                var nbb_formatted_code = \"print(\\n    f\\\"\\\"\\\"Final model: \\n    Train accuracy  - {accuracy_score(y_train,y_train_pred):.2%}\\n    Test accuracy   - {accuracy_score(y_test, y_test_pred):.2%}\\n    Input dimension - {dim}\\n    K               - {k}\\n    \\\"\\\"\\\"\\n)\";\n                var nbb_cells = Jupyter.notebook.get_cells();\n                for (var i = 0; i < nbb_cells.length; ++i) {\n                    if (nbb_cells[i].input_prompt_number == nbb_cell_id) {\n                        if (nbb_cells[i].get_text() == nbb_unformatted_code) {\n                             nbb_cells[i].set_text(nbb_formatted_code);\n                        }\n                        break;\n                    }\n                }\n            }, 500);\n            ",
      "text/plain": [
       "<IPython.core.display.Javascript object>"
      ]
     },
     "metadata": {},
     "output_type": "display_data"
    }
   ],
   "source": [
    "print(\n",
    "    f\"\"\"Final model: \n",
    "    Train accuracy  - {accuracy_score(y_train,y_train_pred):.2%}\n",
    "    Test accuracy   - {accuracy_score(y_test, y_test_pred):.2%}\n",
    "    Input dimension - {dim}\n",
    "    K               - {k}\n",
    "    \"\"\"\n",
    ")"
   ]
  },
  {
   "cell_type": "code",
   "execution_count": 60,
   "id": "204e67b1",
   "metadata": {},
   "outputs": [
    {
     "data": {
      "image/png": "[encoded data removed]",
      "text/plain": [
       "<Figure size 576x432 with 1 Axes>"
      ]
     },
     "metadata": {
      "needs_background": "light"
     },
     "output_type": "display_data"
    },
    {
     "data": {
      "application/javascript": "\n            setTimeout(function() {\n                var nbb_cell_id = 60;\n                var nbb_unformatted_code = \"fig, ax = plt.subplots()\\nfor i in range(len(knn.classes_)):\\n    fpr, tpr, _ = roc_curve(\\n        (y_test == knn.classes_[i]).astype(int), y_test_pred_proba[:, i]\\n    )\\n    ax.plot(fpr, tpr)\\nfig.legend(labels=knn.classes_, loc=4, bbox_to_anchor=(0.88, 0.15))\\nfig.set_size_inches(8, 6)\";\n                var nbb_formatted_code = \"fig, ax = plt.subplots()\\nfor i in range(len(knn.classes_)):\\n    fpr, tpr, _ = roc_curve(\\n        (y_test == knn.classes_[i]).astype(int), y_test_pred_proba[:, i]\\n    )\\n    ax.plot(fpr, tpr)\\nfig.legend(labels=knn.classes_, loc=4, bbox_to_anchor=(0.88, 0.15))\\nfig.set_size_inches(8, 6)\";\n                var nbb_cells = Jupyter.notebook.get_cells();\n                for (var i = 0; i < nbb_cells.length; ++i) {\n                    if (nbb_cells[i].input_prompt_number == nbb_cell_id) {\n                        if (nbb_cells[i].get_text() == nbb_unformatted_code) {\n                             nbb_cells[i].set_text(nbb_formatted_code);\n                        }\n                        break;\n                    }\n                }\n            }, 500);\n            ",
      "text/plain": [
       "<IPython.core.display.Javascript object>"
      ]
     },
     "metadata": {},
     "output_type": "display_data"
    }
   ],
   "source": [
    "fig, ax = plt.subplots()\n",
    "for i in range(len(knn.classes_)):\n",
    "    fpr, tpr, _ = roc_curve(\n",
    "        (y_test == knn.classes_[i]).astype(int), y_test_pred_proba[:, i]\n",
    "    )\n",
    "    ax.plot(fpr, tpr)\n",
    "fig.legend(labels=knn.classes_, loc=4, bbox_to_anchor=(0.88, 0.15))\n",
    "fig.set_size_inches(8, 6)"
   ]
  },
  {
   "cell_type": "code",
   "execution_count": 61,
   "id": "a1f03a14",
   "metadata": {},
   "outputs": [
    {
     "data": {
      "application/javascript": "\n            setTimeout(function() {\n                var nbb_cell_id = 61;\n                var nbb_unformatted_code = \"submission = test[['ArticleId']].copy()\";\n                var nbb_formatted_code = \"submission = test[[\\\"ArticleId\\\"]].copy()\";\n                var nbb_cells = Jupyter.notebook.get_cells();\n                for (var i = 0; i < nbb_cells.length; ++i) {\n                    if (nbb_cells[i].input_prompt_number == nbb_cell_id) {\n                        if (nbb_cells[i].get_text() == nbb_unformatted_code) {\n                             nbb_cells[i].set_text(nbb_formatted_code);\n                        }\n                        break;\n                    }\n                }\n            }, 500);\n            ",
      "text/plain": [
       "<IPython.core.display.Javascript object>"
      ]
     },
     "metadata": {},
     "output_type": "display_data"
    }
   ],
   "source": [
    "submission = test[[\"ArticleId\"]].copy()"
   ]
  },
  {
   "cell_type": "code",
   "execution_count": 62,
   "id": "28668678",
   "metadata": {},
   "outputs": [
    {
     "data": {
      "application/javascript": "\n            setTimeout(function() {\n                var nbb_cell_id = 62;\n                var nbb_unformatted_code = \"submission['Category'] = knn.predict(test_svd_knn_kaggle)\";\n                var nbb_formatted_code = \"submission[\\\"Category\\\"] = knn.predict(test_svd_knn_kaggle)\";\n                var nbb_cells = Jupyter.notebook.get_cells();\n                for (var i = 0; i < nbb_cells.length; ++i) {\n                    if (nbb_cells[i].input_prompt_number == nbb_cell_id) {\n                        if (nbb_cells[i].get_text() == nbb_unformatted_code) {\n                             nbb_cells[i].set_text(nbb_formatted_code);\n                        }\n                        break;\n                    }\n                }\n            }, 500);\n            ",
      "text/plain": [
       "<IPython.core.display.Javascript object>"
      ]
     },
     "metadata": {},
     "output_type": "display_data"
    }
   ],
   "source": [
    "submission[\"Category\"] = knn.predict(test_svd_knn_kaggle)"
   ]
  },
  {
   "cell_type": "code",
   "execution_count": 63,
   "id": "b7b99c87",
   "metadata": {},
   "outputs": [
    {
     "data": {
      "application/javascript": "\n            setTimeout(function() {\n                var nbb_cell_id = 63;\n                var nbb_unformatted_code = \"submission.to_csv('submission.csv', index=False)\";\n                var nbb_formatted_code = \"submission.to_csv(\\\"submission.csv\\\", index=False)\";\n                var nbb_cells = Jupyter.notebook.get_cells();\n                for (var i = 0; i < nbb_cells.length; ++i) {\n                    if (nbb_cells[i].input_prompt_number == nbb_cell_id) {\n                        if (nbb_cells[i].get_text() == nbb_unformatted_code) {\n                             nbb_cells[i].set_text(nbb_formatted_code);\n                        }\n                        break;\n                    }\n                }\n            }, 500);\n            ",
      "text/plain": [
       "<IPython.core.display.Javascript object>"
      ]
     },
     "metadata": {},
     "output_type": "display_data"
    }
   ],
   "source": [
    "submission.to_csv(\"submission.csv\", index=False)"
   ]
  },
  {
   "cell_type": "markdown",
   "id": "02c58bf5",
   "metadata": {},
   "source": [
    "### Conclusions"
   ]
  },
  {
   "cell_type": "markdown",
   "id": "d91430e1",
   "metadata": {},
   "source": [
    "* Text data requires strong processing in order to achieve useful vector representations\n",
    "* Matrix factorization is useful for dimensionality reduction\n",
    "* Other models could be tested in order to improve accuracy"
   ]
  },
  {
   "cell_type": "markdown",
   "id": "de679049",
   "metadata": {},
   "source": [
    "### References"
   ]
  },
  {
   "cell_type": "markdown",
   "id": "1d050389",
   "metadata": {},
   "source": [
    "https://scikit-learn.org/stable/modules/generated/sklearn.feature_extraction.text.TfidfVectorizer.html\n"
   ]
  },
  {
   "cell_type": "markdown",
   "id": "6faffb43",
   "metadata": {},
   "source": [
    "https://scikit-learn.org/stable/modules/feature_extraction.html#text-feature-extraction"
   ]
  },
  {
   "cell_type": "markdown",
   "id": "7572ac8e",
   "metadata": {},
   "source": [
    "https://www.analyticsvidhya.com/blog/2021/06/text-preprocessing-in-nlp-with-python-codes/"
   ]
  }
 ],
 "metadata": {
  "kernelspec": {
   "display_name": "Python 3 (ipykernel)",
   "language": "python",
   "name": "python3"
  },
  "language_info": {
   "codemirror_mode": {
    "name": "ipython",
    "version": 3
   },
   "file_extension": ".py",
   "mimetype": "text/x-python",
   "name": "python",
   "nbconvert_exporter": "python",
   "pygments_lexer": "ipython3",
   "version": "3.9.0"
  }
 },
 "nbformat": 4,
 "nbformat_minor": 5
}
